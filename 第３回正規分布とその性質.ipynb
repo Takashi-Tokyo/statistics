{
  "nbformat": 4,
  "nbformat_minor": 0,
  "metadata": {
    "colab": {
      "name": "112_NomDist.ipynb",
      "provenance": [],
      "collapsed_sections": []
    },
    "kernelspec": {
      "name": "python3",
      "display_name": "Python 3"
    },
    "language_info": {
      "name": "python"
    }
  },
  "cells": [
    {
      "cell_type": "code",
      "metadata": {
        "id": "m3Va0JsWA87c"
      },
      "source": [
        "# 必要なモジュールの導入\n",
        "import numpy as np\n",
        "import matplotlib.pyplot as plt\n",
        "import seaborn as sns\n",
        "from scipy.stats import norm, binom"
      ],
      "execution_count": null,
      "outputs": []
    },
    {
      "cell_type": "code",
      "metadata": {
        "id": "LjGpa_AeNqjm"
      },
      "source": [
        "# matplotlibでグラフが描画されないとき，「#」を外してこちらを実行する\n",
        "# %matplotlib inline"
      ],
      "execution_count": null,
      "outputs": []
    },
    {
      "cell_type": "markdown",
      "metadata": {
        "id": "UK-naEbWGRl9"
      },
      "source": [
        "# 準備"
      ]
    },
    {
      "cell_type": "markdown",
      "metadata": {
        "id": "OGGPmH8NEuEw"
      },
      "source": [
        "## モジュール``numpy``について\n",
        "``numpy``は配列処理等が得意なモジュールであり，科学計算でよく利用される．\n",
        "基本的な配列作成の書式は\n",
        "```\n",
        "dice = np.array([1,2,3,4,5,6])\n",
        "```\n",
        "とすればよい．\n",
        "\n",
        "``numpy``の配列においては，すべての要素に対する操作を\n",
        "```\n",
        "np.array([1,2,3,4,5,6]) * 2\n",
        "```\n",
        "などとして容易に行うことができる．\n",
        "\n",
        "次のコードを実行し，結果を観察してみよ．"
      ]
    },
    {
      "cell_type": "code",
      "metadata": {
        "id": "RNC_atMSGbzz"
      },
      "source": [
        "data1 = np.array([1,2,3,4,5,6,7,8,9,10])\n",
        "data2 = np.array([10,9,8,7,6,5,4,3,2,1])\n",
        "print(data1 * 2)\n",
        "print(data1 ** 2)\n",
        "print(data1 * data2)"
      ],
      "execution_count": null,
      "outputs": []
    },
    {
      "cell_type": "markdown",
      "metadata": {
        "id": "qzEpcYj5QFRJ"
      },
      "source": [
        "（観察して気づいたことを記入）"
      ]
    },
    {
      "cell_type": "markdown",
      "metadata": {
        "id": "-dy5Ob4vGqKX"
      },
      "source": [
        "## 乱数生成について\n",
        "ここでは，``numpy``を利用した乱数列を生成する．\n",
        "乱数列を生成することで，疑似的なランダムサンプリングのシミュレートが可能になる．\n",
        "\n",
        "### 乱数の生成\n",
        "``numpy``にはさまざまな乱数生成のメソッドが用意されている．\n",
        "ここでは，一様分布，正規分布，二項分布に従う乱数列をそれぞれ生成してみよう．\n",
        "\n",
        "### 復元抽出と非復元抽出\n",
        "母集団から標本を抽出する方法として，**復元抽出**と**非復元抽出**とがある．\n",
        "Pythonでは，配列から数値を抽出する方法として，``random.choice``がある．\n",
        "\n",
        "例えば，さいころを$100$回投げる実験をシミュレーションするには，以下のように記述すればよい．\n",
        "```\n",
        "dice = np.array([1,2,3,4,5,6])\n",
        "print(np.random.choice(dice, 100, replace = True))\n",
        "```\n",
        "上における``replace``が抽出方法を定めるオプションであり，この値を``True``（，またはこのオプションを省略する）とすると復元抽出，``False``とすると非復元抽出した結果を出力する．\n",
        "\n",
        "次のコードを何回か実行し，その結果について考察せよ．"
      ]
    },
    {
      "cell_type": "code",
      "metadata": {
        "id": "DpqDY4PUPT6k"
      },
      "source": [
        "data = np.array([1,2,3,4,5,6,7,8,9,10])\n",
        "print(np.random.choice(data, 10, replace = True))\n",
        "print(np.random.choice(data, 10, replace = False))"
      ],
      "execution_count": null,
      "outputs": []
    },
    {
      "cell_type": "markdown",
      "metadata": {
        "id": "etZM2gj6QASQ"
      },
      "source": [
        "（考察結果を記入）"
      ]
    },
    {
      "cell_type": "markdown",
      "metadata": {
        "id": "2gwCm7kWGc3C"
      },
      "source": [
        "## モジュール``matplotlib``について\n",
        "``matplotlib``は，データの可視化のためのモジュールである．\n",
        "``matplotlib``を利用することで，ヒストグラムや散布図，さまざまな関数のグラフを描画できる．\n",
        "\n",
        "なお，Jupyter Notebookでグラフが表示できない場合，以下のマジックコマンドを実行しておく．\n",
        "```\n",
        "%matplotlib inline\n",
        "```\n",
        "モジュール``seaborn``は，``matplotlib``と一緒にインポートしておくことで，グラフ描画がきれいになったり，細かなスタイル指定が可能になるものである．\n",
        "\n",
        "関数のグラフを描画するには，以下のようなコードを実行する．\n",
        "```\n",
        "def function(n):\n",
        "  return # 関数の定義式，lambda記法も使える\n",
        "\n",
        "x = np.arange(0,10) # 関数のグラフを描画するx座標の範囲を指定\n",
        "# x = np.linspace(0,10,100) # 区間を100分割するならこちら\n",
        "plt.figure(figsize = (10,3))\n",
        "plt.plot(x, function(x)) # グラフの描画\n",
        "plt.title(\"関数のグラフ\") # グラフタイトル\n",
        "plt.xlabel(\"x軸の名前\") # 軸の名前\n",
        "plt.ylabel(\"y軸の名前\")\n",
        "plt.grid(True) # 描画領域にグリッド（目盛）を記入\n",
        "```\n",
        "ここに書いたコードは，最も素朴なものである．\n",
        "意欲のある人は，``matplotlib``でのグラフ描画について，さらに調べてみるとよい．\n",
        "\n",
        "いくつかの関数について，グラフを描いてみよ．"
      ]
    },
    {
      "cell_type": "code",
      "metadata": {
        "id": "QEUJCXkcHSIa"
      },
      "source": [
        "# コードを記述し，グラフを描いてみよ"
      ],
      "execution_count": null,
      "outputs": []
    },
    {
      "cell_type": "code",
      "metadata": {
        "id": "6zy1VqKtsVBY"
      },
      "source": [
        "# コードを記述し，グラフを描いてみよ"
      ],
      "execution_count": null,
      "outputs": []
    },
    {
      "cell_type": "code",
      "metadata": {
        "id": "3DM_-jbdsUH_",
        "colab": {
          "base_uri": "https://localhost:8080/"
        },
        "outputId": "34951e9f-8576-4978-a567-b6667f37caa9"
      },
      "source": [
        "def cubic(x):\n",
        "  return x**3\n",
        "\n",
        "minus = lambda x: (- x)\n",
        "\n",
        "print(cubic(3))\n",
        "print(minus(-5))"
      ],
      "execution_count": null,
      "outputs": [
        {
          "output_type": "stream",
          "name": "stdout",
          "text": [
            "27\n",
            "5\n"
          ]
        }
      ]
    },
    {
      "cell_type": "markdown",
      "metadata": {
        "id": "ESUdovXATspL"
      },
      "source": [
        "# モジュール`scipy`について\n",
        "`scipy`は，科学計算を得意とするモジュールであるが，詳細は次回以降に触れることにする．"
      ]
    },
    {
      "cell_type": "markdown",
      "metadata": {
        "id": "DEkCKuUisWaw"
      },
      "source": [
        "# 正規分布への近似\n",
        "\n",
        "$5$本に$1$本の割合で当たりがでる，くじ付きの菓子を無作為に$30$個購入する．\n",
        "この$30$個の菓子の中に$8$本以上当たりが含まれる確率を，二項分布の正規分布への近似を利用して求めてみよう．\n",
        "\n",
        "## 利用するツール\n",
        "* 平均と標準偏差が$\\mu$，$\\sigma$である正規分布$N(\\mu, \\sigma)$に従う確率変数$X$の累積分布関数$F(x) = P(X \\geqq x)$は，以下の関数を利用するとよい．\n",
        "```\n",
        "lambda x: norm.cdf(x, loc=mu, scale=sigma)\n",
        "```\n",
        "* 二項分布の分布の様子を理論的に表すグラフの描き方は，以下を参考に．\n",
        "```\n",
        "N, p = 10, 0.1\n",
        "x1 = np.arange(N+1) # x1は0以上(N+1)未満の整数値からなるリスト\n",
        "plt.plot(x1, binom.pmf(x1,N,p), \"o\") # リストx1の中のそれぞれの値に対して二項分布B(N,p)による確率を与える関数のグラフを描画する\n",
        "plt.grid(True) # ここをTrueにすると，描画領域内にグリッドを加える\n",
        "```\n",
        "* 正規分布の確率密度関数のグラフの描き方は，以下を参考に．\n",
        "```\n",
        "m, s = 0, 1\n",
        "x2 = np.arange(-1,1,0.01) # x2は0以上(N+1)未満の実数を0.01刻みで格納するリスト\n",
        "plt.plot(x2,norm.pdf(x2, loc=m, scale=s), linewidth=3) # m，sを平均，標準偏差に持つ正規分布N(m,s)の確率密度関数のグラフを描画する\n",
        "plt.grid(True)\n",
        "```\n",
        "\n",
        "## 考え方\n",
        "\n",
        "1. 菓子のあたりが出る本数を確率変数$X$で表す．$X \\sim B(N,p)$となる$N$，$p$は何であるべきか．\n",
        "2. 確率変数$X$の平均$\\mu = E(X)$と標準偏差$\\sigma = \\sigma(X)$は$N$と$p$からどのように計算されるだろうか．\n",
        "計算式を考えてみよ．\n",
        "3. 確率変数$X$が正規分布$N(\\mu,\\sigma)$に従うとすると，$X \\geqq 8$となる確率は正規分布の累積分布関数からどのように計算すればよいだろうか．\n",
        "4. 二項分布を正規分布とみなして計算することが不自然でないか，それぞれの分布の様子を比較して確かめておこう．\n",
        "いずれも，区間$[0, N]$（すなわち$0 \\leqq x \\leqq N$）でグラフを描画してみよ．"
      ]
    },
    {
      "cell_type": "code",
      "metadata": {
        "id": "f1Aclew4t99W"
      },
      "source": [
        "# コードを記述し，確率を計算せよ\n"
      ],
      "execution_count": null,
      "outputs": []
    },
    {
      "cell_type": "code",
      "metadata": {
        "id": "2ZIFyraBSzbc"
      },
      "source": [
        "# 二項分布と正規分布の分布の様子がかけ離れたものでないか，グラフを描いて確認せよ\n"
      ],
      "execution_count": null,
      "outputs": []
    },
    {
      "cell_type": "markdown",
      "metadata": {
        "id": "kfwhrmR03LZD"
      },
      "source": [
        "（考察を記入）"
      ]
    },
    {
      "cell_type": "markdown",
      "metadata": {
        "id": "5cgv0DfqGFHg"
      },
      "source": [
        "# 実験: 大数の法則\n",
        "下のコードにおいて，さいころを投げる回数``N``をさまざまに設定し，出る目の平均値がどのような値に近づいていくかを観察してみよう．"
      ]
    },
    {
      "cell_type": "code",
      "metadata": {
        "id": "vnPmdQPYAdfM"
      },
      "source": [
        "# 大数の法則\n",
        "\n",
        "# 試行回数（ここを変化させてみる）\n",
        "N = 10\n",
        "\n",
        "# さいころ\n",
        "dice = np.array([1,2,3,4,5,6])\n",
        "counter = np.arange(1, N+1)\n",
        "\n",
        "# さいころの目の和\n",
        "throw = np.random.choice(dice, N).cumsum()\n",
        "plt.plot(throw / counter)\n",
        "plt.xlabel(\"N\")\n",
        "plt.ylabel(\"Mean\")\n",
        "plt.grid(True)"
      ],
      "execution_count": null,
      "outputs": []
    },
    {
      "cell_type": "markdown",
      "metadata": {
        "id": "gpbk9wFxGIpd"
      },
      "source": [
        "# 実験: 中心極限定理\n",
        "\n",
        "いくつかの分布に従う乱数列の標本平均からなるデータが，その大きさを大きくしたときにどのように分布するか，観察してみよう．\n",
        "\n",
        "以下の手順で乱数の標本平均の抽出を繰り返し，標本平均の分布について調べよ．\n",
        "- 二項分布$B(N,p)$，正規分布$N(m,s^2)$，一様分布$U(\\alpha,\\beta)$に従う乱数を$k =$ `size`個生成する．\n",
        "\n",
        "- 得られた$k$個の標本$[x_1,x_2,\\ldots,x_k]$に対して，標本平均をとる:\n",
        "$$\n",
        "\\overline{x} = \\frac{1}{k} \\sum_{i=1}^k x_i\n",
        "$$\n",
        "\n",
        "- この標本平均とる操作を$n =$ `times`回繰り返し，標本平均からなる配列$[ {\\overline{x}}_1,{\\overline{x}}_2,\\ldots,{\\overline{x}}_n]$をつくる．\n",
        "\n",
        "- 得られた標本平均からなる配列をデータとするヒストグラムを描画する．\n",
        "\n",
        "$k$（`size`）や$n$（`times`）の値を増減させると，標本平均の分布の様子はどのように変化するだろうか，観察し，まとめよ．\n",
        "\n",
        "なお，下のコードでは，それぞれの分布から取り出された乱数の標本平均の分布の様子を読み取りやすくするために，$3$つの分布$B(N,p)$，$N(m,s^2)$，$U(\\alpha,\\beta)$の平均と標準偏差が等しくなるように設計している．\n",
        "また，中心極限定理の主張する正規分布のグラフを，理論値として描画されるようにしている．\n",
        "考察の参考にされたい．"
      ]
    },
    {
      "cell_type": "code",
      "metadata": {
        "id": "-XeNniaJ8Qw0"
      },
      "source": [
        "# 二項分布B(N,p)のNとpを設定（ここのNは大きい値に設定しなくてよい）\n",
        "N, p = 50, .5\n",
        "\n",
        "# 1回に抽出する標本の大きさを設定（このsizeを大きくするとそれぞれのヒストグラムの形状はどうなるか）\n",
        "size = 10\n",
        "\n",
        "# 標本平均をとる回数を設定（timesは何回標本平均をとるか→描画するヒストグラムのデータ数）\n",
        "times = 10\n",
        "\n",
        "# スタージェスの公式からくる，程よいとされるヒストグラムの階級数\n",
        "# k = 1 + np.log2(times)\n",
        "\n",
        "# 以下は自動的に計算される（中身を書き換えて遊んでもいいけど，触らなくても実験ができるように設計しています）\n",
        "\n",
        "# 二項分布の平均mと標準偏差s→正規分布N(m,s^2)に従う標本と分布の様子が似てくるはず\n",
        "m = N * p\n",
        "s = (N * p * (1-p))**0.5\n",
        "\n",
        "# 一様分布U(alpha,beta)の平均と分散の式（cf.311_ContDist.pdf）からalpha,betaの値を求める\n",
        "alpha, beta = m - s * (3.0 ** 0.5), m + s * (3.0 ** 0.5)\n",
        "\n",
        "# 中心極限定理の主張する，標本平均の分布が近づくとされる正規分布の理論的な平均と標準偏差\n",
        "mu = m\n",
        "sigma = s / (size ** 0.5)\n",
        "\n",
        "# 標本平均を収集する配列（まずは空列として用意）\n",
        "bin_mean_array = np.array([])\n",
        "norm_mean_array = np.array([])\n",
        "uni_mean_array = np.array([])\n",
        "\n",
        "# 二項分布に従うデータからsize個のデータを抽出し，標本平均をとる操作をtimes回行う\n",
        "for i in range(times):\n",
        "  cum_variables = np.random.binomial(N,p,size).cumsum() # B(N,p)に従う乱数をsize個取り出したものを配列にし，その累積和（cumsum）をとる\n",
        "  bin_mean_array = np.append(bin_mean_array, cum_variables[-1] / size) # 上の累積和の結果をsizeで割り平均をとり，配列bin_mean_arrayに加える\n",
        "\n",
        "# 正規分布に従うデータからsize個のデータを抽出し，標本平均をとる操作をtimes回行う\n",
        "for i in range(times):\n",
        "  cum_variables = np.random.normal(m,s,size).cumsum()\n",
        "  norm_mean_array = np.append(norm_mean_array, cum_variables[-1] / size)\n",
        "\n",
        "# 一様分布に従うデータからsize個のデータを抽出し，標本平均をとる操作をtimes回行う\n",
        "for i in range(times):\n",
        "  cum_variables = (np.random.rand(size) * (beta - alpha) + alpha).cumsum()\n",
        "  uni_mean_array = np.append(uni_mean_array, cum_variables[-1] / size)\n",
        "\n",
        "# ヒストグラムの描画\n",
        "plt.figure(figsize=(20,6))\n",
        "x = np.arange(mu - 3*sigma,mu + 3*sigma,.01) #理論的な正規分布の描画範囲\n",
        "\n",
        "# 二項分布からの標本平均のヒストグラム\n",
        "plt.subplot(1,3,1)\n",
        "plt.hist(bin_mean_array,density=True,color=\"blue\",alpha=.5)\n",
        "y1 = norm.pdf(x, loc = mu, scale = sigma) # 中心極限定理の正規分布の描画\n",
        "plt.plot(x,y1,linewidth=3,color=\"red\")\n",
        "plt.grid(True)\n",
        "plt.title(\"From Binomial Distribution\")\n",
        "\n",
        "# 正規分布からの標本平均のヒストグラム\n",
        "plt.subplot(1,3,2)\n",
        "plt.hist(norm_mean_array,density=True,color=\"blue\",alpha=.5)\n",
        "y2 = norm.pdf(x, loc = mu, scale = sigma)\n",
        "plt.plot(x,y2,linewidth=3,color=\"red\")\n",
        "plt.grid(True)\n",
        "plt.title(\"From Normal Distribution\")\n",
        "\n",
        "# 一様分布からの標本平均のヒストグラム\n",
        "plt.subplot(1,3,3)\n",
        "plt.hist(uni_mean_array,density=True,color=\"blue\",alpha=.5)\n",
        "y3 = norm.pdf(x, loc = mu, scale = sigma)\n",
        "plt.plot(x,y3,linewidth=3,color=\"red\")\n",
        "plt.grid(True)\n",
        "plt.title(\"From Uniforim Distribution\")\n"
      ],
      "execution_count": null,
      "outputs": []
    },
    {
      "cell_type": "markdown",
      "metadata": {
        "id": "HbkKIfjRkN6n"
      },
      "source": [
        "（ここに考察を記入する）"
      ]
    },
    {
      "cell_type": "markdown",
      "metadata": {
        "id": "iUaGjYFTj5EZ"
      },
      "source": [
        "＜本授業の学び＞\n",
        "本授業で学んだことを，下のテキストボックスに記入して下さい．"
      ]
    },
    {
      "cell_type": "markdown",
      "metadata": {
        "id": "VVb8ZkNgkfKX"
      },
      "source": [
        "（ここに本授業の学びを記入する）"
      ]
    }
  ]
}