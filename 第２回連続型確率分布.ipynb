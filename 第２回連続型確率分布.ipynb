{
  "nbformat": 4,
  "nbformat_minor": 0,
  "metadata": {
    "colab": {
      "name": "111_ContDist.ipynb",
      "provenance": [],
      "collapsed_sections": []
    },
    "kernelspec": {
      "name": "python3",
      "display_name": "Python 3"
    },
    "language_info": {
      "name": "python"
    }
  },
  "cells": [
    {
      "cell_type": "markdown",
      "metadata": {
        "id": "cZ7R37uhnahr"
      },
      "source": [
        "数学的な関数をpythonで扱うには，`math`モジュールを利用します．最初に，次のコードを実行して下さい．"
      ]
    },
    {
      "cell_type": "code",
      "metadata": {
        "id": "Iknw6aHEnQnK"
      },
      "source": [
        "# 最初に，このコードを実行して下さい\n",
        "import math"
      ],
      "execution_count": null,
      "outputs": []
    },
    {
      "cell_type": "markdown",
      "metadata": {
        "id": "Cnhe81aFnsv9"
      },
      "source": [
        "数学的な関数の値は，`math`モジュールを`import`すれば，計算に利用できます．"
      ]
    },
    {
      "cell_type": "markdown",
      "metadata": {
        "id": "RwYtEOmrqRB-"
      },
      "source": [
        "円周率$\\pi$\n",
        "~~~python\n",
        "math.pi\n",
        "~~~"
      ]
    },
    {
      "cell_type": "code",
      "metadata": {
        "id": "xvPY_WwHqdoJ"
      },
      "source": [
        "math.pi"
      ],
      "execution_count": null,
      "outputs": []
    },
    {
      "cell_type": "markdown",
      "metadata": {
        "id": "dQvAiQvqqgIB"
      },
      "source": [
        "ネイピア数$e$\n",
        "~~~python\n",
        "math.e\n",
        "~~~"
      ]
    },
    {
      "cell_type": "code",
      "metadata": {
        "id": "YAMrGngCqmqy"
      },
      "source": [
        "math.e"
      ],
      "execution_count": null,
      "outputs": []
    },
    {
      "cell_type": "markdown",
      "metadata": {
        "id": "mohvpL0Wqq_C"
      },
      "source": [
        "三角関数も`math`モジュールを使います．\n",
        "~~~python\n",
        "math.sin(math.pi/6)\n",
        "~~~"
      ]
    },
    {
      "cell_type": "code",
      "metadata": {
        "id": "x31RdeWtrLfC"
      },
      "source": [
        "math.sin(math.pi/6)"
      ],
      "execution_count": null,
      "outputs": []
    },
    {
      "cell_type": "markdown",
      "metadata": {
        "id": "b3jRTiwor6-x"
      },
      "source": [
        "基本的に`python`では累乗を`**`と書きます．\n",
        "例えば，$2^3$は`2**3`と入力します．"
      ]
    },
    {
      "cell_type": "code",
      "metadata": {
        "id": "WPCd2-AtsSDR"
      },
      "source": [
        "2**3"
      ],
      "execution_count": null,
      "outputs": []
    },
    {
      "cell_type": "markdown",
      "metadata": {
        "id": "UAk03RPDsXaI"
      },
      "source": [
        "正規分布の確率密度関数などでは，ネイピア数を底とする指数関数が登場します．\n",
        "$e^3$は，`python`では`math.e**3`と入力します．"
      ]
    },
    {
      "cell_type": "code",
      "metadata": {
        "id": "6i34R4FKsvGf"
      },
      "source": [
        "math.e**3"
      ],
      "execution_count": null,
      "outputs": []
    },
    {
      "cell_type": "markdown",
      "metadata": {
        "id": "xQ-rOnQ9s1jt"
      },
      "source": [
        "指数関数$e^x$は，`exp`関数を用いることもできます．"
      ]
    },
    {
      "cell_type": "code",
      "metadata": {
        "id": "03yfTTSFtABv"
      },
      "source": [
        "math.exp(3)"
      ],
      "execution_count": null,
      "outputs": []
    },
    {
      "cell_type": "markdown",
      "metadata": {
        "id": "KvkVN_yNw2dd"
      },
      "source": [
        "$\\lambda > 0$をパラメタとする．\n",
        "確率密度関数が$f(x) = \\lambda e^{-\\lambda x}$（$x \\in (0,\\infty)$）与えられる確率分布を，指数分布という．\n",
        "$X$がパラメタ$\\lambda$の指数分布に従うことを，$X \\sim \\text{Exp}(\\lambda)$と表すことにする．\n",
        "指数分布は，行列の待ち時間などに利用される．\n",
        "\n",
        "$X \\sim \\text{Exp(1)}$とする．\n",
        "途中まで書かれたコードを利用して，区分求積法により，$P(0 < X < 1)$を計算せよ．"
      ]
    },
    {
      "cell_type": "code",
      "metadata": {
        "id": "HNWm6hpz0GHh"
      },
      "source": [
        "# このまま実行してもエラーで停止します\n",
        "expDst = lambda x:        # 指数分布の定義\n",
        "bottom, top = 0.0, 1.0    # 積分区間の下端と上端\n",
        "divnum =                  # 区間の分割数"
      ],
      "execution_count": null,
      "outputs": []
    },
    {
      "cell_type": "markdown",
      "metadata": {
        "id": "zyH4JzHsGjUZ"
      },
      "source": [
        "標準正規分布$\\text{N}(0,1)$に従う確率変数$Z$に対して，確率\n",
        "\\begin{align}\n",
        "P(0 \\leqq Z \\leqq u)\n",
        "\\end{align}\n",
        "を，$u$のいろいろな値に対して計算して表にまとめたものを**正規分布表**という（教科書p.155）．\n",
        "正規分布表は，次回以降の授業で正規分布に従う確率変数についての計算を行う際に，頻繁に利用される．\n",
        "\n",
        "教科書の巻末には，$u$の値を$0.01$刻みにして計算した正規分布表がある．\n",
        "以下の手順によって，正規分布表を出力せよ．\n",
        "\n",
        "1. 初期値の設定\n",
        "~~~python\n",
        "u = 0.0\n",
        "integral = 0.0\n",
        "~~~\n",
        "2. 刻み幅を設定（今回は`0.01`）\n",
        "~~~python\n",
        "diff = 0.01\n",
        "~~~\n",
        "3. `while`ループで，`u`の値が`4.0`を超えるまで，`0.01`刻みで確率の値（何らかの近似を行った積分値）を`integral`の値に加え続ける．\n",
        "`u`の値とループ内で加えた`integral`の値を`print`関数で出力する．\n",
        "ただし，`while`ループは以下の構造をもつ:\n",
        "~~~python\n",
        "while(u <= 4.0):\n",
        "  # ループさせたい操作（今回はdiff分の刻みでの確率を加える）\n",
        "  # uの値とintegralの値を出力する\n",
        "  # uの値にdiffを加えることを忘れない\n",
        "~~~\n",
        "4. 出力された結果を，教科書巻末の正規分布表と比較せよ．"
      ]
    },
    {
      "cell_type": "code",
      "metadata": {
        "id": "tMYOlNbmw_zM"
      },
      "source": [
        ""
      ],
      "execution_count": null,
      "outputs": []
    },
    {
      "cell_type": "markdown",
      "metadata": {
        "id": "-QSzKXjPhIcT"
      },
      "source": [
        "＜比較結果の考察＞\n",
        "下のテキストボックスを**ダブルクリック**して，上書きして下さい．[Markdown記法](https://www.markdown.jp/)や，[LaTeX記法](https://scrapbox.io/scrapboxlab/TeX%E8%A8%98%E6%B3%95)も利用できます.\n",
        "\n",
        "\n"
      ]
    },
    {
      "cell_type": "markdown",
      "metadata": {
        "id": "HbkKIfjRkN6n"
      },
      "source": [
        "（ここに比較結果の考察を記入する）"
      ]
    },
    {
      "cell_type": "markdown",
      "metadata": {
        "id": "iUaGjYFTj5EZ"
      },
      "source": [
        "＜本授業の学び＞\n",
        "本授業で学んだことを，下のテキストボックスに記入して下さい．"
      ]
    },
    {
      "cell_type": "markdown",
      "metadata": {
        "id": "VVb8ZkNgkfKX"
      },
      "source": [
        "（ここに本授業の学びを記入する）"
      ]
    }
  ]
}