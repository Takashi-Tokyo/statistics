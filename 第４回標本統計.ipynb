{
  "nbformat": 4,
  "nbformat_minor": 0,
  "metadata": {
    "colab": {
      "name": "113_Sampling.ipynb",
      "provenance": [],
      "collapsed_sections": []
    },
    "kernelspec": {
      "name": "python3",
      "display_name": "Python 3"
    },
    "language_info": {
      "name": "python"
    }
  },
  "cells": [
    {
      "cell_type": "code",
      "metadata": {
        "id": "tge1tP7mmkk_"
      },
      "source": [
        "import numpy as np\n",
        "from scipy import stats, special, optimize, integrate # scipyモジュールの中のパッケージstats，special, optimize, integrateをインポート\n",
        "import matplotlib.pyplot as plt\n",
        "import seaborn as sns"
      ],
      "execution_count": null,
      "outputs": []
    },
    {
      "cell_type": "markdown",
      "metadata": {
        "id": "HUAauRD4l8hp"
      },
      "source": [
        "# モジュール`scipy`について\n",
        "\n",
        "モジュール`scipy`は，科学計算で利用される強力な道具を提供しており，統計学関係（`scipy.stats`）以外にも行列計算や，線形計画法などの最適化，数値積分などが含まれている（**KPなどにも利用できそうですね**）．\n",
        "\n",
        "なお，`scipy`は`numpy`を基礎として設計されているため，この二者の親和性は高い．\n",
        "\n",
        "\n",
        "## ガンマ関数のグラフの描画\n",
        "\n",
        "ガンマ関数や楕円関数などの特殊関数は，サブモジュール`scipy.special`をインポートすることで，利用できる．\n",
        "下の例では，ガンマ関数のグラフを描画する．\n",
        "コードを実行してみよ．\n"
      ]
    },
    {
      "cell_type": "code",
      "metadata": {
        "id": "iITYJYEPlzjN"
      },
      "source": [
        "gamma = lambda x: special.gamma(x)\n",
        "\n",
        "x = np.arange(0.01, 6, .01) # 0.01以上6未満を0.01刻みしたリスト[0.01,0.02,...,5.99]\n",
        "\n",
        "plt.figure(figsize=(10,3)) # 図のサイズの指定\n",
        "plt.plot(x, gamma(x), \"green\") # ガンマ関数のグラフを上のリストの各値に対してプロットする\n",
        "plt.title(\"Gamma Function\")\n",
        "plt.xlabel(\"x\")\n",
        "plt.ylabel(\"Values of Gamma Function\")\n",
        "plt.grid(True)\n",
        "plt.show()"
      ],
      "execution_count": null,
      "outputs": []
    },
    {
      "cell_type": "markdown",
      "metadata": {
        "id": "FdRQGlGvxtAM"
      },
      "source": [
        "## 方程式の数値解\n",
        "\n",
        "`scipy`によって，方程式の数値解を求めることもできる．\n",
        "数学的に厳密な解ではないが，与えた初期値を起点として，厳密解に近づくように，近似的な解を与える方法が`scipy`には実装されている．\n",
        "下の例では，ニュートン法（`optimize.newton`）と呼ばれる，微分法を応用したアルゴリズムによって数値解を計算している．\n",
        "（計算機は方程式の解の数学的な意味を理解することはできないので，方程式を解くのは計算機に任せてしまって人間は方程式を忘れてよいということにはならない．）"
      ]
    },
    {
      "cell_type": "code",
      "metadata": {
        "id": "uj9iQ10nx3gr"
      },
      "source": [
        "func = lambda x: 2**x - x**2\n",
        "sol = optimize.newton(func,1) # 1を初期値とするニュートン法と呼ばれるアルゴリズムに従って解を求めている．この1を2,3,4,5,6,...などに変えて，結果を観察してみよ．\n",
        "\n",
        "plt.figure(figsize=(10,3))\n",
        "plt.plot(x, func(x))\n",
        "plt.title(\"Graph of func\")\n",
        "plt.xlabel(\"x\")\n",
        "plt.ylabel(\"Values of func\")\n",
        "plt.grid(True)\n",
        "print(\"Solution:\", sol) # 数値解の表示"
      ],
      "execution_count": null,
      "outputs": []
    },
    {
      "cell_type": "markdown",
      "metadata": {
        "id": "kPLtPQAqx4FT"
      },
      "source": [
        "## 数値積分\n",
        "\n",
        "`scipy.integrate`を利用すれば，数値積分を行える．\n",
        "No.10で分割数を設定して`for`ループにより計算していた積分$\\displaystyle \\int_0^1 \\frac{4}{1 + x^2}\\,dx$の値を，`scipy.integrate`を利用して求めてみよう．\n",
        "（`scipy`により簡単に数値積分が求まるからといって，No.10での努力が無駄であると悲観することはない．計算の仕組みを初等的に書き下す訓練を通じて，真の意味で理解は深まるのである．）"
      ]
    },
    {
      "cell_type": "code",
      "metadata": {
        "id": "RVMs-St0x8qr"
      },
      "source": [
        "convtopi = lambda x: 4/(1 + x**2) # 被積分関数\n",
        "intgrt = integrate.quad(convtopi, 0, 1) # quadはquadrature（求積法）から\n",
        "print(intgrt) # (近似値, 誤差の範囲)"
      ],
      "execution_count": null,
      "outputs": []
    },
    {
      "cell_type": "markdown",
      "metadata": {
        "id": "FvNLxhg5yB0j"
      },
      "source": [
        "## 本題: 統計学周りのサブモジュール`scipy.stats`\n",
        "\n",
        "統計計算では，`scipy`のサブモジュール`stats`が利用される．\n",
        "ここでは，`scipy.stats`のメソッドのうち，授業で登場しそうなものを，紹介する．\n",
        "\n",
        "「**確率分布.メソッド**」という構文で利用する．\n",
        "\n",
        "### 確率分布\n",
        "\n",
        "* 離散型確率分布\n",
        "  * 二項分布（binomial distribution）`scipy.stats.binom`\n",
        "  * ベルヌーイ分布（Bernoulli distribution）`scipy.stats.bernoulli`\n",
        "  * ポアソン分布（Poisson distribution）`scipy.stats.poisson`\n",
        "  * 幾何分布（geometric distribution）`scipy.stats.geom`\n",
        "\n",
        "* 連続型確率分布\n",
        "  * 一様分布（uniform distribution）`scipy.stats.uniform`\n",
        "  * 正規分布（normal distribution）`scipy.stats.norm`\n",
        "  * 指数分布（exponential distribution）`scipy.stats.expon`\n",
        "  * ガンマ分布（gamma distribution）`scipy.stats.gamma`\n",
        "  * ベータ分布（beta distribution）`scipy.stats.betabinom`\n",
        "\n",
        "### メソッド\n",
        "\n",
        "* 確率変数（random variables）`rvs`: 乱数を生成する\n",
        "\n",
        "* 確率密度関数（probability density function）`pdf`: 連続型分布の確率密度関数を与える\n",
        "\n",
        "* 確率質量関数（probability mass function）`pmf`: 離散型分布の確率質量関数を与える\n",
        "\n",
        "* 対数確率密度関数（log of pdf）`logpdf`: 連続型確率分布の確率密度関数の対数を与える\n",
        "\n",
        "* 累積分布関数（cumulative distribution function）`cdf`: 確率分布の累積分布関数を与える\n",
        "\n",
        "* パーセント点関数（percent point function）`ppf`: 累積分布関数の値に対し，その累積確率を与える．\n",
        "\n",
        "* 区間推定（interval estimation）`interval`: 信頼区間を与える（次回）\n",
        "\n",
        "\n",
        "例えば，標準正規分布$N(0,1)$に従う乱数を10個生成し，変数`data`に格納する場合は，\n",
        "```\n",
        "data = sp.stats.norm.rvs(loc=0 ,scale=1, size=10)\n",
        "```\n",
        "と書く．\n",
        "\n",
        "正規分布$N(50,10)$に従う確率変数$X$に対して，確率$P(45 \\leqq X \\leqq 60)$の値を計算したい場合は，累積分布関数の差$P(X \\leqq 60) - P(X \\leqq 45)$と考えて\n",
        "```\n",
        "sp.stats.norm.cdf(60, loc=50, scale=10) - sp.stats.norm.cdf(45, loc=50, scale=10)\n",
        "```\n",
        "と書く．\n",
        "\n",
        "ガンマ分布\n",
        "$$\n",
        "\\text{G}_{\\text{A}}\\left(2,\\frac{1}{2}\\right),\\text{G}_{\\text{A}}\\left(5,\\frac{1}{2}\\right),\\text{G}_{\\text{A}}\\left(2,\\frac{5}{2}\\right),\\text{G}_{\\text{A}}\\left(5,\\frac{5}{2}\\right)\n",
        "$$\n",
        "の確率密度関数のグラフを，$0 < x < 5$の範囲で描画したい場合は，\n",
        "```\n",
        "# 描画範囲の指定\n",
        "plt.figure(figsize=(10,6))\n",
        "x = np.arange(0.01,5,.01) # 0.01以上5未満の0.01刻みの数値のリストをxに格納．[0.00, 0.01, 0.02, ..., 4.99]\n",
        "# ガンマ分布の密度関数の定義\n",
        "gamma1 = lambda t: sp.stats.gamma.pdf(t, 2.0, scale=0.5)\n",
        "gamma2 = lambda t: sp.stats.gamma.pdf(t, 5.0, scale=0.5)\n",
        "gamma3 = lambda t: sp.stats.gamma.pdf(t, 2.0, scale=2.5)\n",
        "gamma4 = lambda t: sp.stats.gamma.pdf(t, 5.0, scale=2.5)\n",
        "\n",
        "# ガンマ分布の密度関数のグラフの描画，plot(x座標，y座標，色，ラベル)\n",
        "plt.plot(x, gamma1(x), \"pink\", label=\"Gamma(2,0.5)\")\n",
        "plt.plot(x, gamma2(x), \"purple\", label=\"Gamma(5,0.5)\")\n",
        "plt.plot(x, gamma3(x), \"olive\", label=\"Gamma(2,2.5)\")\n",
        "plt.plot(x, gamma4(x), \"midnightblue\", label=\"Gamma(5,2.5)\")\n",
        "\n",
        "plt.title(\"Gamma Distributions\") # タイトル\n",
        "plt.xlabel(\"x\") # 軸の名称\n",
        "plt.ylabel(\"Density\")\n",
        "plt.grid(True, linestyle=\"dashed\") # グリッドの線種を破線に\n",
        "plt.legend() # 凡例の表示（上のグラフ描画関数において，ラベルを指定しておく）\n",
        "plt.show() # 描画したものを見せろ！\n",
        "```\n",
        "と書く．\n",
        "試しに，下のコードを実行してみよ．\n"
      ]
    },
    {
      "cell_type": "code",
      "metadata": {
        "id": "BnrYJFuWyO2s"
      },
      "source": [
        "x = np.arange(0,5,.01)\n",
        "gamma1 = lambda t: stats.gamma.pdf(t, 2.0, scale=.5)\n",
        "gamma2 = lambda t: stats.gamma.pdf(t, 5.0, scale=.5)\n",
        "gamma3 = lambda t: stats.gamma.pdf(t, 2.0, scale=2.5)\n",
        "gamma4 = lambda t: stats.gamma.pdf(t, 5.0, scale=2.5)\n",
        "\n",
        "plt.figure(figsize=(10,3))\n",
        "plt.plot(x, gamma1(x), \"pink\", label=\"Gamma(2,0.5)\")\n",
        "plt.plot(x, gamma2(x), \"purple\", label=\"Gamma(5,0.5)\")\n",
        "plt.plot(x, gamma3(x), \"olive\", label=\"Gamma(2,2.5)\")\n",
        "plt.plot(x, gamma4(x), \"midnightblue\", label=\"Gamma(5,2.5)\")\n",
        "plt.title(\"Gamma Distributions\")\n",
        "plt.xlabel(\"x\")\n",
        "plt.grid(True, linestyle=\"dashed\")\n",
        "plt.ylabel(\"Density\")\n",
        "plt.legend()\n",
        "plt.show()"
      ],
      "execution_count": null,
      "outputs": []
    },
    {
      "cell_type": "markdown",
      "metadata": {
        "id": "R9z4zft1nOGE"
      },
      "source": [
        "# 実験: 正規分布からのランダムサンプリング\n",
        "\n",
        "ここでは，任意に平均と標準偏差を設定した正規分布から無作為抽出による標本を抽出し，その標本平均や標本分散の挙動を確認する実験を行う．\n",
        "\n",
        "### 下準備，条件設定\n",
        "\n",
        "1. 正規分布の平均（`Loc`）と標準偏差（`Scl`）を設定\n",
        "2. 標本の大きさ（`Size`）を設定\n",
        "3. 今回は正規分布からの標本の抽出回数を`1000`回に設定\n",
        "\n",
        "### データ処理\n",
        "\n",
        "1. 空リストの作成（標本平均`Means`，不偏でない標本分散`BVar`，不偏標本分散`UBVar`）\n",
        "2. `1000`回の各試行において，得られた`Size`個の正規乱数列$[x_1,x_2,\\ldots,x_{1000}]$の標本平均$\\overline{X} = \\frac{1}{1000} \\sum_{k = 1}^{1000}x_k$，不偏でない標本分散$S = \\frac{1}{1000} \\sum_{k = 1}^{1000} (x_k - \\overline{X})^2$，不偏標本分散$\\hat{S} = \\frac{1}{1000 - 1} \\sum_{k = 1}^{1000} (x_k - \\overline{X})^2$を，それぞれリスト`Means`，`BVar`，`UBVar`の最後尾に加えていく．\n",
        "3. リスト`Means`，`BVar`，`UBVar`の初項からの累積和（$l$番目の累積和とは，初項から$l$番目までの和のこと）を順にそれぞれ`CumMeans`，`CumBVar`，`CumUBVar`に格納していく（`np.cumsum()`は累積和からなる配列を与える関数）．\n",
        "`divisor`はリスト`[1,2,...,1000]`のことである．\n",
        "4. `CumMeans / divisor`によって，標本平均の初項からの累積の平均からなる配列が作られる．\n",
        "5. 母平均，母分散を与える定数関数`ConstPopMean`と`ConstPopVar`を定義する．\n",
        "\n",
        "### グラフ描画\n",
        "\n",
        "今回は6種類のグラフを$2 \\times 3$の配置で描画する．\n",
        "\n",
        "1. `plt.subplot(2,3,n)`は，$2\\times 3$の配置を左上から数えた`n`番目の図を描画するときに利用する．\n",
        "2. 上の3列のグラフは，無作為抽出したデータの標本平均，不偏でない標本分散，不偏標本分散のヒストグラムと理論から予想される分布とを比較している．\n",
        "特に，$(1,2)$の位置にある不偏でない標本分散と$(1,3)$の位置にある不偏標本分散のヒストグラムは，一見似た分布をしているが，横軸，縦軸の目盛に注意して分析されたい．\n",
        "3. 下の3列のグラフは，得られた標本統計量の累積の平均の推移をプロットしたグラフと母平均，母分散を比較している．\n",
        "\n",
        "### 考察\n",
        "\n",
        "特に，標本の大きさ（`Size`）を変化させたときに，不偏でない標本分散と不偏標本分散の振る舞いの違いについて，その意味を考えながら，考察をまとめよ．"
      ]
    },
    {
      "cell_type": "code",
      "metadata": {
        "id": "qvjWiB9aVaZI"
      },
      "source": [
        "# 正規分布の平均と標準偏差を設定\n",
        "Loc, Scl = 50, 10\n",
        "\n",
        "# 標本の大きさを設定（2,5,10,20,50,100で実行してみるのがおすすめ）\n",
        "Size = 20\n",
        "\n",
        "# 標本の抽出回数．今回は触らない（触ってもいいけど）\n",
        "T = 1000\n",
        "\n",
        "# リストの定義（初期値は空リスト，直後のforループでデータを格納していく）\n",
        "Means = np.array([]) # 標本平均のリスト\n",
        "BVar = np.array([]) # 不偏でない（Biased）標本分散のリスト\n",
        "UBVar = np.array([]) # 不偏（Unbiased）標本分散のリスト\n",
        "\n",
        "for i in range(T):\n",
        "  # dataに正規乱数の標本を格納\n",
        "  data = stats.norm.rvs(loc=Loc, scale=Scl, size=Size)\n",
        "  # mには標本平均を格納\n",
        "  m = np.mean(data)\n",
        "  # 分散（ddof=0ならdataを母集団とみなした（不偏でない）分散，ddof=1ならdataを標本とみなした（不偏）分散\n",
        "  bv = np.var(data, ddof=0) # 不偏でない標本分散\n",
        "  ubv = np.var(data, ddof=1) #不偏標本分散\n",
        "  # リストに値を加える\n",
        "  Means = np.append(Means, m)\n",
        "  BVar = np.append(BVar, bv)\n",
        "  UBVar = np.append(UBVar, ubv)\n",
        "\n",
        "# リストの値を前から順に加え（cumsum）たリストを作る\n",
        "CumMeans = np.cumsum(Means)\n",
        "CumBVar = np.cumsum(BVar)\n",
        "CumUBVar = np.cumsum(UBVar)\n",
        "divisor = np.arange(1,T+1) # リスト[1,2,...,T]（1以上T+1未満）\n",
        "\n",
        "# numpyのリストどうしの割り算（成分ごとの割り算）->リストMeans，BVar，UBVarの初項から順に平均値をもったリスト\n",
        "MMeans = CumMeans / divisor\n",
        "MBVar = CumBVar / divisor\n",
        "MUBVar = CumUBVar / divisor\n",
        "\n",
        "# 母平均（Loc），母分散（Scl**2）をT個並べたリスト（定数関数の役割）\n",
        "ConstPopMean = np.full(T, Loc)\n",
        "ConstPopVar = np.full(T, Scl**2)\n",
        "\n",
        "plt.figure(figsize=(20,12))\n",
        "\n",
        "# 母集団の正規分布の確率密度関数と標本平均のヒストグラム\n",
        "plt.subplot(2,3,1) # 2*3の配置の図の1つ目\n",
        "x = np.arange(Loc - 4*Scl, Loc + 4*Scl, 0.01)\n",
        "plt.hist(Means,density=True,label=\"Sample Mean\") # 標本平均のヒストグラム，density=Trueなので，相対度数\n",
        "plt.plot(x,stats.norm.pdf(x,loc=Loc,scale=Scl),label=\"Population\") # 母集団である正規分布N(Loc,Scl)の確率密度関数\n",
        "plt.legend()\n",
        "plt.title(\"Means: Population v.s. Sample\")\n",
        "plt.xlabel(\"Frequency\")\n",
        "plt.ylabel(\"Probability\")\n",
        "\n",
        "# 不偏でない標本分散のヒストグラム\n",
        "plt.subplot(2,3,2)\n",
        "plt.hist(BVar,density=True) # 不偏でない標本分散のヒストグラム\n",
        "plt.title(\"Biased Sample Variance\")\n",
        "plt.xlabel(\"Frequency\")\n",
        "plt.ylabel(\"Probability\")\n",
        "\n",
        "# 不偏標本分散のヒストグラム\n",
        "plt.subplot(2,3,3)\n",
        "plt.hist(UBVar,density=True) # 不偏標本分散のヒストグラム\n",
        "plt.title(\"Unbiased Sample Variance\")\n",
        "plt.xlabel(\"Frequency\")\n",
        "plt.ylabel(\"Probability\")\n",
        "\n",
        "# 標本平均の平均の推移（x軸: 標本数，y軸: 標本平均の平均）\n",
        "plt.subplot(2,3,4)\n",
        "plt.plot(MMeans,label=\"Sample\") # 標本平均の平均の推移\n",
        "plt.plot(ConstPopMean,label=\"Population\") # 母平均（定数関数Loc）\n",
        "plt.legend()\n",
        "plt.title(\"Population v.s. Sample\")\n",
        "plt.xlabel(\"Trials\")\n",
        "plt.ylabel(\"Averages of Means.\")\n",
        "\n",
        "# 不偏でない標本分散の平均の推移（x軸: 標本数，y軸: 不偏でない標本分散の平均）\n",
        "plt.subplot(2,3,5)\n",
        "plt.plot(MBVar,label=\"Sample (biased)\") # 不偏でない標本分散の平均の推移\n",
        "plt.plot(ConstPopVar,label=\"Population Var.\") # 母分散（定数関数Scl**2）\n",
        "plt.legend()\n",
        "plt.title(\"Population v.s. Biased\")\n",
        "plt.xlabel(\"Trials\")\n",
        "plt.ylabel(\"Averages of Vars.\")\n",
        "\n",
        "# 不偏標本分散の平均の推移（x軸: 標本数，y軸: 不偏標本分散の平均）\n",
        "plt.subplot(2,3,6)\n",
        "plt.plot(MUBVar,label=\"Sample (unbiased)\") # 不偏標本分散の平均\n",
        "plt.plot(ConstPopVar,label=\"Population Var.\") # 母分散（定数関数Scl**2）\n",
        "plt.legend()\n",
        "plt.title(\"Population v.s. Unbiased\")\n",
        "plt.xlabel(\"Trials\")\n",
        "plt.ylabel(\"Averages of Vars.\")\n",
        "\n",
        "plt.show()"
      ],
      "execution_count": null,
      "outputs": []
    },
    {
      "cell_type": "markdown",
      "metadata": {
        "id": "YEzgjd-Cg4Ez"
      },
      "source": [
        "（ここに考察を記入する）"
      ]
    },
    {
      "cell_type": "markdown",
      "metadata": {
        "id": "iUaGjYFTj5EZ"
      },
      "source": [
        "# ＜本授業の学び＞\n",
        "本授業で学んだことを，下のテキストボックスに記入して下さい．"
      ]
    },
    {
      "cell_type": "markdown",
      "metadata": {
        "id": "VVb8ZkNgkfKX"
      },
      "source": [
        "（ここに本授業の学びを記入する）"
      ]
    }
  ]
}