{
  "nbformat": 4,
  "nbformat_minor": 0,
  "metadata": {
    "colab": {
      "name": "110_Integrals_Ans.ipynb",
      "provenance": [],
      "collapsed_sections": []
    },
    "kernelspec": {
      "name": "python3",
      "display_name": "Python 3"
    },
    "language_info": {
      "name": "python"
    }
  },
  "cells": [
    {
      "cell_type": "markdown",
      "metadata": {
        "id": "JfVq2tuKsM0g"
      },
      "source": [
        "授業スライドの$f(x) = x^2$の区間$[0,1]$における定積分の計算例（squared.py）を参照しながら，divnumの値を$100$，$1000$等と入れ替えて積分を計算し，理論値$\\frac{1}{3}$と比べよ．\n",
        "\n",
        "```\n",
        "squared = lambda x: x**2   # 関数の定義\n",
        "bottom, top = 0.0, 1.0     # 積分区間の下端と上端\n",
        "divnum = 10                # 積分区間の等分数（ここを調整する）\n",
        "\n",
        "integral_left = 0.0        # 積分値の初期値\n",
        "interval = top - bottom    # 積分区間の長さ\n",
        "for i in range(divnum):\n",
        "  integral_left += squared(bottom + interval * i / divnum) * (interval / divnum)\n",
        "print(integral_left)\n",
        "```"
      ]
    },
    {
      "cell_type": "code",
      "metadata": {
        "id": "l7XhLle8q-fu",
        "colab": {
          "base_uri": "https://localhost:8080/"
        },
        "outputId": "1c71d362-1825-441c-db34-07cd679aaacc"
      },
      "source": [
        "squared = lambda x: x**2   # 関数の定義\n",
        "bottom, top = 0.0, 1.0     # 積分区間の下端と上端\n",
        "divnum = 10                # 積分区間の等分数（ここを調整する）\n",
        "\n",
        "integral_left = 0.0        # 積分値の初期値\n",
        "interval = top - bottom    # 積分区間の長さ\n",
        "for i in range(divnum):\n",
        "  integral_left += squared(bottom + interval * i / divnum) * (interval / divnum)\n",
        "print(integral_left)\n"
      ],
      "execution_count": null,
      "outputs": [
        {
          "output_type": "stream",
          "name": "stdout",
          "text": [
            "0.28500000000000003\n"
          ]
        }
      ]
    },
    {
      "cell_type": "code",
      "metadata": {
        "id": "svfm5mI5upr8",
        "colab": {
          "base_uri": "https://localhost:8080/"
        },
        "outputId": "9ba7e0f6-39bb-47b1-aefc-d004f43ce7ed"
      },
      "source": [
        "squared = lambda x: x**2   # 関数の定義\n",
        "bottom, top = 0.0, 1.0     # 積分区間の下端と上端\n",
        "divnum = 100               # 積分区間の等分数（ここを調整する）\n",
        "\n",
        "integral_left = 0.0        # 積分値の初期値\n",
        "interval = top - bottom    # 積分区間の長さ\n",
        "for i in range(divnum):\n",
        "  integral_left += squared(bottom + interval * i / divnum) * (interval / divnum)\n",
        "print(integral_left)\n"
      ],
      "execution_count": null,
      "outputs": [
        {
          "output_type": "stream",
          "name": "stdout",
          "text": [
            "0.32835000000000014\n"
          ]
        }
      ]
    },
    {
      "cell_type": "code",
      "metadata": {
        "id": "nIjBKGVEurtX",
        "colab": {
          "base_uri": "https://localhost:8080/"
        },
        "outputId": "0115cbc5-05e8-40fd-fd11-502285e82795"
      },
      "source": [
        "squared = lambda x: x**2   # 関数の定義\n",
        "bottom, top = 0.0, 1.0     # 積分区間の下端と上端\n",
        "divnum = 1000              # 積分区間の等分数（ここを調整する）\n",
        "\n",
        "integral_left = 0.0        # 積分値の初期値\n",
        "interval = top - bottom    # 積分区間の長さ\n",
        "for i in range(divnum):\n",
        "  integral_left += squared(bottom + interval * i / divnum) * (interval / divnum)\n",
        "print(integral_left)\n"
      ],
      "execution_count": null,
      "outputs": [
        {
          "output_type": "stream",
          "name": "stdout",
          "text": [
            "0.3328335000000003\n"
          ]
        }
      ]
    },
    {
      "cell_type": "markdown",
      "metadata": {
        "id": "ZXSJxo83viL3"
      },
      "source": [
        "積分値$\\displaystyle \\int_0^1 \\frac{4}{1 + x^2} \\, dx$を（区間の分割数を自分で決めた上で）「左端点則」「右端点則」「中点則」「台形則」「シンプソン則」で計算し，その結果を比較せよ．\n",
        "区間の分割数は，5種類の計算方法で統一させてください．"
      ]
    },
    {
      "cell_type": "code",
      "metadata": {
        "id": "vdoNRxZTwcZB",
        "colab": {
          "base_uri": "https://localhost:8080/"
        },
        "outputId": "30ac5071-1c64-4838-fad5-615357036501"
      },
      "source": [
        "# 左端点則\n",
        "darktan = lambda x: 4/(1 + x**2)\n",
        "bottom, top = 0.0, 1.0\n",
        "divnum = 10**5\n",
        "\n",
        "integral = 0.0\n",
        "interval = top - bottom\n",
        "\n",
        "for i in range(divnum):\n",
        "  integral += darktan(bottom + i * interval / divnum) * (interval / divnum)\n",
        "print (integral)"
      ],
      "execution_count": null,
      "outputs": [
        {
          "output_type": "stream",
          "name": "stdout",
          "text": [
            "3.1416026535731554\n"
          ]
        }
      ]
    },
    {
      "cell_type": "code",
      "metadata": {
        "id": "bOECHtBgwhyX",
        "colab": {
          "base_uri": "https://localhost:8080/"
        },
        "outputId": "adbea04f-1b40-4bed-f800-b985d990347f"
      },
      "source": [
        "# 右端点則\n",
        "darktan = lambda x: 4/(1 + x**2)\n",
        "bottom, top = 0.0, 1.0\n",
        "divnum = 10**5\n",
        "\n",
        "integral = 0.0\n",
        "interval = top - bottom\n",
        "\n",
        "for i in range(divnum):\n",
        "  integral += darktan(bottom + (i + 1) * interval / divnum) * (interval / divnum)\n",
        "print (integral)"
      ],
      "execution_count": null,
      "outputs": [
        {
          "output_type": "stream",
          "name": "stdout",
          "text": [
            "3.1415826535731557\n"
          ]
        }
      ]
    },
    {
      "cell_type": "code",
      "metadata": {
        "id": "t8_fe7LAwnXr",
        "colab": {
          "base_uri": "https://localhost:8080/"
        },
        "outputId": "2c2af0ef-50c4-42f4-91bd-1290dd8225f9"
      },
      "source": [
        "# 中点則\n",
        "darktan = lambda x: 4/(1 + x**2)\n",
        "bottom, top = 0.0, 1.0\n",
        "divnum = 10**5\n",
        "\n",
        "integral = 0.0\n",
        "interval = top - bottom\n",
        "\n",
        "for i in range(divnum):\n",
        "  integral += darktan(bottom + (i + .5) * interval / divnum) * (interval / divnum)\n",
        "print (integral)"
      ],
      "execution_count": null,
      "outputs": [
        {
          "output_type": "stream",
          "name": "stdout",
          "text": [
            "3.141592653598167\n"
          ]
        }
      ]
    },
    {
      "cell_type": "code",
      "metadata": {
        "id": "6rHXpHO2wp3L",
        "colab": {
          "base_uri": "https://localhost:8080/"
        },
        "outputId": "1663723d-f557-4554-bda7-5ae1c172fa06"
      },
      "source": [
        "# 台形則\n",
        "darktan = lambda x: 4/(1 + x**2)\n",
        "bottom, top = 0.0, 1.0\n",
        "divnum = 10**5\n",
        "\n",
        "integral = 0.0\n",
        "interval = top - bottom\n",
        "\n",
        "for i in range(divnum):\n",
        "  integral += (darktan(bottom + i * interval / divnum) + darktan(bottom + (i + 1) * interval / divnum)) / 2 * (interval / divnum)\n",
        "print (integral)"
      ],
      "execution_count": null,
      "outputs": [
        {
          "output_type": "stream",
          "name": "stdout",
          "text": [
            "3.141592653573132\n"
          ]
        }
      ]
    },
    {
      "cell_type": "code",
      "metadata": {
        "id": "bchFZx9YwsV9",
        "colab": {
          "base_uri": "https://localhost:8080/"
        },
        "outputId": "ded88c29-dba2-43e9-9ef8-c157fbce081c"
      },
      "source": [
        "#シンプソン則\n",
        "darktan = lambda x: 4/(1 + x**2)\n",
        "bottom, top = 0.0, 1.0\n",
        "divnum = 10**5\n",
        "\n",
        "integral = 0.0\n",
        "interval = top - bottom\n",
        "\n",
        "for i in range(divnum):\n",
        "  integral += (darktan(bottom + i * interval / divnum) + 4 * darktan(bottom + (i + .5) * interval / divnum) + darktan(bottom + (i + 1) * interval / divnum)) / 6 * (interval / divnum)\n",
        "print (integral)"
      ],
      "execution_count": null,
      "outputs": [
        {
          "output_type": "stream",
          "name": "stdout",
          "text": [
            "3.1415926535897722\n"
          ]
        }
      ]
    },
    {
      "cell_type": "markdown",
      "metadata": {
        "id": "-QSzKXjPhIcT"
      },
      "source": [
        "＜比較結果の考察＞\n",
        "下のテキストボックスを**ダブルクリック**して，上書きして下さい．[Markdown記法](https://www.markdown.jp/)や，[LaTeX記法](https://scrapbox.io/scrapboxlab/TeX%E8%A8%98%E6%B3%95)も利用できます.\n",
        "\n",
        "\n"
      ]
    },
    {
      "cell_type": "markdown",
      "metadata": {
        "id": "HbkKIfjRkN6n"
      },
      "source": [
        "（ここに比較結果の考察を記入する）"
      ]
    },
    {
      "cell_type": "markdown",
      "metadata": {
        "id": "iUaGjYFTj5EZ"
      },
      "source": [
        "＜本授業の学び＞\n",
        "本授業で学んだことを，下のテキストボックスに記入して下さい．"
      ]
    },
    {
      "cell_type": "markdown",
      "metadata": {
        "id": "VVb8ZkNgkfKX"
      },
      "source": [
        "（ここに本授業の学びを記入する）"
      ]
    }
  ]
}