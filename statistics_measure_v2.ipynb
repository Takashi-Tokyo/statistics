{
 "cells": [
  {
   "cell_type": "markdown",
   "metadata": {},
   "source": [
    "# 測定データをその場で解析\n",
    "### 2022/3/13 ラズベリーパイを使った測定\n",
    "\n",
    "それではいよいよ測定にはいりましょう。<br>\n",
    "\n",
    "ここでは，５種類の測定を考えています。それぞれの測定で得られたデータを<br>\n",
    "その場で解析していきます。以下ではその測定ごとに，データの傾向や性質をみながら進めていきます。<br>\n",
    "\n",
    "5種類の測定は以下のようなものです。基本的には，温度，湿度を25点測定します。<br>\n",
    "測定の様子はpythonツールの画面で随時確認できます。25点の測定が終わると，<br> \n",
    "フォルダー名「measure」に <b>output.csv</b>の出力ファイルができます。こちらを随時，<br>\n",
    "適切なファイル名に変更していきます。測定はうまく行かないこともありますので，何度でも <br>\n",
    "取り直して下さい。うまく行ったときにだけファイル名の変更をしましょう。\n",
    "\n",
    "* 測定１）まずは部屋の温度等を何も変更せずに，計測プログラムを走らせる。<br>\n",
    "* 測定２）温湿度計のセンサーに息を吹きかけるなどしてふらつかせる。<br>\n",
    "* 測定３）可能であれば部屋の設定温度を現在よりも+2度にして，温度が落ち着いたら測定。 <br>\n",
    "* 測定４）各自好きなことをして（温度変更，加湿，など）から測定する。<br>\n",
    "* 測定５）初期設定に温度等条件を戻して，落ち着いてから測定する <br>\n",
    "\n",
    "測定1-5)の中でいろいろと考察してもらえるとよいかと思いますが，最終的には\n",
    "測定５の結果を集計する予定です。測定をする度に，csvファイルと同時に，output.pngという画像ファイルも作成されます。\n",
    "こちらは特に使いませんが，必要に応じて例えばgraph_3.png(3は測定の種類）等とファイル名変更して下さい。"
   ]
  },
  {
   "cell_type": "markdown",
   "metadata": {},
   "source": [
    "## 測定１\n",
    "「まずは部屋の温度等を何も変更せずに，計測プログラムを走らせる。」<br>\n",
    "温度も湿度もある程度一定で安定した値であることが予想されます。地域にもよりますが，\n",
    "測定プログラムが表示するグラフの縦軸の範囲が適当でないかも知れません。その場合は\n",
    "数字の出力を見て確認してから，範囲の値を自由に変更して下さい。"
   ]
  },
  {
   "cell_type": "code",
   "execution_count": 1,
   "metadata": {
    "scrolled": true
   },
   "outputs": [],
   "source": [
    "import numpy as np\n",
    "import pandas as pd\n",
    "\n",
    "# csv fileを読み込む (df=DataFrame, pandasの機能でcsvファイルを読み込む)\n",
    "# 下記には元々保存されていた data_1_tmp.csv が書かれていますが，_tmpを外して\n",
    "# 先程自分で取ったファイル名に書き換えてください。\n",
    "df1 = pd.read_csv('../measure/data_1.csv', index_col='number')"
   ]
  },
  {
   "cell_type": "markdown",
   "metadata": {},
   "source": [
    "グラフにして見てみましょう。"
   ]
  },
  {
   "cell_type": "code",
   "execution_count": 4,
   "metadata": {},
   "outputs": [
    {
     "data": {
      "text/plain": [
       "<matplotlib.axes._subplots.AxesSubplot at 0x6d5668b0>"
      ]
     },
     "execution_count": 4,
     "metadata": {},
     "output_type": "execute_result"
    },
    {
     "data": {
      "image/png": "[encoded data removed]",
      "text/plain": [
       "<Figure size 432x288 with 1 Axes>"
      ]
     },
     "metadata": {
      "needs_background": "light"
     },
     "output_type": "display_data"
    }
   ],
   "source": [
    "df1.plot()"
   ]
  },
  {
   "cell_type": "markdown",
   "metadata": {},
   "source": [
    "### 平均値を表示します\n",
    "mean_1というlist形式の変数に落とし込みます。このままだと温度，湿度両方が入っています。<br>\n",
    "それぞれを表示するには mean_1['temperature'] のように書きます。"
   ]
  },
  {
   "cell_type": "code",
   "execution_count": 7,
   "metadata": {},
   "outputs": [
    {
     "name": "stdout",
     "output_type": "stream",
     "text": [
      "T1 mean 21.74\n",
      "H1 mean 46.08\n"
     ]
    }
   ],
   "source": [
    "mean_1=df1.mean()\n",
    "myT1_mean = mean_1['temperature']\n",
    "myH1_mean = mean_1['humidity']\n",
    "print('T1 mean %4.2F' % myT1_mean)\n",
    "print('H1 mean %4.2F' % myH1_mean)"
   ]
  },
  {
   "cell_type": "markdown",
   "metadata": {},
   "source": [
    "### 不偏標準偏差(ustd)を求めます"
   ]
  },
  {
   "cell_type": "code",
   "execution_count": 8,
   "metadata": {},
   "outputs": [
    {
     "name": "stdout",
     "output_type": "stream",
     "text": [
      "T1 ustd 0.06\n",
      "H1 ustd 0.28\n"
     ]
    }
   ],
   "source": [
    "ustd_1=df1.std()\n",
    "myT1_ustd = ustd_1['temperature']\n",
    "myH1_ustd = ustd_1['humidity']\n",
    "print('T1 ustd %4.2F' % myT1_ustd)\n",
    "print('H1 ustd %4.2F' % myH1_ustd)"
   ]
  },
  {
   "cell_type": "markdown",
   "metadata": {},
   "source": [
    "### 標準誤差(sem)を求めます"
   ]
  },
  {
   "cell_type": "code",
   "execution_count": 9,
   "metadata": {},
   "outputs": [
    {
     "name": "stdout",
     "output_type": "stream",
     "text": [
      "T1 sem 0.01\n",
      "H1 sem 0.06\n"
     ]
    }
   ],
   "source": [
    "sem_1=df1.sem()\n",
    "myT1_sem = sem_1['temperature']\n",
    "myH1_sem = sem_1['humidity']\n",
    "print('T1 sem %4.2F' % myT1_sem)\n",
    "print('H1 sem %4.2F' % myH1_sem)"
   ]
  },
  {
   "cell_type": "markdown",
   "metadata": {},
   "source": [
    "## 測定２\n",
    "「温湿度計のセンサーに息を吹きかけるなどしてふらつかせる。」<br>\n",
    "センサーに息を吹きかけると，温度，湿度ともに少しの時間差の後の動き始めます。\n",
    "まずは測定しながら様子を見てみるとよいでしょう。様子がつかめてきたら本測定に入ります。"
   ]
  },
  {
   "cell_type": "code",
   "execution_count": 10,
   "metadata": {
    "scrolled": true
   },
   "outputs": [],
   "source": [
    "import numpy as np\n",
    "import pandas as pd\n",
    "\n",
    "# csv fileを読み込む (df=DataFrame, pandasの機能でcsvファイルを読み込む)\n",
    "df2 = pd.read_csv('../measure/data_2.csv', index_col='number')"
   ]
  },
  {
   "cell_type": "markdown",
   "metadata": {},
   "source": [
    "グラフにして見てみましょう。"
   ]
  },
  {
   "cell_type": "code",
   "execution_count": 11,
   "metadata": {},
   "outputs": [
    {
     "data": {
      "text/plain": [
       "<matplotlib.axes._subplots.AxesSubplot at 0x6d403330>"
      ]
     },
     "execution_count": 11,
     "metadata": {},
     "output_type": "execute_result"
    },
    {
     "data": {
      "image/png": "[encoded data removed]",
      "text/plain": [
       "<Figure size 432x288 with 1 Axes>"
      ]
     },
     "metadata": {
      "needs_background": "light"
     },
     "output_type": "display_data"
    }
   ],
   "source": [
    "df2.plot(kind='hist')"
   ]
  },
  {
   "cell_type": "markdown",
   "metadata": {},
   "source": [
    "### 平均値を表示します\n",
    "mean_2というlist形式の変数に落とし込みます。このままだと温度，湿度両方が入っています。<br>\n",
    "それぞれを表示するには mean_2['temperature'] のように書きます。"
   ]
  },
  {
   "cell_type": "code",
   "execution_count": 12,
   "metadata": {},
   "outputs": [
    {
     "name": "stdout",
     "output_type": "stream",
     "text": [
      "T2 mean 26.87\n",
      "H2 mean 55.36\n"
     ]
    }
   ],
   "source": [
    "mean_2=df2.mean()\n",
    "myT2_mean = mean_2['temperature']\n",
    "myH2_mean = mean_2['humidity']\n",
    "print('T2 mean %4.2F' % myT2_mean)\n",
    "print('H2 mean %4.2F' % myH2_mean)"
   ]
  },
  {
   "cell_type": "markdown",
   "metadata": {},
   "source": [
    "### 不偏標準偏差(ustd)を求めます"
   ]
  },
  {
   "cell_type": "code",
   "execution_count": 13,
   "metadata": {},
   "outputs": [
    {
     "name": "stdout",
     "output_type": "stream",
     "text": [
      "T2 ustd 15.24\n",
      "H2 ustd 11.88\n"
     ]
    }
   ],
   "source": [
    "ustd_2=df2.std()\n",
    "myT2_ustd = ustd_2['temperature']\n",
    "myH2_ustd = ustd_2['humidity']\n",
    "print('T2 ustd %4.2F' % myT2_ustd)\n",
    "print('H2 ustd %4.2F' % myH2_ustd)"
   ]
  },
  {
   "cell_type": "markdown",
   "metadata": {},
   "source": [
    "### 標準誤差(sem)を求めます"
   ]
  },
  {
   "cell_type": "code",
   "execution_count": 14,
   "metadata": {},
   "outputs": [
    {
     "name": "stdout",
     "output_type": "stream",
     "text": [
      "T2 sem 3.05\n",
      "H2 sem 2.38\n"
     ]
    }
   ],
   "source": [
    "sem_2=df2.sem()\n",
    "myT2_sem = sem_2['temperature']\n",
    "myH2_sem = sem_2['humidity']\n",
    "print('T2 sem %4.2F' % myT2_sem)\n",
    "print('H2 sem %4.2F' % myH2_sem)"
   ]
  },
  {
   "cell_type": "markdown",
   "metadata": {},
   "source": [
    "## 測定 3 \n",
    "「可能であれば部屋の設定温度を現在よりも+2度にして，温度が落ち着いたら測定。 」<br>\n",
    "設定温度は＋２度でなくても，何度でもよいのですが，測定１の結果と明らかな違いが出ているか\n",
    "どうかを確認して下さい。"
   ]
  },
  {
   "cell_type": "code",
   "execution_count": null,
   "metadata": {
    "scrolled": true
   },
   "outputs": [],
   "source": [
    "import numpy as np\n",
    "import pandas as pd\n",
    "\n",
    "# csv fileを読み込む (df=DataFrame, pandasの機能でcsvファイルを読み込む)\n",
    "df3 = pd.read_csv('../measure/data_3_tmp.csv', index_col='number')"
   ]
  },
  {
   "cell_type": "markdown",
   "metadata": {},
   "source": [
    "グラフにして見てみましょう。"
   ]
  },
  {
   "cell_type": "code",
   "execution_count": null,
   "metadata": {},
   "outputs": [],
   "source": [
    "df3.plot()"
   ]
  },
  {
   "cell_type": "markdown",
   "metadata": {},
   "source": [
    "### 平均値を表示します\n",
    "mean_3というlist形式の変数に落とし込みます。このままだと温度，湿度両方が入っています。<br>\n",
    "それぞれを表示するには mean_3['temperature'] のように書きます。"
   ]
  },
  {
   "cell_type": "code",
   "execution_count": null,
   "metadata": {},
   "outputs": [],
   "source": [
    "mean_3=df3.mean()\n",
    "myT3_mean = mean_3['temperature']\n",
    "myH3_mean = mean_3['humidity']\n",
    "print('T3 mean %4.2F' % myT3_mean)\n",
    "print('H3 mean %4.2F' % myH3_mean)"
   ]
  },
  {
   "cell_type": "markdown",
   "metadata": {},
   "source": [
    "### 不偏標準偏差(ustd)を求めます"
   ]
  },
  {
   "cell_type": "code",
   "execution_count": null,
   "metadata": {},
   "outputs": [],
   "source": [
    "ustd_3=df3.std()\n",
    "myT3_ustd = ustd_3['temperature']\n",
    "myH3_ustd = ustd_3['humidity']\n",
    "print('T3 ustd %4.2F' % myT3_ustd)\n",
    "print('H3 ustd %4.2F' % myH3_ustd)"
   ]
  },
  {
   "cell_type": "markdown",
   "metadata": {},
   "source": [
    "### 標準誤差(sem)を求めます"
   ]
  },
  {
   "cell_type": "code",
   "execution_count": null,
   "metadata": {},
   "outputs": [],
   "source": [
    "sem_3=df3.sem()\n",
    "myT3_sem = sem_3['temperature']\n",
    "myH3_sem = sem_3['humidity']\n",
    "print('T3 sem %4.2F' % myT3_sem)\n",
    "print('H3 sem %4.2F' % myH3_sem)"
   ]
  },
  {
   "cell_type": "markdown",
   "metadata": {},
   "source": [
    "## 測定４\n",
    "「各自好きなことをして（温度変更，加湿，など）から測定する。」<br>\n",
    "これはいろいろと試してみて下さい。"
   ]
  },
  {
   "cell_type": "code",
   "execution_count": null,
   "metadata": {
    "scrolled": true
   },
   "outputs": [],
   "source": [
    "import numpy as np\n",
    "import pandas as pd\n",
    "\n",
    "# csv fileを読み込む (df=DataFrame, pandasの機能でcsvファイルを読み込む)\n",
    "df4 = pd.read_csv('../measure/data_4_tmp.csv', index_col='number')"
   ]
  },
  {
   "cell_type": "markdown",
   "metadata": {},
   "source": [
    "グラフにして見てみましょう。"
   ]
  },
  {
   "cell_type": "code",
   "execution_count": null,
   "metadata": {},
   "outputs": [],
   "source": [
    "df4.plot()"
   ]
  },
  {
   "cell_type": "markdown",
   "metadata": {},
   "source": [
    "### 平均値を表示します\n",
    "mean_4というlist形式の変数に落とし込みます。このままだと温度，湿度両方が入っています。<br>\n",
    "それぞれを表示するには mean_4['temperature'] のように書きます。"
   ]
  },
  {
   "cell_type": "code",
   "execution_count": null,
   "metadata": {},
   "outputs": [],
   "source": [
    "mean_4=df4.mean()\n",
    "myT4_mean = mean_4['temperature']\n",
    "myH4_mean = mean_4['humidity']\n",
    "print('T4 mean %4.2F' % myT4_mean)\n",
    "print('H4 mean %4.2F' % myH4_mean)"
   ]
  },
  {
   "cell_type": "markdown",
   "metadata": {},
   "source": [
    "### 不偏標準偏差(ustd)を求めます"
   ]
  },
  {
   "cell_type": "code",
   "execution_count": null,
   "metadata": {},
   "outputs": [],
   "source": [
    "ustd_4=df4.std()\n",
    "myT4_ustd = ustd_4['temperature']\n",
    "myH4_ustd = ustd_4['humidity']\n",
    "print('T4 ustd %4.2F' % myT4_ustd)\n",
    "print('H4 ustd %4.2F' % myH4_ustd)"
   ]
  },
  {
   "cell_type": "markdown",
   "metadata": {},
   "source": [
    "### 標準誤差(sem)を求めます"
   ]
  },
  {
   "cell_type": "code",
   "execution_count": null,
   "metadata": {},
   "outputs": [],
   "source": [
    "sem_4=df4.sem()\n",
    "myT4_sem = sem_4['temperature']\n",
    "myH4_sem = sem_4['humidity']\n",
    "print('T4 sem %4.2F' % myT4_sem)\n",
    "print('H4 sem %4.2F' % myH4_sem)"
   ]
  },
  {
   "cell_type": "markdown",
   "metadata": {},
   "source": [
    "## 測定５\n",
    "「初期設定に温度等条件を戻して，落ち着いてから測定する 」<br>\n",
    "これが最終の本測定になります。\n",
    "ここで結果として現れる，<b>T5 mean, H5 mean の値を報告してもらいます。</b>"
   ]
  },
  {
   "cell_type": "code",
   "execution_count": 15,
   "metadata": {
    "scrolled": true
   },
   "outputs": [],
   "source": [
    "import numpy as np\n",
    "import pandas as pd\n",
    "\n",
    "# csv fileを読み込む (df=DataFrame, pandasの機能でcsvファイルを読み込む)\n",
    "df5 = pd.read_csv('../measure/data_5.csv', index_col='number')"
   ]
  },
  {
   "cell_type": "markdown",
   "metadata": {},
   "source": [
    "グラフにして見てみましょう。"
   ]
  },
  {
   "cell_type": "code",
   "execution_count": 16,
   "metadata": {},
   "outputs": [
    {
     "data": {
      "text/plain": [
       "<matplotlib.axes._subplots.AxesSubplot at 0x6d3d1670>"
      ]
     },
     "execution_count": 16,
     "metadata": {},
     "output_type": "execute_result"
    },
    {
     "data": {
      "image/png": "[encoded data removed]",
      "text/plain": [
       "<Figure size 432x288 with 1 Axes>"
      ]
     },
     "metadata": {
      "needs_background": "light"
     },
     "output_type": "display_data"
    }
   ],
   "source": [
    "df5.plot()"
   ]
  },
  {
   "cell_type": "markdown",
   "metadata": {},
   "source": [
    "### 平均値を表示します\n",
    "mean_5というlist形式の変数に落とし込みます。このままだと温度，湿度両方が入っています。<br>\n",
    "それぞれを表示するには mean_5['temperature'] のように書きます。"
   ]
  },
  {
   "cell_type": "code",
   "execution_count": 17,
   "metadata": {},
   "outputs": [
    {
     "name": "stdout",
     "output_type": "stream",
     "text": [
      "T5 mean 21.80\n",
      "H5 mean 47.00\n"
     ]
    }
   ],
   "source": [
    "mean_5=df5.mean()\n",
    "myT5_mean = mean_5['temperature']\n",
    "myH5_mean = mean_5['humidity']\n",
    "print('T5 mean %4.2F' % myT5_mean)\n",
    "print('H5 mean %4.2F' % myH5_mean)"
   ]
  },
  {
   "cell_type": "markdown",
   "metadata": {},
   "source": [
    "### 不偏標準偏差(ustd)を求めます"
   ]
  },
  {
   "cell_type": "code",
   "execution_count": 18,
   "metadata": {},
   "outputs": [
    {
     "name": "stdout",
     "output_type": "stream",
     "text": [
      "T5 ustd 0.04\n",
      "H5 ustd 0.00\n"
     ]
    }
   ],
   "source": [
    "ustd_5=df5.std()\n",
    "myT5_ustd = ustd_5['temperature']\n",
    "myH5_ustd = ustd_5['humidity']\n",
    "print('T5 ustd %4.2F' % myT5_ustd)\n",
    "print('H5 ustd %4.2F' % myH5_ustd)"
   ]
  },
  {
   "cell_type": "markdown",
   "metadata": {},
   "source": [
    "### 標準誤差(sem)を求めます"
   ]
  },
  {
   "cell_type": "code",
   "execution_count": 19,
   "metadata": {},
   "outputs": [
    {
     "name": "stdout",
     "output_type": "stream",
     "text": [
      "T5 sem 0.01\n",
      "H5 sem 0.00\n"
     ]
    }
   ],
   "source": [
    "sem_5=df5.sem()\n",
    "myT5_sem = sem_5['temperature']\n",
    "myH5_sem = sem_5['humidity']\n",
    "print('T5 sem %4.2F' % myT5_sem)\n",
    "print('H5 sem %4.2F' % myH5_sem)"
   ]
  },
  {
   "cell_type": "markdown",
   "metadata": {},
   "source": [
    "# 測定後の考察\n",
    "取得したデータを元にいろいろと考察して頂けるとよいですが，<br>\n",
    "例えば考察案としては，\n",
    "\n",
    "* 測定１と５の差（時間は10分くらい開ける）があるか，変化量を出す<br>\n",
    "* 測定２の平均値は１と比べてどう増えたか，分散の大きさは変わったか<br>\n",
    "* 測定３と測定１の差が＋２度になっているか<br>\n",
    "* 測定４で想定した数字になったか <br>\n",
    "\n",
    "などです。すでに結果は変数に落としているので，例えば測定３と測定１の差を\n",
    "見たければ以下のようにします。<br>\n",
    "\"{:4.2F}\".formatというのは，Float(小数）に対して，全桁を4桁にして，小数点以下2桁まで表示する形式\n",
    "（フォーマット）にしなさいという意味です。\n"
   ]
  },
  {
   "cell_type": "code",
   "execution_count": 20,
   "metadata": {},
   "outputs": [
    {
     "ename": "NameError",
     "evalue": "name 'myT3_mean' is not defined",
     "output_type": "error",
     "traceback": [
      "\u001b[0;31m---------------------------------------------------------------------------\u001b[0m",
      "\u001b[0;31mNameError\u001b[0m                                 Traceback (most recent call last)",
      "\u001b[0;32m<ipython-input-20-461e22c005f0>\u001b[0m in \u001b[0;36m<module>\u001b[0;34m\u001b[0m\n\u001b[0;32m----> 1\u001b[0;31m \u001b[0;34m\"{:4.2F}\"\u001b[0m\u001b[0;34m.\u001b[0m\u001b[0mformat\u001b[0m\u001b[0;34m(\u001b[0m\u001b[0mmyT3_mean\u001b[0m \u001b[0;34m-\u001b[0m \u001b[0mmyT1_mean\u001b[0m\u001b[0;34m)\u001b[0m\u001b[0;34m\u001b[0m\u001b[0m\n\u001b[0m",
      "\u001b[0;31mNameError\u001b[0m: name 'myT3_mean' is not defined"
     ]
    }
   ],
   "source": [
    "\"{:4.2F}\".format(myT3_mean - myT1_mean)"
   ]
  },
  {
   "cell_type": "code",
   "execution_count": 21,
   "metadata": {},
   "outputs": [
    {
     "data": {
      "text/plain": [
       "'0.06'"
      ]
     },
     "execution_count": 21,
     "metadata": {},
     "output_type": "execute_result"
    }
   ],
   "source": [
    "\"{:4.2F}\".format(myT5_mean-myT1_mean)"
   ]
  },
  {
   "cell_type": "code",
   "execution_count": null,
   "metadata": {},
   "outputs": [],
   "source": []
  }
 ],
 "metadata": {
  "kernelspec": {
   "display_name": "Python 3",
   "language": "python",
   "name": "python3"
  },
  "language_info": {
   "codemirror_mode": {
    "name": "ipython",
    "version": 3
   },
   "file_extension": ".py",
   "mimetype": "text/x-python",
   "name": "python",
   "nbconvert_exporter": "python",
   "pygments_lexer": "ipython3",
   "version": "3.5.3"
  }
 },
 "nbformat": 4,
 "nbformat_minor": 4
}
