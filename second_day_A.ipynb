{
 "cells": [
  {
   "cell_type": "markdown",
   "metadata": {},
   "source": [
    "# 二日目前半\n",
    "\n",
    "# 確率分布を調べる\n",
    "\n",
    "[a-1] まずはこれらの計算に必要となるPythonのモジュール（ライブラリ）をimportしましょう。\n",
    "前回同様 numpy はpythonの数値計算のライブラリ，matplotlib.pyplotは グラフを作画するときに使います。\n",
    "scipy の中の stats は今回統計計算をする際にお世話になります。\n",
    "\n",
    "import (module名) as (短縮名) として，moduleを読み込み，本文の方では (短縮名) を使ってそのライブラリを使用しますよ，という宣言です。なので，以降 np.XXXX　とあれば，numpyの中のXXXXというmethod(関数のようなもの)を使いますという意味です。例えば np.sum と言えば，numpyで定義されているsumというメソッドを使います，ということです。"
   ]
  },
  {
   "cell_type": "code",
   "execution_count": 1,
   "metadata": {
    "scrolled": true
   },
   "outputs": [],
   "source": [
    "import numpy as np\n",
    "import matplotlib.pyplot as plt\n",
    "from scipy import stats"
   ]
  },
  {
   "cell_type": "markdown",
   "metadata": {},
   "source": [
    "## 前準備\n",
    " [a-2] まずはこの後に共通で使うので，いくつかの関数（ここではプログラムの関数の意味）を定義しておきます。\n",
    "関数に与える情報は1次元の$x$の値のリスト，例えば以下のx_setです。ここでは例として$x=10,20,40,50$\n",
    "という4つの数字列を定義してみます。2行目は定義したx_setの中身を表示させています。"
   ]
  },
  {
   "cell_type": "code",
   "execution_count": 2,
   "metadata": {},
   "outputs": [
    {
     "data": {
      "text/plain": [
       "array([10, 20, 30, 40, 50])"
      ]
     },
     "execution_count": 2,
     "metadata": {},
     "output_type": "execute_result"
    }
   ],
   "source": [
    "x_set=np.array([10,20,30,40,50])\n",
    "x_set"
   ]
  },
  {
   "cell_type": "markdown",
   "metadata": {},
   "source": [
    "[a-3] 次に確率密度関数 $f(x)$（こちらはある$x$の値になる確率を表す，$0.0\\le f(x)\\le 1.0$)を定義します。ここでは例としてmfunc(x)という（数学の）関数が$x^2$に比例する形になっています。確率密度としての体裁に直すために，$x^2$の和で割って規格化しています（ここではx_setの中身が予め分かっているのでこのような規格化ができます。確率密度はすべての領域を積分すると1になります。）。"
   ]
  },
  {
   "cell_type": "code",
   "execution_count": 3,
   "metadata": {},
   "outputs": [],
   "source": [
    "def mfunc(x):\n",
    "    return x**2/(10**2+20**2+30**2+40**2+50**2)"
   ]
  },
  {
   "cell_type": "markdown",
   "metadata": {},
   "source": [
    "[a-4] 以降の関数（プログラムの関数）に渡す情報は以下のように$X$という一つの変数に押し込みます。\n",
    "ここでは($x$の値のリスト),(確率密度関数)という２つの情報をこの順番に詰めます。\n",
    "一見全く異なる種類のものを詰め込んで\n",
    "いますが，気にしないで下さい。そのように並べて渡しているというだけです。2行目で$X$の中身を表示しますが，array(配列)と関数が詰まっていることがわかります。"
   ]
  },
  {
   "cell_type": "code",
   "execution_count": 4,
   "metadata": {},
   "outputs": [
    {
     "data": {
      "text/plain": [
       "[array([10, 20, 30, 40, 50]), <function __main__.mfunc(x)>]"
      ]
     },
     "execution_count": 4,
     "metadata": {},
     "output_type": "execute_result"
    }
   ],
   "source": [
    "X=[x_set, mfunc]\n",
    "X"
   ]
  },
  {
   "cell_type": "markdown",
   "metadata": {},
   "source": [
    "## 共通に使う関数\n",
    "### 平均\n",
    "[a-5] まずは平均を取る関数です。$f(x)$が確率密度関数なので，$x\\cdot f(x)$を全て足し上げれば平均が出ます。"
   ]
  },
  {
   "cell_type": "code",
   "execution_count": 5,
   "metadata": {},
   "outputs": [],
   "source": [
    "def E(X):\n",
    "    x_set, f=X # 関数の中で，Xの中身を x_set,f に展開する\n",
    "    return np.sum([x_k*f(x_k) for x_k in x_set]) # x_setの各要素 x_k に渡り xf(x) を足し上げる"
   ]
  },
  {
   "cell_type": "markdown",
   "metadata": {},
   "source": [
    "では早速使ってみましょう。"
   ]
  },
  {
   "cell_type": "code",
   "execution_count": 6,
   "metadata": {},
   "outputs": [
    {
     "name": "stdout",
     "output_type": "stream",
     "text": [
      "E(x) = 40.909 \n"
     ]
    }
   ],
   "source": [
    "print(\"E(x) = %5.3F \" % E(X) )"
   ]
  },
  {
   "cell_type": "markdown",
   "metadata": {},
   "source": [
    "合っているかどうか手計算と比べて確かめてみましょう"
   ]
  },
  {
   "cell_type": "code",
   "execution_count": 7,
   "metadata": {},
   "outputs": [
    {
     "name": "stdout",
     "output_type": "stream",
     "text": [
      "E(x) = 40.909 \n"
     ]
    }
   ],
   "source": [
    "print(\"E(x) = %5.3F \" % ((10*10**2+20*20**2+30*30**2+40*40**2+50*50**2)/(10**2+20**2+30**2+40**2+50**2)))"
   ]
  },
  {
   "cell_type": "markdown",
   "metadata": {},
   "source": [
    "どうやら合っているようです。"
   ]
  },
  {
   "cell_type": "markdown",
   "metadata": {},
   "source": [
    "### 分散\n",
    "[a-6] 次は分散を計算します。関数定義の中でE(x)も使います。"
   ]
  },
  {
   "cell_type": "code",
   "execution_count": 8,
   "metadata": {},
   "outputs": [],
   "source": [
    "def V(X):\n",
    "    x_set, f=X # 関数の中で，Xの中身を x_set,f に展開する\n",
    "    mean = E(X) # 受け取ったXをそのままの形で E(X) に渡します\n",
    "    return np.sum([(x_k-mean)**2 * f(x_k) for x_k in x_set])   # (x-x0)^2 * f を足し上げます。"
   ]
  },
  {
   "cell_type": "markdown",
   "metadata": {},
   "source": [
    "では使ってみましょう。"
   ]
  },
  {
   "cell_type": "code",
   "execution_count": 9,
   "metadata": {},
   "outputs": [
    {
     "name": "stdout",
     "output_type": "stream",
     "text": [
      "V(x) = 106.446 \n"
     ]
    }
   ],
   "source": [
    "print(\"V(x) = %5.3F \" % V(X) )"
   ]
  },
  {
   "cell_type": "markdown",
   "metadata": {},
   "source": [
    "これもちょっと面倒ですが確かめてみましょう。"
   ]
  },
  {
   "cell_type": "code",
   "execution_count": 10,
   "metadata": {},
   "outputs": [
    {
     "name": "stdout",
     "output_type": "stream",
     "text": [
      "E(x) = 106.446 \n"
     ]
    }
   ],
   "source": [
    "print(\"E(x) = %5.3F \" % (((10-E(X))**2*10**2+(20-E(X))**2*20**2+(30-E(X))**2*30**2+(40-E(X))**2*40**2+(50-E(X))**2*50**2)/(10**2+20**2+30**2+40**2+50**2)))"
   ]
  },
  {
   "cell_type": "markdown",
   "metadata": {},
   "source": [
    "どうやらよさそうです。\n",
    "\n",
    "### plot関数\n",
    "[a-7] やはり分布を目で確かめたいものです。次にプロットする関数を定義します。"
   ]
  },
  {
   "cell_type": "code",
   "execution_count": 14,
   "metadata": {},
   "outputs": [],
   "source": [
    "def plot_prob(X):\n",
    "    x_set, f=X   # 関数の中で，Xの中身を x_set,f に展開する\n",
    "    prob = np.array([f(x_k) for x_k in x_set]) # 全てのxに対してf(x)を計算してprobという配列に詰めます\n",
    "    \n",
    "    # グラフを書く前のおまじない（2行）\n",
    "    fig = plt.figure(figsize=(10,6))\n",
    "    ax = fig.add_subplot(111)\n",
    " \n",
    "    wid = (x_set.max()-x_set.min())/(x_set.size-1)*0.9\n",
    "#    print(\"width = %f \" % wid)\n",
    "    \n",
    "    ax.bar(x_set, prob, width=wid)\n",
    "\n",
    "    ax.vlines(E(X),0,1,label='mean')  # x=平均の位置に垂直線を描きます\n",
    "    ax.set_ylim(0, prob.max()*1.2)    # y軸の範囲をうまく調整します\n",
    "    ax.legend() # 凡例を書きます\n",
    "    \n",
    "    #plt.show()\n"
   ]
  },
  {
   "cell_type": "code",
   "execution_count": 12,
   "metadata": {},
   "outputs": [
    {
     "data": {
      "image/png": "[encoded data removed]",
      "text/plain": [
       "<Figure size 720x432 with 1 Axes>"
      ]
     },
     "metadata": {
      "needs_background": "light"
     },
     "output_type": "display_data"
    }
   ],
   "source": [
    "plot_prob(X)"
   ]
  },
  {
   "cell_type": "markdown",
   "metadata": {},
   "source": [
    "平均の線が直観的な位置にあることが視覚で確認できました。"
   ]
  },
  {
   "cell_type": "markdown",
   "metadata": {},
   "source": [
    "## 二項分布\n",
    "\n",
    "[a-8] スライドでも説明しましたが二項分布とは，成功確率がある決まった大きさ$p\\,$($0\\le p \\le 1$)でおきるような試行（例えばコイン投げであれば$p=0.5$）を$n$回行ったときその中で成功した回数$x$($x$は$0,1,2\\cdots,n$の整数)が従う分布です。\n",
    "${}_nC_xp^x(1-p)^{(n-x)}$の分布に従います。"
   ]
  },
  {
   "cell_type": "code",
   "execution_count": 15,
   "metadata": {},
   "outputs": [],
   "source": [
    "from scipy.special import comb # 組み合わせ nCx を使うので comb を import\n",
    "\n",
    "def Bin(n,p):\n",
    "    x_set = np.arange(n+1) # nが与えられた数，arange(n+1)は0,1,2,..., \"n\"のリストを返す\n",
    "    def f(x):\n",
    "        if x in x_set:\n",
    "            return comb(n,x) * p**x * (1-p)**(n-x) # 範囲にある場合だけ計算する\n",
    "        else:\n",
    "            return 0   # 範囲になければ 0 を返す \n",
    "    return x_set, f    # 数列と最後に関数fを並べて返します\n"
   ]
  },
  {
   "cell_type": "markdown",
   "metadata": {},
   "source": [
    "では二項分布関数を呼んでみましょう。例として$n=7, p=0.3$で計算してみます（いろいろと試してみて下さい）。"
   ]
  },
  {
   "cell_type": "code",
   "execution_count": 31,
   "metadata": {},
   "outputs": [
    {
     "data": {
      "text/plain": [
       "(array([  0,   1,   2,   3,   4,   5,   6,   7,   8,   9,  10,  11,  12,\n",
       "         13,  14,  15,  16,  17,  18,  19,  20,  21,  22,  23,  24,  25,\n",
       "         26,  27,  28,  29,  30,  31,  32,  33,  34,  35,  36,  37,  38,\n",
       "         39,  40,  41,  42,  43,  44,  45,  46,  47,  48,  49,  50,  51,\n",
       "         52,  53,  54,  55,  56,  57,  58,  59,  60,  61,  62,  63,  64,\n",
       "         65,  66,  67,  68,  69,  70,  71,  72,  73,  74,  75,  76,  77,\n",
       "         78,  79,  80,  81,  82,  83,  84,  85,  86,  87,  88,  89,  90,\n",
       "         91,  92,  93,  94,  95,  96,  97,  98,  99, 100, 101, 102, 103,\n",
       "        104, 105, 106, 107, 108, 109, 110, 111, 112, 113, 114, 115, 116,\n",
       "        117, 118, 119, 120, 121, 122, 123, 124, 125, 126, 127, 128, 129,\n",
       "        130, 131, 132, 133, 134, 135, 136, 137, 138, 139, 140, 141, 142,\n",
       "        143, 144, 145, 146, 147, 148, 149, 150, 151, 152, 153, 154, 155,\n",
       "        156, 157, 158, 159, 160, 161, 162, 163, 164, 165, 166, 167, 168,\n",
       "        169, 170, 171, 172, 173, 174, 175, 176, 177, 178, 179, 180, 181,\n",
       "        182, 183, 184, 185, 186, 187, 188, 189, 190, 191, 192, 193, 194,\n",
       "        195, 196, 197, 198, 199, 200]), <function __main__.Bin.<locals>.f(x)>)"
      ]
     },
     "execution_count": 31,
     "metadata": {},
     "output_type": "execute_result"
    }
   ],
   "source": [
    "myn=200\n",
    "myp=0.3\n",
    "\n",
    "X=Bin(myn,myp)\n",
    "X"
   ]
  },
  {
   "cell_type": "markdown",
   "metadata": {},
   "source": [
    "平均値，分散を計算してみます。"
   ]
  },
  {
   "cell_type": "code",
   "execution_count": 17,
   "metadata": {},
   "outputs": [
    {
     "name": "stdout",
     "output_type": "stream",
     "text": [
      "mean :    2.10000 \n"
     ]
    }
   ],
   "source": [
    "print('mean : %10.5f ' % E(X))"
   ]
  },
  {
   "cell_type": "code",
   "execution_count": 18,
   "metadata": {},
   "outputs": [
    {
     "name": "stdout",
     "output_type": "stream",
     "text": [
      "variance :    1.47000 \n"
     ]
    }
   ],
   "source": [
    "print('variance : %10.5f ' % V(X))"
   ]
  },
  {
   "cell_type": "markdown",
   "metadata": {},
   "source": [
    "手計算と比べてどうでしょうか。二項分布の平均は$E=np$, 分散は$V=np(1-p)$です。"
   ]
  },
  {
   "cell_type": "code",
   "execution_count": 19,
   "metadata": {},
   "outputs": [
    {
     "name": "stdout",
     "output_type": "stream",
     "text": [
      "mean (manual) :    2.10000\n"
     ]
    }
   ],
   "source": [
    "print('mean (manual) : %10.5f' % (myn*myp))"
   ]
  },
  {
   "cell_type": "code",
   "execution_count": 20,
   "metadata": {},
   "outputs": [
    {
     "name": "stdout",
     "output_type": "stream",
     "text": [
      "variance (manual) :    1.47000\n"
     ]
    }
   ],
   "source": [
    "print('variance (manual) : %10.5f' % (myn*myp*(1-myp)))"
   ]
  },
  {
   "cell_type": "markdown",
   "metadata": {},
   "source": [
    "分布はどうなっているでしょうか"
   ]
  },
  {
   "cell_type": "code",
   "execution_count": 32,
   "metadata": {},
   "outputs": [
    {
     "ename": "NameError",
     "evalue": "name 'plot_prop' is not defined",
     "output_type": "error",
     "traceback": [
      "\u001b[0;31m---------------------------------------------------------------------------\u001b[0m",
      "\u001b[0;31mNameError\u001b[0m                                 Traceback (most recent call last)",
      "\u001b[0;32m<ipython-input-32-2211eea8a0f7>\u001b[0m in \u001b[0;36m<module>\u001b[0;34m\u001b[0m\n\u001b[0;32m----> 1\u001b[0;31m \u001b[0mplot_prob\u001b[0m\u001b[0;34m(\u001b[0m\u001b[0mX\u001b[0m\u001b[0;34m)\u001b[0m\u001b[0;34m\u001b[0m\u001b[0m\n\u001b[0m",
      "\u001b[0;32m<ipython-input-14-b45b7f2be359>\u001b[0m in \u001b[0;36mplot_prob\u001b[0;34m(X)\u001b[0m\n\u001b[1;32m     17\u001b[0m \u001b[0;34m\u001b[0m\u001b[0m\n\u001b[1;32m     18\u001b[0m     \u001b[0;31m#plt.show()\u001b[0m\u001b[0;34m\u001b[0m\u001b[0;34m\u001b[0m\u001b[0m\n\u001b[0;32m---> 19\u001b[0;31m     \u001b[0mplot_prop\u001b[0m\u001b[0;34m(\u001b[0m\u001b[0mX\u001b[0m\u001b[0;34m)\u001b[0m\u001b[0;34m\u001b[0m\u001b[0m\n\u001b[0m",
      "\u001b[0;31mNameError\u001b[0m: name 'plot_prop' is not defined"
     ]
    },
    {
     "data": {
      "image/png": "[encoded data removed]",
      "text/plain": [
       "<Figure size 720x432 with 1 Axes>"
      ]
     },
     "metadata": {
      "needs_background": "light"
     },
     "output_type": "display_data"
    }
   ],
   "source": [
    "plot_prob(X)"
   ]
  },
  {
   "cell_type": "markdown",
   "metadata": {},
   "source": [
    "自分で計算しないでもscipy.statsには2項分布関数，binomが用意されています。"
   ]
  },
  {
   "cell_type": "code",
   "execution_count": 28,
   "metadata": {},
   "outputs": [
    {
     "data": {
      "text/plain": [
       "<matplotlib.legend.Legend at 0x6d3b4450>"
      ]
     },
     "execution_count": 28,
     "metadata": {},
     "output_type": "execute_result"
    },
    {
     "data": {
      "image/png": "[encoded data removed]",
      "text/plain": [
       "<Figure size 720x432 with 1 Axes>"
      ]
     },
     "metadata": {
      "needs_background": "light"
     },
     "output_type": "display_data"
    }
   ],
   "source": [
    "fig = plt.figure(figsize=(10,6))\n",
    "ax = fig.add_subplot(111)\n",
    "\n",
    "x_set = np.arange(myn+1) # 0,1,・・,myn が範囲\n",
    "\n",
    "rv=stats.binom(myn, myp) # 確率分布 rvを定義 (これはスムーズに連続した分布)\n",
    "ax.bar(x_set, rv.pmf(x_set), label='prob') # pmfメソッドにリストx_setを与え，それぞれの確率を計算させます。\n",
    "ax.set_ylim(0, rv.pmf(x_set).max()*1.2)    # y軸の範囲をうまく調整します(最大値の1.2倍)\n",
    "ax.legend() # 凡例を書きます"
   ]
  },
  {
   "cell_type": "markdown",
   "metadata": {},
   "source": [
    "## 実習 1\n",
    " \n",
    " 他の様々な値を代入して試してみましょう。特に$n$を大きくした際にどうなるか見てみましょう。\n",
    " ($n=0$は定義外となります)\n",
    " \n",
    "---"
   ]
  },
  {
   "cell_type": "markdown",
   "metadata": {},
   "source": [
    "## ポワソン分布\n",
    "[a-9] つぎはポワソン分布です。やり方はほとんど二項分布の場合と同じです。\n",
    "期待値$\\mu$と，plotの範囲$x_{max}$を与えます。"
   ]
  },
  {
   "cell_type": "code",
   "execution_count": 33,
   "metadata": {},
   "outputs": [],
   "source": [
    "from scipy.special import factorial\n",
    "import math\n",
    "def Poisson(mu,xmax):\n",
    "    x_set = np.arange(int(xmax))   # 整数を扱う\n",
    "    def f(x):\n",
    "        if x in x_set:\n",
    "            # 累乗はnp.power(mu,x)とmath.pow(mu,x)とあるが，\n",
    "            # 精度の関係からmath.powを使う。\n",
    "            # factorialは階数 x\n",
    "            calc = (math.pow(mu,x)/factorial(x))*math.exp(-mu)\n",
    "            return calc\n",
    "        else:\n",
    "            return 0\n",
    "    return x_set, f  # 数列と最後に関数fを並べて返します                  "
   ]
  },
  {
   "cell_type": "markdown",
   "metadata": {},
   "source": [
    "まずは例として，$\\mu=3$ plotの範囲 $x_{max}=10$として計算してみます。"
   ]
  },
  {
   "cell_type": "code",
   "execution_count": 49,
   "metadata": {},
   "outputs": [],
   "source": [
    "mymu=5 # muの値をセット\n",
    "myxmax=10  # xmaxの値をセット\n",
    "X=Poisson(mymu,myxmax)"
   ]
  },
  {
   "cell_type": "code",
   "execution_count": 35,
   "metadata": {},
   "outputs": [
    {
     "ename": "NameError",
     "evalue": "name 'plot_prop' is not defined",
     "output_type": "error",
     "traceback": [
      "\u001b[0;31m---------------------------------------------------------------------------\u001b[0m",
      "\u001b[0;31mNameError\u001b[0m                                 Traceback (most recent call last)",
      "\u001b[0;32m<ipython-input-35-2211eea8a0f7>\u001b[0m in \u001b[0;36m<module>\u001b[0;34m\u001b[0m\n\u001b[0;32m----> 1\u001b[0;31m \u001b[0mplot_prob\u001b[0m\u001b[0;34m(\u001b[0m\u001b[0mX\u001b[0m\u001b[0;34m)\u001b[0m\u001b[0;34m\u001b[0m\u001b[0m\n\u001b[0m",
      "\u001b[0;32m<ipython-input-14-b45b7f2be359>\u001b[0m in \u001b[0;36mplot_prob\u001b[0;34m(X)\u001b[0m\n\u001b[1;32m     17\u001b[0m \u001b[0;34m\u001b[0m\u001b[0m\n\u001b[1;32m     18\u001b[0m     \u001b[0;31m#plt.show()\u001b[0m\u001b[0;34m\u001b[0m\u001b[0;34m\u001b[0m\u001b[0m\n\u001b[0;32m---> 19\u001b[0;31m     \u001b[0mplot_prop\u001b[0m\u001b[0;34m(\u001b[0m\u001b[0mX\u001b[0m\u001b[0;34m)\u001b[0m\u001b[0;34m\u001b[0m\u001b[0m\n\u001b[0m",
      "\u001b[0;31mNameError\u001b[0m: name 'plot_prop' is not defined"
     ]
    },
    {
     "data": {
      "image/png": "[encoded data removed]",
      "text/plain": [
       "<Figure size 720x432 with 1 Axes>"
      ]
     },
     "metadata": {
      "needs_background": "light"
     },
     "output_type": "display_data"
    }
   ],
   "source": [
    "plot_prob(X)"
   ]
  },
  {
   "cell_type": "markdown",
   "metadata": {},
   "source": [
    "[a-10] こちらも同様に，自分で計算しないでもscipy.statsにはポワソン分布関数poissonが用意されています。\n",
    "\n",
    "pmf(Probability Mass Function: 確率質量関数)メソッドはとびとびの要素ごとのでやすさを返します。"
   ]
  },
  {
   "cell_type": "code",
   "execution_count": 50,
   "metadata": {},
   "outputs": [
    {
     "data": {
      "text/plain": [
       "<matplotlib.legend.Legend at 0x6d58fe50>"
      ]
     },
     "execution_count": 50,
     "metadata": {},
     "output_type": "execute_result"
    },
    {
     "data": {
      "image/png": "[encoded data removed]",
      "text/plain": [
       "<Figure size 720x432 with 1 Axes>"
      ]
     },
     "metadata": {
      "needs_background": "light"
     },
     "output_type": "display_data"
    }
   ],
   "source": [
    "fig = plt.figure(figsize=(10,6))\n",
    "ax = fig.add_subplot(111)\n",
    "\n",
    "x_set = np.arange(myxmax)\n",
    "rv=stats.poisson(mymu) # 確率分布 rvを定義\n",
    "ax.bar(x_set, rv.pmf(x_set), label='Poisson') # pmfメソッドにリストx_setを与え，それぞれの確率を計算させます。\n",
    "ax.set_ylim(0, rv.pmf(x_set).max()*1.2)    # y軸の範囲をうまく調整します\n",
    "\n",
    "# 正規分布関数を表示\n",
    "rv_norm = stats.norm(mymu, np.sqrt(mymu))\n",
    "xs = np.linspace(0,myxmax,300)\n",
    "ax.plot(xs, rv_norm.pdf(xs), label=\"Normal\", color='orange')\n",
    "\n",
    "ax.legend() # 凡例を書きます"
   ]
  },
  {
   "cell_type": "markdown",
   "metadata": {},
   "source": [
    "どうやら同じ絵になりました。\n",
    "オレンジ色の曲線は，独立に平均$=\\mu$, 標準偏差$=\\sqrt{\\mu}$の正規分布の確率密度分布関数を描いたものです。"
   ]
  },
  {
   "cell_type": "markdown",
   "metadata": {},
   "source": [
    "## 実習2\n",
    "他の様々な値を代入して試してみましょう。$\\mu$を1以下の小数や0にした場合どうなるでしょうか？\n",
    "その分布から何が考察できるでしょうか?\n",
    "\n",
    "また，逆に$\\mu$を大きくした場合はどうでしょうか。正規分布との一致具合も確認しましょう。\n",
    "\n",
    "注意：$x_{max}$を大きくすると値が小さくなりすぎエラーがでますので気をつけて下さい。\n",
    "\n",
    "---"
   ]
  },
  {
   "cell_type": "markdown",
   "metadata": {},
   "source": [
    "# ここからは連続分布の話に移ります\n",
    "\n",
    "## カイ二乗分布\n",
    "[a-11] 自由度 $n$ のカイ二乗の分布を実際にサンプリングから求める場合は，標準正規分布（平均0，分散1）\n",
    "から $n$ 個の値を無作為に抽出して足す，それを繰り返す，という手順で計算する必要があります。\n",
    "その計算はやや手間なのでここではやりません。代わりには scipy.stats がもっている確率密度関数 chi2 を用います。\n",
    "\n",
    "pdf(probability density function: 確率密度関数)といって確率の分布を表します。"
   ]
  },
  {
   "cell_type": "code",
   "execution_count": 58,
   "metadata": {},
   "outputs": [
    {
     "data": {
      "text/plain": [
       "<matplotlib.legend.Legend at 0x6c6a7810>"
      ]
     },
     "execution_count": 58,
     "metadata": {},
     "output_type": "execute_result"
    },
    {
     "data": {
      "image/png": "[encoded data removed]",
      "text/plain": [
       "<Figure size 720x432 with 1 Axes>"
      ]
     },
     "metadata": {
      "needs_background": "light"
     },
     "output_type": "display_data"
    }
   ],
   "source": [
    "fig = plt.figure(figsize=(10,6))\n",
    "ax = fig.add_subplot(111)\n",
    "\n",
    "n1 = 1 # 自由度（degree of freedom）\n",
    "n2 = 10\n",
    "n3 = 25\n",
    "\n",
    "\n",
    "rv1=stats.chi2(n1) # 確率分布 rv1を定義\n",
    "rv2=stats.chi2(n2) # 確率分布 rv2を定義\n",
    "rv3=stats.chi2(n3) # 確率分布 rv3を定義\n",
    "\n",
    "xs=np.linspace(0,200,400)  # x=0-200の間を400等分した値のリスト\n",
    "\n",
    "ax.plot(xs, rv1.pdf(xs), label='chi('+str(n1)+')') # pdfメソッドにリストxsを与え，それぞれの確率を計算させます。\n",
    "ax.plot(xs, rv2.pdf(xs), label='chi('+str(n2)+')') \n",
    "ax.plot(xs, rv3.pdf(xs), label='chi('+str(n3)+')') \n",
    "\n",
    "ax.legend() # 凡例を書きます"
   ]
  },
  {
   "cell_type": "markdown",
   "metadata": {},
   "source": [
    "## 実習３\n",
    "一見，正規分布のように見えますが $n$を小さくしていくと左右非対称になるのが分かります。\n",
    "$n=1,2$では最大値は$x=0$になり，$n=3$からはピークが$x=0$から離れます。なぜだか分かりますか？ \n",
    "\n",
    "---"
   ]
  },
  {
   "cell_type": "markdown",
   "metadata": {},
   "source": [
    "## t分布と正規分布の比較\n",
    "[a-12] t分布はt検定で用いるので，ここでその形を確認しておきましょう。詳しい話はスライドを参照して下さい。\n",
    "自由度$n$のt分布と，正規分布を比較してみます。"
   ]
  },
  {
   "cell_type": "code",
   "execution_count": 67,
   "metadata": {},
   "outputs": [
    {
     "data": {
      "text/plain": [
       "<matplotlib.legend.Legend at 0x6bd78790>"
      ]
     },
     "execution_count": 67,
     "metadata": {},
     "output_type": "execute_result"
    },
    {
     "data": {
      "image/png": "[encoded data removed]",
      "text/plain": [
       "<Figure size 720x432 with 1 Axes>"
      ]
     },
     "metadata": {
      "needs_background": "light"
     },
     "output_type": "display_data"
    }
   ],
   "source": [
    "fig = plt.figure(figsize=(10,6))\n",
    "ax = fig.add_subplot(111)\n",
    "\n",
    "xs=np.linspace(-4,4,100)  # x=[-4,+4]の間を100等分した値のリスト\n",
    "\n",
    "#==================================\n",
    "n=10 # t分布の自由度(書き換えましょう)\n",
    "#==================================\n",
    "\n",
    "rv_t=stats.t(n)   # 自由度 n の t分布 確率分布 rv_tを定義\n",
    "\n",
    "rv_n=stats.norm() # 正規分布 確率分布 rv_nを定義 (初期値を与えてないので，平均=0, 標準偏差=1)\n",
    "\n",
    "ax.plot(xs, rv_t.pdf(xs), label='t('+str(n)+')')  # t分布の表示\n",
    "ax.plot(xs, rv_n.pdf(xs), label='N(0,1)')         # 正規分布の表示\n",
    "\n",
    "ax.legend() # 凡例の表示 "
   ]
  },
  {
   "cell_type": "markdown",
   "metadata": {},
   "source": [
    "## 実習４\n",
    "正規分布とt分布の差が顕著になるのは$n$がいくつくらいからであろうか。\n",
    "いろいろな値を自分で試してみて確認せよ。\n",
    "\n",
    "---"
   ]
  },
  {
   "cell_type": "markdown",
   "metadata": {},
   "source": [
    "## 大数の法則の確認\n",
    "[a-13] 大数の法則の意味合いについてはスライド資料の説明で学んで下さい。ここでは実際にその効果を乱数シミュレーションで確認してみましょう。大数の法則により，自然界がもともともっている分布がなんであれ，ある程度のサンプリング平均を繰り返すと正規分布が得られることになります。\n",
    "\n",
    "ここでは極端な例として指数関数という関数を用います。正規分布とは全く異なる形をしています。\n",
    "その指数関数に従う乱数を発生させて，実際の実験や調査のように無作為にサンプリングをして，平均を求めます。そのサンプリングを繰り返します。\n",
    "\n",
    "まずは元になる指数関数を定義して形を確認します。$f(x)=\\frac{1}{A}e^{-x/A}$という関数で，$x=A$のところで，高さが$1/e=0.368$まで下がります。"
   ]
  },
  {
   "cell_type": "code",
   "execution_count": 69,
   "metadata": {
    "scrolled": false
   },
   "outputs": [
    {
     "data": {
      "text/plain": [
       "<matplotlib.legend.Legend at 0x6bde5af0>"
      ]
     },
     "execution_count": 69,
     "metadata": {},
     "output_type": "execute_result"
    },
    {
     "data": {
      "image/png": "[encoded data removed]",
      "text/plain": [
       "<Figure size 720x432 with 1 Axes>"
      ]
     },
     "metadata": {
      "needs_background": "light"
     },
     "output_type": "display_data"
    }
   ],
   "source": [
    "fig = plt.figure(figsize=(10,6))\n",
    "ax = fig.add_subplot(111)\n",
    "\n",
    "myA = 10 # 指数関数の平均値に相当するパラメータ\n",
    "\n",
    "rv = stats.expon(loc=0, scale=myA) # loc: x方向の基準点，scale: 平均値\n",
    "\n",
    "xs=np.linspace(0,30,100)  # x=[0,30]の間を100等分した値のリスト\n",
    "\n",
    "ax.plot(xs, rv.pdf(xs), label='exponential(-x/'+str(myA)+')')\n",
    "ax.set_ylim(0, 0.125)\n",
    "\n",
    "ax.vlines(0,0.0,0.125)\n",
    "ax.vlines(10,0.0,0.0368,linestyle='dashed')     # 垂直ダッシュライン\n",
    "ax.hlines(0.0368, 0.0, 10.0,linestyle='dashed') # 水平ダッシュライン\n",
    "ax.legend()\n",
    "\n"
   ]
  },
  {
   "cell_type": "markdown",
   "metadata": {},
   "source": [
    "[a-14] では，実際にサンプリングをしてみましょう。初期値は一回の調査で１つのサンプルしかとらないこと(sampling_n=1)\n",
    "に設定しています，サンプル数が1なので，平均をとるとその1サンプルの値そのものになります（後の実習ではいろいろと変えてみて下さい）。当然，その調査を繰り返せば，もとの分布が得られます。一緒に描かれているオレンジ色のラインについてはグラフの下の説明を見て下さい。"
   ]
  },
  {
   "cell_type": "code",
   "execution_count": 75,
   "metadata": {},
   "outputs": [
    {
     "data": {
      "text/plain": [
       "<matplotlib.legend.Legend at 0x6b164f90>"
      ]
     },
     "execution_count": 75,
     "metadata": {},
     "output_type": "execute_result"
    },
    {
     "data": {
      "image/png": "[encoded data removed]",
      "text/plain": [
       "<Figure size 720x432 with 1 Axes>"
      ]
     },
     "metadata": {
      "needs_background": "light"
     },
     "output_type": "display_data"
    }
   ],
   "source": [
    "fig = plt.figure(figsize=(10,6))\n",
    "ax = fig.add_subplot(111)\n",
    "\n",
    "# 上と同じような指数関数を定義\n",
    "myA = 10\n",
    "rv = stats.expon(loc=0, scale=myA)\n",
    "\n",
    "#=== 書き換える場所 ======================================================\n",
    "sampling_n = 1024    # 1回のサンプリングで取る個数(初期値 1)\n",
    "sampling_size = int(1e3) # 何回サンプリングを取るか  1e3 = 10^3\n",
    "#=======================================================================\n",
    "\n",
    "\n",
    "# サンプリングを表示\n",
    "sample_array = rv.rvs((sampling_n, sampling_size)) # sampling_n * sampling_sizeの行列を作成\n",
    "\n",
    "means_of_samplings = np.mean(sample_array, axis=0) # 1次元方向に各サンプルの平均値を計算\n",
    "\n",
    "ax.hist(means_of_samplings, bins=300, range=(0,30),label='Mean')\n",
    "\n",
    "# 正規分布関数を表示\n",
    "rv_norm = stats.norm(myA, myA/np.sqrt(sampling_n))\n",
    "\n",
    "xs = np.linspace(0,30,300)\n",
    "norm_sum = np.sum(rv_norm.pdf(xs)) # 各点で関数の大きさを計算して足し上げる\n",
    "\n",
    "shape = (sampling_size / norm_sum ) * rv_norm.pdf(xs) # 関数の高さをサンプル分布に合わせる\n",
    "ax.plot(xs, shape, label=\"N(A, A/sqrt(n))\")\n",
    "\n",
    "ax.set_xlim(0,30)\n",
    "ax.legend()"
   ]
  },
  {
   "cell_type": "markdown",
   "metadata": {},
   "source": [
    "[a-15] 指数関数$f(x)=\\frac{1}{A}e^{-x/A}$の平均値は A, 標準偏差も Aです。\n",
    "大数の法則によると，この「平均値の集団」の分布はサンプリング一度当たりのサンプル数を増やすと，\n",
    "正規分布に近づきます。その正規分布の平均値は，もとの分布の平均値に近づき（この場合はA）,\n",
    "標準偏差$\\sigma$は１回当たりのサンプリングの回数が$n$(上記sampling_n)のとき，もとの分布の標準偏差(この場合はA)を$\\sqrt{n}$で割ったものになります。\n",
    "\n",
    "図のオレンジの曲線は，この予測された正規分布を描いたものです。高さはサンプリング調査の調査回数(sampling_size)を用いて合わせてあります。幅は $A/\\sqrt{n}$ で計算したものです。"
   ]
  },
  {
   "cell_type": "markdown",
   "metadata": {},
   "source": [
    "## 実習５\n",
    "sampling_n の値を大きくして，分布が正規分布になることを確認しましょう。また，分布の幅が，予想で求めた幅と一致することを確認しましょう（頻度分布とオレンジの線が一致するか）。\n",
    "sampling_n を $10, 100, 400, 1600$ と変化させてゆき，分布が説明できるかどうかを確認しましょう。"
   ]
  },
  {
   "cell_type": "code",
   "execution_count": null,
   "metadata": {},
   "outputs": [],
   "source": []
  }
 ],
 "metadata": {
  "kernelspec": {
   "display_name": "Python 3",
   "language": "python",
   "name": "python3"
  },
  "language_info": {
   "codemirror_mode": {
    "name": "ipython",
    "version": 3
   },
   "file_extension": ".py",
   "mimetype": "text/x-python",
   "name": "python",
   "nbconvert_exporter": "python",
   "pygments_lexer": "ipython3",
   "version": "3.8.8"
  }
 },
 "nbformat": 4,
 "nbformat_minor": 4
}
