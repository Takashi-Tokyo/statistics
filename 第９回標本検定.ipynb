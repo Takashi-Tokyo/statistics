{
  "nbformat": 4,
  "nbformat_minor": 0,
  "metadata": {
    "colab": {
      "name": "116_TwoSamples.ipynb",
      "provenance": [],
      "collapsed_sections": []
    },
    "kernelspec": {
      "name": "python3",
      "display_name": "Python 3"
    },
    "language_info": {
      "name": "python"
    }
  },
  "cells": [
    {
      "cell_type": "code",
      "execution_count": null,
      "metadata": {
        "id": "igXikBPA8_VS"
      },
      "outputs": [],
      "source": [
        "# いつものモジュールのインポート\n",
        "import numpy as np\n",
        "import scipy.stats as stats\n",
        "import matplotlib.pyplot as plt\n",
        "import seaborn as sns\n",
        "import pandas as pd"
      ]
    },
    {
      "cell_type": "code",
      "source": [
        "# 配布ファイルをインポートするために，ドライブをマウントする\n",
        "from google.colab import drive\n",
        "drive.mount('/content/drive')"
      ],
      "metadata": {
        "id": "qRbPSNgahBPS"
      },
      "execution_count": null,
      "outputs": []
    },
    {
      "cell_type": "markdown",
      "source": [
        "# 検出力\n",
        "\n",
        "A商店では，新製品のクッキー（A）の市場での評価を試験するために，試食会において従来品のクッキー（B)と比較して，どちらをより好むかについてのアンケートをとった．その結果が次の通りである．\n",
        "\n",
        "| | A | B | 計 |\n",
        "| ---- | ---- | ---- | ---- |\n",
        "| どちらを好むか | 10 | 5 | 15 |\n",
        "\n",
        "1. アンケートをとった人数（標本の大きさ）を$N$，Aのクッキーを好むとした人の割合を$p_{\\text{sample}}$とする．\\\n",
        "まず，$N$（`N`），$p_{\\text{sample}}$（`p_sample`）に，アンケートの結果から分かる適切な数値を入力せよ．\\\n",
        "次に，この標本から無作為に1人を抽出したとき，その1人の回答の仕方は二項分布$B(1,p_{\\text{sample}})$に従うとみなせる．この分布の分散$v$を`v`に入力せよ．\n",
        "\n",
        "この計算結果（$p_{\\text{sample}}$，$v$）は，母集団（顧客全体）から無作為に1人を抽出したとき，Aを選択する確率$p$に関する推定量の分布を与える．"
      ],
      "metadata": {
        "id": "P_JIyI7z9g3b"
      }
    },
    {
      "cell_type": "code",
      "source": [
        ""
      ],
      "metadata": {
        "id": "m9W2nKGkT6Q2"
      },
      "execution_count": null,
      "outputs": []
    },
    {
      "cell_type": "markdown",
      "source": [
        "2. この結果から，新製品のクッキーがより好まれると結論付けてよいだろうか．\n",
        "母集団におけるAを選択する確率$p$について，\n",
        "$$\n",
        "H_0 \\colon p = 0.5, \\quad H_1 \\colon p > 0.5\n",
        "$$\n",
        "とし，有意水準$5\\%$の右片側検定により，判断せよ．\n",
        "ただし，母集団の分散は標本分散$v$に等しく既知であるとし，二項分布の正規分布への近似を利用し，z検定を行うこと．\n",
        "また，検定の根拠となる`p_sample`及び`ppt`の値も明示すること．\\\n",
        "ヒント:\n",
        "  1. 帰無仮説$H_0 \\colon p = 0.5$に基づく，（右片側検定であるから）上位$5\\%$点を`ppt`に格納するには，次の書式を利用する．\n",
        "  ```\n",
        "  ppt = stats.norm.ppf(0.95,loc=0.5,scale=標準偏差)\n",
        "  ```\n",
        "  （`stats.norm.ppf(x,loc=平均,scale=標準偏差)`は，正規分布で下から数えてxとなる$x$座標を与える．つまり累積分布関数の逆関数である）．\\\n",
        "  ここで，今回は標本数が`N`の標本調査を行っているため，標準偏差の計算にあたり，上で定義した`v`を直接利用するのではないことに注意されたい．また，平方根の計算には，`np.sqrt()`関数を利用せよ．"
      ],
      "metadata": {
        "id": "d0STXduhSXqi"
      }
    },
    {
      "cell_type": "code",
      "source": [
        ""
      ],
      "metadata": {
        "id": "ApfSEMbCjYLx"
      },
      "execution_count": null,
      "outputs": []
    },
    {
      "cell_type": "markdown",
      "source": [
        "3. この検定の検出力を求めよ．\n",
        "効果量は$\\Delta = 0.1$とする．\\\n",
        "手順:\n",
        "  1. 効果量`Delta`に，$0.1$を入力する．\n",
        "  2. $H_1 \\colon p = 0.5 + \\Delta$のもとで，第2種の誤りを犯す確率$\\beta$を求める．\n",
        "  $H_1$が採択されるべきにも関わらず$H_0$が棄却できない確率が$\\beta$であるから，$H_1$に基づく分布の下で，（右片側検定を行っているので）大きさ`N`の標本から求めた$p$の標本平均が上で求めた`ppt`を下回る確率を求めればよい．\n",
        "  このためには，\n",
        "  ```\n",
        "  beta = stats.norm.cdf(ppt,loc=効果量を加味した母平均,scale=標準偏差)\n",
        "  ```\n",
        "  とすればよい（`stats.norm.cdf(x)`は`x`までの累積分布関数の値，`x`以下の確率の総和である）．\n",
        "  3. 検出力は，効果量$\\Delta$に基づく$1-\\beta$で計算される．\n",
        "  `1-beta`を出力せよ:\n",
        "  ```\n",
        "  print(\"Delta={}としたときのこの検定の検出力は，{:.4f}である．\".format(Delta,1-beta))\n",
        "  ```"
      ],
      "metadata": {
        "id": "NvWCbJ4eZiAv"
      }
    },
    {
      "cell_type": "code",
      "source": [
        ""
      ],
      "metadata": {
        "id": "6rlY8oR6ZmZj"
      },
      "execution_count": null,
      "outputs": []
    },
    {
      "cell_type": "markdown",
      "source": [
        "4. この検定の検出力を$80\\%$（$0.80$）としたいとき，次の考えに従って，適切な標本数（アンケート実施人数）$n$を求める式を入力し，計算結果を出力せよ．\n",
        "\n",
        "  1. 帰無仮説$H_0 \\colon p = 0.5$に基づいて$p = 0.5$とした母集団の分布における，上側$5\\%$点$x_{\\text{ppt}}$を与える式は\n",
        "  $$\n",
        "  x_{\\text{ppt}} = 0.5 + z(0.05) \\cdot \\sqrt{ \\frac{p(1-p)}{n} }  \\quad (\\text{$z(0.05)$は標準正規分布における上側$5\\%$点を与える座標})\n",
        "  $$\n",
        "  である．\n",
        "  今回は，問題の設定上，先に得られた標本分散を母分散として用いるため，上式の根号の中では$p = p_{\\text{sample}}$として計算する．\n",
        "  2. 効果量を$\\Delta=0.1$とすると，$H_1 \\colon p = 0.5 + \\Delta$に基づく母集団の分布における，（右片側検定であるから）下側$20\\%$点を与える式は\n",
        "  $$\n",
        "  x_{\\text{beta_bound}} = 0.5 + \\Delta - z(0.20) \\cdot \\sqrt{ \\frac{p(1-p)}{n} }\n",
        "  $$\n",
        "  で与えられる．この式においても，根号の中では$p = p_{\\text{sample}}$の値を用いる．\n",
        "  3. $x_{\\text{ppt}} = x_{\\text{beta_bound}}$として，$n$に関する方程式とみなして，$n$について解く．\n",
        "  実数解$n$に最も近い整数値（`round(n)`）が，今回求めるべき標本数である．\n",
        "  \n",
        "  ヒント:\n",
        "  標準正規分布における上側$100\\alpha\\%$点$z(\\alpha)$を求めるコードは（平均`0`，標準偏差`1`とすればよいから）\n",
        "  ```\n",
        "  stats.norm.ppt(1-0.05,loc=0,scale=1)\n",
        "  ```\n",
        "  を利用せよ．\n",
        "  \n",
        "  ![116_power.png](data:image/png;base64,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)"
      ],
      "metadata": {
        "id": "YvciNY5PZmuZ"
      }
    },
    {
      "cell_type": "code",
      "source": [
        ""
      ],
      "metadata": {
        "id": "M9eObWj-IZXH"
      },
      "execution_count": null,
      "outputs": []
    },
    {
      "cell_type": "markdown",
      "source": [
        "最後に，答え合わせのために，次のコードを実行してみよ（正しい`v`が，上のセルで入力されている必要がある）．"
      ],
      "metadata": {
        "id": "jWThzGLkOIuR"
      }
    },
    {
      "cell_type": "code",
      "source": [
        "for n in range(1,1000):\n",
        "  beta = stats.norm.cdf(stats.norm.ppf(0.95,loc=0.5,scale=np.sqrt(v/n)),loc=0.5+Delta,scale=np.sqrt(v/n))\n",
        "  print(\"n={}のとき，検出力は{:.4f}である．\".format(n,1 - beta))"
      ],
      "metadata": {
        "id": "pXlb7tPsfrlB"
      },
      "execution_count": null,
      "outputs": []
    },
    {
      "cell_type": "markdown",
      "source": [
        "（考察）"
      ],
      "metadata": {
        "id": "8AixkvmuwKLl"
      }
    },
    {
      "cell_type": "markdown",
      "source": [
        "# 対応のある検定\n",
        "\n",
        "配布ファイル`116_Tempo.csv`に記録されている，2021年12月の神戸，大阪，京都の日毎平均気温のデータをもとに，この3地点の12月の気温について，差があるかどうか判断したい．\n",
        "\n",
        "0. まずは，変数を標準化してt統計量をつくるための関数を用意しておく．\n",
        "$$\n",
        "t = \\frac{m}{\\sqrt{v/\\nu}} \\quad (\\text{$m$: 平均，$v$: 標本分散，$\\nu$: 標本の大きさ})\n",
        "$$"
      ],
      "metadata": {
        "id": "_txGh8yI9lmL"
      }
    },
    {
      "cell_type": "code",
      "source": [
        "def t_val(m,v,nu): # m: 平均，v: 標本分散，nu: 標本の大きさ\n",
        "  return m / np.sqrt(v / nu)"
      ],
      "metadata": {
        "id": "jrQ4f2ncjax9"
      },
      "execution_count": null,
      "outputs": []
    },
    {
      "cell_type": "markdown",
      "source": [
        "1. まず，`df1`に配布ファイル`116_Tempo.csv`のデータを読み込もう．\n",
        "データの読み込みには，以下のコードを利用せよ．\n",
        "```\n",
        "df1 = pd.read_csv(\"/content/drive/MyDrive/.../116_Tempo.csv\")\n",
        "```\n",
        "ここでの`\"/content/drive/MyDrive/.../116_Tempo.csv\"`は，配布された`116_Tempo.csv`のドライブ上の保存場所（パス）と配布データセットのファイル名を表す．\n",
        "各自で適切なものを設定すること．\n",
        "\n",
        "正しく読み込めているかを，`df1`の最初の数行を出力することで確認せよ．\n",
        "コードは\n",
        "```\n",
        "df1.head()\n",
        "```\n",
        "が利用できる．"
      ],
      "metadata": {
        "id": "1d_qYtG1mgpr"
      }
    },
    {
      "cell_type": "code",
      "source": [
        ""
      ],
      "metadata": {
        "id": "KmSo0AzBZdVw"
      },
      "execution_count": null,
      "outputs": []
    },
    {
      "cell_type": "markdown",
      "source": [
        "2. `df1`に，神戸と大阪の気温差\n",
        "$$\n",
        "(\\text{大阪}) - (\\text{神戸})\n",
        "$$\n",
        "の列を追加せよ．\n",
        "列のタイトルは，「神戸vs大阪」とせよ．\n",
        "\n",
        "  ヒント:\n",
        "  1. データフレーム`df1`の「神戸」列のデータを取り出すには，`df1[\"神戸\"]`とすればよい．\n",
        "  2. データフレーム`df1`に，「神戸」列と「大阪」列の各データの和の列を「神戸+大阪」という列タイトルで追加するには，\n",
        "  ```\n",
        "  df1[\"神戸+大阪\"] = df1[\"神戸\"] + df1[\"大阪\"]\n",
        "  ```\n",
        "  とすればよい．"
      ],
      "metadata": {
        "id": "ykPSbNk8ZeyR"
      }
    },
    {
      "cell_type": "code",
      "source": [
        ""
      ],
      "metadata": {
        "id": "x2lK3RZQZ9Qc"
      },
      "execution_count": null,
      "outputs": []
    },
    {
      "cell_type": "markdown",
      "source": [
        "3. データフレーム`df1`の「神戸vs大阪」列のデータの平均，不偏標本分散，標本の大きさをそれぞれ`mean_kobe_osaka`，`var_kobe_osaka`，`len_kobe_osaka`に格納し，その結果を表示せよ．\n",
        "\n",
        "  ヒント:\n",
        "  1. データの平均を求めるには，`np.mean(データ)`関数が使える．\n",
        "  2. データの分散を求めるには，`np.var(データ,ddof=r)`関数が使える．\n",
        "  ここで，`ddof`の値は，$(\\text{標本数})-(\\text{自由度})$，すなわち束縛条件の数である．\n",
        "  今回は，`ddof=1`とする．\n",
        "  3. 標本の大きさを求めるには，`len(データ)`が使える．"
      ],
      "metadata": {
        "id": "JagggSS9Vkgt"
      }
    },
    {
      "cell_type": "code",
      "source": [
        ""
      ],
      "metadata": {
        "id": "Kjuprmq5cYlK"
      },
      "execution_count": null,
      "outputs": []
    },
    {
      "cell_type": "markdown",
      "source": [
        "4. 神戸と大阪に気温差が認められるか否かについて，気温差が正規分布に従うと仮定し，\n",
        "$$\n",
        "H_0 \\colon \\mu_d = 0, \\quad H_1 \\colon \\mu_d \\neq 0 \\qquad (\\text{$\\mu_d$は気温差の平均})\n",
        "$$\n",
        "として，有意水準$5\\%$の両側t検定を行え．\n",
        "検定の根拠となるt統計量，およびt分布の上側パーセント点も表示すること．\n",
        "\n",
        "  ヒント:\n",
        "  1. 神戸と大阪の気温差のt統計量は，上で定義した`t_val()`を使え．\n",
        "  2. （両側検定であるから）自由度`n-1`のt分布の上側$100 \\alpha / 2\\%$点の座標を与える関数は，\n",
        "  ```\n",
        "  t_ppt = stats.t.ppf(1 - a/2, n - 1)\n",
        "  ```\n",
        "  を利用せよ．"
      ],
      "metadata": {
        "id": "e3GJYvwKXXbU"
      }
    },
    {
      "cell_type": "code",
      "source": [
        ""
      ],
      "metadata": {
        "id": "5OQD8Yfld1aZ"
      },
      "execution_count": null,
      "outputs": []
    },
    {
      "cell_type": "markdown",
      "source": [
        "5. 同様の手続きにより，神戸と京都に気温差があるか否かについて，\n",
        "$$\n",
        "H_0 \\colon \\mu_d = 0, \\quad H_1 \\colon \\mu_d \\neq 0\n",
        "$$\n",
        "とした有意水準$5%$の両側t検定を行え．"
      ],
      "metadata": {
        "id": "KKob3eWweIA6"
      }
    },
    {
      "cell_type": "code",
      "source": [
        ""
      ],
      "metadata": {
        "id": "GQNh9EaTls1_"
      },
      "execution_count": null,
      "outputs": []
    },
    {
      "cell_type": "code",
      "source": [
        ""
      ],
      "metadata": {
        "id": "sD1DU_iTi6XO"
      },
      "execution_count": null,
      "outputs": []
    },
    {
      "cell_type": "markdown",
      "source": [
        "（考察）"
      ],
      "metadata": {
        "id": "B0jxCdV2wFMj"
      }
    },
    {
      "cell_type": "markdown",
      "source": [
        "# Welch's t-Test\n",
        "\n",
        "配布ファイル`116_AvsB.csv`には，40人にA，Bの2種類の問題集を無作為に割り当てて使用してもらい，使用の前後に受験したテストの成績を記録している（データは架空です）．\n"
      ],
      "metadata": {
        "id": "5-MbsYGv9odk"
      }
    },
    {
      "cell_type": "markdown",
      "source": [
        "1. まず，`df2`に配布ファイル`116_AvsB.csv`のデータを読み込もう．\n",
        "データの読み込みには，以下のコードを利用せよ．\n",
        "```\n",
        "df2 = pd.read_csv(\"/content/drive/MyDrive/.../116_AvsB.csv\")\n",
        "```\n",
        "ここでの`\"/content/drive/MyDrive/.../116_AvsB.csv\"`は，配布された`116_AvsB.csv`のドライブ上の保存場所（パス）と配布データセットのファイル名を表す．\n",
        "各自で適切なものを設定すること．\n",
        "\n",
        "正しく読み込めているかを，`df2`の最初の数行を出力することで確認せよ．"
      ],
      "metadata": {
        "id": "EMG6qqaAim8a"
      }
    },
    {
      "cell_type": "code",
      "source": [
        ""
      ],
      "metadata": {
        "id": "YRPVcZkNh02_"
      },
      "execution_count": null,
      "outputs": []
    },
    {
      "cell_type": "markdown",
      "source": [
        "2. データフレーム`df2`に，「差分」という列タイトルで，「事前テスト」と「事後テスト」のそれぞれの差を計算した列を作れ．"
      ],
      "metadata": {
        "id": "34yy_6iXkg91"
      }
    },
    {
      "cell_type": "code",
      "source": [
        ""
      ],
      "metadata": {
        "id": "3TRvZuwPpKKT"
      },
      "execution_count": null,
      "outputs": []
    },
    {
      "cell_type": "markdown",
      "source": [
        "3. データフレーム`df2`のデータのうち，使用問題集がAであるものBであるもののみを抜き出し，それぞれデータフレーム`df2_A`，`df2_B`に格納せよ．\n",
        "\n",
        "  ヒント:\n",
        "  1. データフレームの中から特定の条件を満たす行のみを取り出すには，`df2[条件]`を利用する．今回の場合，例えば「使用問題集」列にAが入力されている行のみを抜き出すので，条件は\n",
        "  ```\n",
        "  df2[\"使用問題集\"] == \"A\"\n",
        "  ```\n",
        "  を用いればよい．\n",
        "  2. 正しく抜き出せているかを見るには，`df2_A.head()`などを実行し，`df2_A`の中身を見るとよい．"
      ],
      "metadata": {
        "id": "stM5dR1-kzFu"
      }
    },
    {
      "cell_type": "code",
      "source": [
        ""
      ],
      "metadata": {
        "id": "LAARv_cRn5W_"
      },
      "execution_count": null,
      "outputs": []
    },
    {
      "cell_type": "markdown",
      "source": [
        "4. データフレーム`df2_A`，`df2_B`における「差分」列のデータの平均，不偏標本分散，標本の大きさを取り出し，それぞれ`mean_X`，`var_X`，`len_X`（`X`は`A`，`B`のいずれか）とし，それらのデータを出力せよ．\n",
        "分散計算において，自由度を加味することを忘れないように注意せよ．"
      ],
      "metadata": {
        "id": "t5XdB68BmdTv"
      }
    },
    {
      "cell_type": "code",
      "source": [
        ""
      ],
      "metadata": {
        "id": "ImJYP6n1qGA3"
      },
      "execution_count": null,
      "outputs": []
    },
    {
      "cell_type": "markdown",
      "source": [
        "5. 問題集Aを利用した群と問題集Bを利用した群の平均の差の分散を求め，`var_com`に格納せよ．\n",
        "また，この計算結果をもとに，平均の差のt統計量`t_AB`を計算し，その値を出力せよ．"
      ],
      "metadata": {
        "id": "hTLj3bHTn5KZ"
      }
    },
    {
      "cell_type": "code",
      "source": [
        ""
      ],
      "metadata": {
        "id": "0i2AIyrtr_HG"
      },
      "execution_count": null,
      "outputs": []
    },
    {
      "cell_type": "markdown",
      "source": [
        "6. t検定を行うために，ウェルチの近似式から計算される値`nu_welch`を計算し，`nu_welch`に最も近い整数`nu_star`を求めよ．\n",
        "ここで求めた`nu_star`が，次に行うt検定の自由度を与える．"
      ],
      "metadata": {
        "id": "mWCAxTyhpW8U"
      }
    },
    {
      "cell_type": "code",
      "source": [
        ""
      ],
      "metadata": {
        "id": "vGCJMTjzsvih"
      },
      "execution_count": null,
      "outputs": []
    },
    {
      "cell_type": "markdown",
      "source": [
        "7. 上で求めた自由度`nu_star`を用いて，問題集Aを用いたときの成績の上昇具合$\\mu_A$，問題集Bを用いた時の成績の上昇具合$\\mu_B$について，\n",
        "$$\n",
        "H_0 \\colon \\mu_A - \\mu_B = 0, \\quad H_1 \\colon \\mu_A - \\mu_B \\neq 0\n",
        "$$\n",
        "として有意水準$5\\%$の両側t検定（Welch検定）を行え．"
      ],
      "metadata": {
        "id": "Fj78kbWaqV85"
      }
    },
    {
      "cell_type": "code",
      "source": [
        ""
      ],
      "metadata": {
        "id": "qjCH6eny93yr"
      },
      "execution_count": null,
      "outputs": []
    },
    {
      "cell_type": "markdown",
      "source": [
        "8. 効果量を`3`（つまり$3$点以上差があれば2つの問題集に差があるとみなすに十分でである）として，この検定の検定力を求めよ．\n",
        "今回は両側検定を行っているので，$H_0$の採択域に注意せよ．"
      ],
      "metadata": {
        "id": "fdioiTjzvOqp"
      }
    },
    {
      "cell_type": "code",
      "source": [
        ""
      ],
      "metadata": {
        "id": "YgVFt2IrvtqT"
      },
      "execution_count": null,
      "outputs": []
    },
    {
      "cell_type": "markdown",
      "source": [
        "（考察）"
      ],
      "metadata": {
        "id": "clTFM5aPwBul"
      }
    },
    {
      "cell_type": "markdown",
      "metadata": {
        "id": "iUaGjYFTj5EZ"
      },
      "source": [
        "# ＜本授業の学び＞\n",
        "本授業で学んだことを，下のテキストボックスに記入して下さい．"
      ]
    },
    {
      "cell_type": "markdown",
      "metadata": {
        "id": "VVb8ZkNgkfKX"
      },
      "source": [
        "（ここに本授業の学びを記入する）"
      ]
    }
  ]
}