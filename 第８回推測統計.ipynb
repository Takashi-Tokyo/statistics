{
  "nbformat": 4,
  "nbformat_minor": 0,
  "metadata": {
    "colab": {
      "name": "115_hyptest.ipynb",
      "provenance": [],
      "collapsed_sections": []
    },
    "kernelspec": {
      "name": "python3",
      "display_name": "Python 3"
    },
    "language_info": {
      "name": "python"
    }
  },
  "cells": [
    {
      "cell_type": "markdown",
      "source": [
        "# 必要なモジュールのインポート"
      ],
      "metadata": {
        "id": "oa3kFVQ8Tvxk"
      }
    },
    {
      "cell_type": "code",
      "source": [
        "import numpy as np\n",
        "import pandas as pd\n",
        "import matplotlib.pyplot as plt\n",
        "import seaborn as sns\n",
        "import scipy.stats as stats"
      ],
      "metadata": {
        "id": "c36mmaNAtcA5"
      },
      "execution_count": null,
      "outputs": []
    },
    {
      "cell_type": "markdown",
      "source": [
        "# 仮説検定の考え方\n",
        "\n",
        "## 例題 1\n",
        "\n",
        "コインを$20$枚投げたところ，そのうち$15$回で表が出た．\n",
        "この結果から，このコインは（例えば歪みや細工により）裏よりも表が出やすいと判断してよいだろうか．\n",
        "$$\n",
        "H_0 \\colon p = 0.5 \\\\\n",
        "H_1 \\colon p \\neq 0.5\n",
        "$$\n",
        "として，有意水準$5\\%$で両側検定したい．\n",
        "どのような計算を行えばよいか，下のセルにコードを書け．\n",
        "\n",
        "##### ヒント\n",
        "\n",
        "二項分布$B(N,p)$の累積分布関数$F(t) = P(X \\leqq t)$は，次のコードが利用できる．\n",
        "```\n",
        "stats.binom.cdf(t, N, p)\n",
        "```"
      ],
      "metadata": {
        "id": "7OY-nAaUsgii"
      }
    },
    {
      "cell_type": "code",
      "execution_count": null,
      "metadata": {
        "id": "fF_7LIJCr8KW"
      },
      "outputs": [],
      "source": [
        "# ここにコードを書く"
      ]
    },
    {
      "cell_type": "markdown",
      "source": [
        "## 例題 1-tres\n",
        "\n",
        "表が出やすくなるように，コインの片面に細工を施した．\n",
        "このコインを$20$枚投げたところ，そのうち$14$回で表が出た．\n",
        "この結果から，このコインは裏よりも表が出やすくなったと判断してよいだろうか．\n",
        "$$\n",
        "H_0 \\colon p = 0.5 \\\\\n",
        "H_1 \\colon p > 0.5\n",
        "$$\n",
        "として，有意水準$5\\%$で片側検定したい．\n",
        "どのような計算を行えばよいか，下のセルにコードを書け．\n",
        "\n",
        "また，検定結果を下のセルに記述せよ．\n",
        "[Markdown記法](https://www.markdown.jp/)や，[LaTeX記法](https://scrapbox.io/scrapboxlab/TeX%E8%A8%98%E6%B3%95)も利用できる．"
      ],
      "metadata": {
        "id": "TSoqt20Q9Y6H"
      }
    },
    {
      "cell_type": "code",
      "source": [
        "# ここにコードを書く"
      ],
      "metadata": {
        "id": "AavQesp1QKzt"
      },
      "execution_count": null,
      "outputs": []
    },
    {
      "cell_type": "markdown",
      "source": [
        "#### 検定結果\n",
        "\n",
        "（ここに検定の結果を書き込む）\n"
      ],
      "metadata": {
        "id": "DVpkgLovRO0d"
      }
    },
    {
      "cell_type": "markdown",
      "source": [
        "# t分布とt検定\n",
        "\n",
        "## 問題-2\n",
        "\n",
        "標準正規分布$N(0,1)$の確率密度関数のグラフと，次のt分布の確率密度関数のグラフを，区間$[-3,3]$においてそれぞれ重ねて表示せよ．\n",
        "\n",
        "また，自由度$n$を変化させることで，$N(0,1)$と$t_n$の確率密度関数のグラフの間に見られる関係について考察せよ．\n",
        "\n",
        "##### ヒント\n",
        "\n",
        "自由度$n$のt分布の確率密度関数のグラフの描画には，次が使える．\n",
        "```\n",
        "# dfが自由度\n",
        "stat.t.pdf(x,df=n)\n",
        "```\n",
        "\n",
        "なお，標準正規分布の確率密度関数のグラフの描画は，次のコードを利用してよい．\n"
      ],
      "metadata": {
        "id": "qqXgYbklSPHr"
      }
    },
    {
      "cell_type": "code",
      "source": [
        "x = np.arange(-3,3,0.01)\n",
        "\n",
        "# 正規分布の確率密度関数を，緑色，破線で描画する\n",
        "plt.plot(x,stats.norm.pdf(x,loc=0,scale=1), \"--\", color=\"green\", label=\"Normal\")\n",
        "plt.title(\"Normal Distribution\")\n",
        "plt.xlabel(\"x\")\n",
        "plt.ylabel(\"y\")\n",
        "plt.grid(True)\n",
        "plt.legend()\n",
        "plt.show()"
      ],
      "metadata": {
        "id": "pDyQxf6zaZ9_"
      },
      "execution_count": null,
      "outputs": []
    },
    {
      "cell_type": "markdown",
      "source": [
        "1. $t_2$"
      ],
      "metadata": {
        "id": "ZEURXxYsaNwL"
      }
    },
    {
      "cell_type": "code",
      "source": [
        ""
      ],
      "metadata": {
        "id": "bVR78EkHS82_"
      },
      "execution_count": null,
      "outputs": []
    },
    {
      "cell_type": "markdown",
      "source": [
        "2. $t_{10}$"
      ],
      "metadata": {
        "id": "J40KCg_gS9b6"
      }
    },
    {
      "cell_type": "code",
      "source": [
        ""
      ],
      "metadata": {
        "id": "GvXdSrWnTDm2"
      },
      "execution_count": null,
      "outputs": []
    },
    {
      "cell_type": "markdown",
      "source": [
        "3. $t_{30}$"
      ],
      "metadata": {
        "id": "KyRMp_xXTETt"
      }
    },
    {
      "cell_type": "code",
      "source": [
        ""
      ],
      "metadata": {
        "id": "eRuRUkJYTIay"
      },
      "execution_count": null,
      "outputs": []
    },
    {
      "cell_type": "markdown",
      "source": [
        "4. $t_{100}$"
      ],
      "metadata": {
        "id": "hrKaqkmjTPzg"
      }
    },
    {
      "cell_type": "code",
      "source": [
        ""
      ],
      "metadata": {
        "id": "QKzBq8JqTWfk"
      },
      "execution_count": null,
      "outputs": []
    },
    {
      "cell_type": "markdown",
      "source": [
        "#### 考察\n",
        "\n"
      ],
      "metadata": {
        "id": "PB567GjGUI3N"
      }
    },
    {
      "cell_type": "markdown",
      "source": [
        "## 例題2-問題3\n",
        "\n",
        "ある機械で生産された$10$個の製品の重量を測定したところ\n",
        "$$\n",
        "101.1, 103.2. 102.1, 99.2, 100.5, 101.3, 99.7, 100.5, 98.9, 101.4 \\quad [\\text{g}]\n",
        "$$\n",
        "のような結果を得た．\n",
        "\n",
        "測定結果については，次のコードから取得せよ．"
      ],
      "metadata": {
        "id": "DeavzRC6SBLi"
      }
    },
    {
      "cell_type": "code",
      "source": [
        "data = [101.1, 103.2, 102.1, 99.2, 100.5, 101.3, 99.7, 100.5, 98.9, 101.4]\n",
        "series = pd.Series(data)"
      ],
      "metadata": {
        "id": "PeVj2hJdZvW8"
      },
      "execution_count": null,
      "outputs": []
    },
    {
      "cell_type": "markdown",
      "source": [
        "0. （仮説の設定）母平均は$100\\text{g}$と考えてよいだろうか．\n",
        "この検証のために，仮説検定を行いたい．\n",
        "帰無仮説$H_0$と対立仮説は何であるべきか．\n",
        "下のセルに書き込め．"
      ],
      "metadata": {
        "id": "PA1pxUNNPWsl"
      }
    },
    {
      "cell_type": "markdown",
      "source": [
        "帰無仮説$H_0$: \n",
        "\n",
        "対立仮説$H_1$: "
      ],
      "metadata": {
        "id": "oTN1ikA5P0M6"
      }
    },
    {
      "cell_type": "markdown",
      "source": [
        "1. （直接立式して計算）母平均は$100\\text{g}$と考えてよいだろうか．\n",
        "次の手順で計算を行うことにより，有意水準$5\\%$で検定せよ．\n",
        "必要ならば，コード記述欄の下の**ヒント**も参考にせよ．\n",
        "\n",
        "    1. `series`に含まれるデータの平均と不偏標本分散の正の平方根を，それぞれ変数`m`，`s`に入れる．\n",
        "    1. `u`にt分布の上位$2.5\\\\%$点の値を入れる．\n",
        "    1. t統計量`t`を計算する．\n",
        "    1. `t>=0`ならば，`t`と`u`の値を比較する．（帰無仮説$H_0$が棄却できないときに，ブール値`True`を吐くようにするにはどうすればよいだろうか．）`t<0`ならば，`-t`と`u`の値を比較する．帰無仮説$H_0$が棄却される場合は`False`，棄却されない場合は`True`を表示するようにせよ．\n"
      ],
      "metadata": {
        "id": "TGrj4LDGZvif"
      }
    },
    {
      "cell_type": "code",
      "source": [
        ""
      ],
      "metadata": {
        "id": "oKkqP08jWF8X"
      },
      "execution_count": null,
      "outputs": []
    },
    {
      "cell_type": "markdown",
      "source": [
        "##### ヒント\n",
        "\n",
        "* `Series`オブジェクトに対しては，`numpy`モジュールの関数`np.mean(Series)`，`np.var(Series,ddof=1)`でそれぞれ標本平均，不偏標本分散が計算できる．`np.var()`の`ddof`の値を`0`にすると，不偏でない標本分散（データを母集団とみなした分散），`1`にすると，不偏標本分散（データを母集団から抽出した標本とみなした分散）が計算される．\n",
        "\n",
        "* 数値に対して，その平方根を計算するには，`numpy`モジュールの関数`np.sqrt()`が利用できる．\n",
        "なお，`np.sqrt(np.var())`は，標準偏差を与える関数`np.std()`と同等である．関数`np.std()`においても`ddof`の値を設定できる．\n",
        "\n",
        "* 自由度`n`のt分布の上位$100\\alpha\\%$点を与える関数は，`scipy.stats`で提供されている\n",
        "```\n",
        "stats.t.ppf(1-a,df=n)\n",
        "```\n",
        "が利用できる．\n",
        "    * （補足）`1-a`の理由: 統計学の教科書では，通常$100\\alpha\\%$点というと上から$100\\alpha\\%$の$x$座標を表すのであるが，pythonでは下から$100\\alpha\\%$の$x$座標を表す流儀（つまり累積分布関数の逆関数）のようである．\n",
        "\n",
        "* 不等式や等式は，ブール値（「真（`True`）」「偽（`False`）」の$2$値）として扱われる．\n",
        "```\n",
        "2 < 3 # 実行すると「True」が表示される．以下同様\n",
        "2 > 3 # False\n",
        "2 == 3 # False\n",
        "2 != 3 # True\n",
        "```\n",
        "\n",
        "    * （補足）ブール値は，`and`，`or`，`not`を演算子にもつブール代数をなす．\n",
        "    ```\n",
        "    True and False # False\n",
        "    True or False # True\n",
        "    not True # False\n",
        "    ```"
      ],
      "metadata": {
        "id": "slU783dhEZ7S"
      }
    },
    {
      "cell_type": "markdown",
      "source": [
        "2. （関数利用）母平均は$100\\text{g}$と考えてよいだろうか．\n",
        "次の手順で計算を行うことにより，有意水準$5\\%$で検定せよ．\n",
        "\n",
        "    1. `stats.ttest_1samp(Data, Popmean)`で標本`Data`と帰無仮説で仮定する母平均`Popmean`から，自動的に取得された自由度によるt分布の検定統計量`t`と$p$値`p`（検定統計量`t`の，分布の上位または下位からの割合の小さいほう）が得られる．構文は\n",
        "```\n",
        "t, p = stats.ttest_1samp(Data, Popmean)\n",
        "```\n",
        "である．\n",
        "\n",
        "    2. 求めるべきは，この$p$値`p`が有意水準の半分である$0.025$より小さいか否かである．$p>0.025$であるとき，`t`統計量の値はそれほど稀な事象ではないということであり，帰無仮説$H_0$は棄却されない．$p<0.025$のとき，帰無仮説$H_0$は棄却される．よって，`p>0.025`となるときに`True`が吐き出されるようにすればよい．"
      ],
      "metadata": {
        "id": "qMDARdx9YqQA"
      }
    },
    {
      "cell_type": "code",
      "source": [
        ""
      ],
      "metadata": {
        "id": "HXQoOXKnYpqV"
      },
      "execution_count": null,
      "outputs": []
    },
    {
      "cell_type": "markdown",
      "source": [
        "3. （復習，直接立式して計算）上の測定結果をもとに，製品の重量の母平均の信頼度$95\\%$信頼区間を求めよ．\n",
        "また，上の検定結果と比較し，それぞれの意味について考察せよ．\n",
        "\n",
        "なお，自由度$n$のt分布の$2.5\\%$点を$t_{n,0.025}$と表すと，信頼度$95\\%$の信頼区間における上側信頼限界，下側信頼限界はそれぞれ\n",
        "$$\n",
        "\\overline{x} \\pm t_{n, 0.025} \\cdot \\frac{\\hat{s}}{\\sqrt{n}}\n",
        "$$"
      ],
      "metadata": {
        "id": "h3yQbeF8Y0N8"
      }
    },
    {
      "cell_type": "code",
      "source": [
        ""
      ],
      "metadata": {
        "id": "aDylas_geoUB"
      },
      "execution_count": null,
      "outputs": []
    },
    {
      "cell_type": "markdown",
      "source": [
        "#### 考察"
      ],
      "metadata": {
        "id": "7q1YwNHseo1i"
      }
    },
    {
      "cell_type": "markdown",
      "source": [
        "4. （関数利用）上の測定結果をもとに，次の手順に従い，製品の重量の母平均の信頼度$95\\%$信頼区間を求めよ．\n",
        "\n",
        "    1. 不偏分散を$\\hat{S}^2$とすると，大きさ$n$の標本の**標準誤差**（標本平均の標準偏差）は$\\hat{S}/\\sqrt{n}$と書ける．\n",
        "この標準誤差を`seq`に格納すると，母平均の信頼度$100\\alpha\\%$信頼区間は，\n",
        "```\n",
        "# m: 標本平均，n-1: 自由度，100*a: 信頼度\n",
        "stats.t.interval(alpha=a, df=n-1, loc=m, scale=sep)\n",
        "```\n",
        "で計算される．"
      ],
      "metadata": {
        "id": "uUWoNVhqDpJT"
      }
    },
    {
      "cell_type": "code",
      "source": [
        ""
      ],
      "metadata": {
        "id": "ZMXHjB7RD_c0"
      },
      "execution_count": null,
      "outputs": []
    },
    {
      "cell_type": "markdown",
      "metadata": {
        "id": "iUaGjYFTj5EZ"
      },
      "source": [
        "# ＜本授業の学び＞\n",
        "本授業で学んだことを，下のテキストボックスに記入して下さい．"
      ]
    },
    {
      "cell_type": "markdown",
      "metadata": {
        "id": "VVb8ZkNgkfKX"
      },
      "source": [
        "（ここに本授業の学びを記入する）"
      ]
    }
  ]
}