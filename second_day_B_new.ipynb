{
 "cells": [
  {
   "cell_type": "markdown",
   "metadata": {},
   "source": [
    "# 二日目後半\n",
    "\n",
    "# 検定に挑戦\n",
    "\n",
    "[b-1] まずは必要となるPythonのモジュール（ライブラリ）をimportしましょう。"
   ]
  },
  {
   "cell_type": "code",
   "execution_count": 1,
   "metadata": {
    "scrolled": true
   },
   "outputs": [],
   "source": [
    "import numpy as np\n",
    "import pandas as pd\n",
    "import matplotlib.pyplot as plt\n",
    "from scipy import stats\n",
    "import math"
   ]
  },
  {
   "cell_type": "markdown",
   "metadata": {},
   "source": [
    "## 結果ファイルの読み込み\n",
    "\n",
    "[b-2] 前回みなさんが測定してくれた温度，湿度を CSV という形式の表にしてあります。まずはそれを読み込みましょう。\n",
    "読み込み方は前回やった方法と同じです。Pandasのread_csvというメソッドでデータフレームdfに読み込みます。\n",
    "読み込んだらdfの中身を表示してみます。dfと一行書くだけで中身を表示してくれます(初期設定ではresults_v1_tmp.csvというファイル名が指定されていますが，これはサンプルファイルです。皆さんが測定してくれた温度・湿度をいれたファイル名は当日お知らせします。)。"
   ]
  },
  {
   "cell_type": "code",
   "execution_count": 2,
   "metadata": {},
   "outputs": [
    {
     "data": {
      "text/html": [
       "<div>\n",
       "<style scoped>\n",
       "    .dataframe tbody tr th:only-of-type {\n",
       "        vertical-align: middle;\n",
       "    }\n",
       "\n",
       "    .dataframe tbody tr th {\n",
       "        vertical-align: top;\n",
       "    }\n",
       "\n",
       "    .dataframe thead th {\n",
       "        text-align: right;\n",
       "    }\n",
       "</style>\n",
       "<table border=\"1\" class=\"dataframe\">\n",
       "  <thead>\n",
       "    <tr style=\"text-align: right;\">\n",
       "      <th></th>\n",
       "      <th>name</th>\n",
       "      <th>pref</th>\n",
       "      <th>temp</th>\n",
       "      <th>humid</th>\n",
       "    </tr>\n",
       "    <tr>\n",
       "      <th>number</th>\n",
       "      <th></th>\n",
       "      <th></th>\n",
       "      <th></th>\n",
       "      <th></th>\n",
       "    </tr>\n",
       "  </thead>\n",
       "  <tbody>\n",
       "    <tr>\n",
       "      <th>1</th>\n",
       "      <td>HORIUCHI</td>\n",
       "      <td>北海道</td>\n",
       "      <td>21.5</td>\n",
       "      <td>18.8</td>\n",
       "    </tr>\n",
       "    <tr>\n",
       "      <th>2</th>\n",
       "      <td>TANAKA</td>\n",
       "      <td>秋田県</td>\n",
       "      <td>22.1</td>\n",
       "      <td>36.6</td>\n",
       "    </tr>\n",
       "    <tr>\n",
       "      <th>3</th>\n",
       "      <td>ENDO</td>\n",
       "      <td>茨城県</td>\n",
       "      <td>24.8</td>\n",
       "      <td>31.5</td>\n",
       "    </tr>\n",
       "    <tr>\n",
       "      <th>4</th>\n",
       "      <td>SAWAHATA</td>\n",
       "      <td>茨城県</td>\n",
       "      <td>21.8</td>\n",
       "      <td>41.2</td>\n",
       "    </tr>\n",
       "    <tr>\n",
       "      <th>5</th>\n",
       "      <td>TAJIRI</td>\n",
       "      <td>群馬県</td>\n",
       "      <td>21.2</td>\n",
       "      <td>51.8</td>\n",
       "    </tr>\n",
       "    <tr>\n",
       "      <th>6</th>\n",
       "      <td>HANAZAKI</td>\n",
       "      <td>東京都</td>\n",
       "      <td>24.3</td>\n",
       "      <td>48.0</td>\n",
       "    </tr>\n",
       "    <tr>\n",
       "      <th>7</th>\n",
       "      <td>ISHII</td>\n",
       "      <td>埼玉県</td>\n",
       "      <td>21.9</td>\n",
       "      <td>38.9</td>\n",
       "    </tr>\n",
       "    <tr>\n",
       "      <th>8</th>\n",
       "      <td>NAKAMURA</td>\n",
       "      <td>千葉県</td>\n",
       "      <td>24.2</td>\n",
       "      <td>43.9</td>\n",
       "    </tr>\n",
       "    <tr>\n",
       "      <th>9</th>\n",
       "      <td>IKEDA</td>\n",
       "      <td>東京都</td>\n",
       "      <td>25.8</td>\n",
       "      <td>26.0</td>\n",
       "    </tr>\n",
       "    <tr>\n",
       "      <th>10</th>\n",
       "      <td>KAZATO</td>\n",
       "      <td>千葉県</td>\n",
       "      <td>22.9</td>\n",
       "      <td>46.1</td>\n",
       "    </tr>\n",
       "    <tr>\n",
       "      <th>11</th>\n",
       "      <td>MIYAZAWA</td>\n",
       "      <td>千葉県</td>\n",
       "      <td>NaN</td>\n",
       "      <td>NaN</td>\n",
       "    </tr>\n",
       "    <tr>\n",
       "      <th>12</th>\n",
       "      <td>OTSUKA</td>\n",
       "      <td>千葉県</td>\n",
       "      <td>26.6</td>\n",
       "      <td>42.0</td>\n",
       "    </tr>\n",
       "    <tr>\n",
       "      <th>13</th>\n",
       "      <td>OTANI</td>\n",
       "      <td>千葉県</td>\n",
       "      <td>25.2</td>\n",
       "      <td>43.1</td>\n",
       "    </tr>\n",
       "    <tr>\n",
       "      <th>14</th>\n",
       "      <td>UEKI</td>\n",
       "      <td>千葉県</td>\n",
       "      <td>25.7</td>\n",
       "      <td>59.8</td>\n",
       "    </tr>\n",
       "    <tr>\n",
       "      <th>15</th>\n",
       "      <td>KAWAI</td>\n",
       "      <td>東京都</td>\n",
       "      <td>26.9</td>\n",
       "      <td>46.6</td>\n",
       "    </tr>\n",
       "    <tr>\n",
       "      <th>16</th>\n",
       "      <td>WATANABE</td>\n",
       "      <td>東京都</td>\n",
       "      <td>23.6</td>\n",
       "      <td>45.2</td>\n",
       "    </tr>\n",
       "    <tr>\n",
       "      <th>17</th>\n",
       "      <td>OKAMURA</td>\n",
       "      <td>東京都</td>\n",
       "      <td>19.4</td>\n",
       "      <td>52.9</td>\n",
       "    </tr>\n",
       "    <tr>\n",
       "      <th>18</th>\n",
       "      <td>MIYAKO</td>\n",
       "      <td>東京都</td>\n",
       "      <td>24.4</td>\n",
       "      <td>41.1</td>\n",
       "    </tr>\n",
       "    <tr>\n",
       "      <th>19</th>\n",
       "      <td>TAKAI</td>\n",
       "      <td>東京都</td>\n",
       "      <td>26.5</td>\n",
       "      <td>36.2</td>\n",
       "    </tr>\n",
       "    <tr>\n",
       "      <th>20</th>\n",
       "      <td>IGAWA</td>\n",
       "      <td>東京都</td>\n",
       "      <td>21.8</td>\n",
       "      <td>47.0</td>\n",
       "    </tr>\n",
       "    <tr>\n",
       "      <th>21</th>\n",
       "      <td>HIRANO</td>\n",
       "      <td>福井県</td>\n",
       "      <td>23.1</td>\n",
       "      <td>45.8</td>\n",
       "    </tr>\n",
       "    <tr>\n",
       "      <th>22</th>\n",
       "      <td>NISHIMOTO</td>\n",
       "      <td>福井県</td>\n",
       "      <td>26.1</td>\n",
       "      <td>50.3</td>\n",
       "    </tr>\n",
       "    <tr>\n",
       "      <th>23</th>\n",
       "      <td>KAMEITA</td>\n",
       "      <td>長野県</td>\n",
       "      <td>23.1</td>\n",
       "      <td>41.0</td>\n",
       "    </tr>\n",
       "    <tr>\n",
       "      <th>24</th>\n",
       "      <td>ASANO</td>\n",
       "      <td>静岡県</td>\n",
       "      <td>22.0</td>\n",
       "      <td>45.0</td>\n",
       "    </tr>\n",
       "    <tr>\n",
       "      <th>25</th>\n",
       "      <td>YAMASHITA</td>\n",
       "      <td>静岡県</td>\n",
       "      <td>19.8</td>\n",
       "      <td>53.8</td>\n",
       "    </tr>\n",
       "    <tr>\n",
       "      <th>26</th>\n",
       "      <td>YAMADA</td>\n",
       "      <td>三重県</td>\n",
       "      <td>26.2</td>\n",
       "      <td>32.0</td>\n",
       "    </tr>\n",
       "    <tr>\n",
       "      <th>27</th>\n",
       "      <td>SHIMASHITA</td>\n",
       "      <td>京都府</td>\n",
       "      <td>23.5</td>\n",
       "      <td>56.1</td>\n",
       "    </tr>\n",
       "    <tr>\n",
       "      <th>28</th>\n",
       "      <td>AZUMA</td>\n",
       "      <td>兵庫県</td>\n",
       "      <td>28.1</td>\n",
       "      <td>41.0</td>\n",
       "    </tr>\n",
       "    <tr>\n",
       "      <th>29</th>\n",
       "      <td>NAGAHARA</td>\n",
       "      <td>岡山県</td>\n",
       "      <td>21.6</td>\n",
       "      <td>45.0</td>\n",
       "    </tr>\n",
       "    <tr>\n",
       "      <th>30</th>\n",
       "      <td>GOKAN</td>\n",
       "      <td>岡山県</td>\n",
       "      <td>22.4</td>\n",
       "      <td>37.3</td>\n",
       "    </tr>\n",
       "    <tr>\n",
       "      <th>31</th>\n",
       "      <td>FUJII</td>\n",
       "      <td>山口県</td>\n",
       "      <td>22.4</td>\n",
       "      <td>45.0</td>\n",
       "    </tr>\n",
       "    <tr>\n",
       "      <th>32</th>\n",
       "      <td>MURANAKA</td>\n",
       "      <td>山口県</td>\n",
       "      <td>22.3</td>\n",
       "      <td>46.8</td>\n",
       "    </tr>\n",
       "    <tr>\n",
       "      <th>33</th>\n",
       "      <td>HASAMADA</td>\n",
       "      <td>福岡県</td>\n",
       "      <td>24.7</td>\n",
       "      <td>50.3</td>\n",
       "    </tr>\n",
       "    <tr>\n",
       "      <th>34</th>\n",
       "      <td>AOYAGI</td>\n",
       "      <td>宮崎県</td>\n",
       "      <td>22.3</td>\n",
       "      <td>63.1</td>\n",
       "    </tr>\n",
       "    <tr>\n",
       "      <th>35</th>\n",
       "      <td>KARASAWA</td>\n",
       "      <td>沖縄県</td>\n",
       "      <td>24.7</td>\n",
       "      <td>64.7</td>\n",
       "    </tr>\n",
       "    <tr>\n",
       "      <th>36</th>\n",
       "      <td>SEKI</td>\n",
       "      <td>東京都</td>\n",
       "      <td>23.7</td>\n",
       "      <td>32.0</td>\n",
       "    </tr>\n",
       "    <tr>\n",
       "      <th>37</th>\n",
       "      <td>SENDA</td>\n",
       "      <td>東京都</td>\n",
       "      <td>27.5</td>\n",
       "      <td>28.0</td>\n",
       "    </tr>\n",
       "    <tr>\n",
       "      <th>38</th>\n",
       "      <td>TAKAHASHI</td>\n",
       "      <td>東京都</td>\n",
       "      <td>NaN</td>\n",
       "      <td>NaN</td>\n",
       "    </tr>\n",
       "    <tr>\n",
       "      <th>39</th>\n",
       "      <td>ISHIKURA</td>\n",
       "      <td>東京都</td>\n",
       "      <td>NaN</td>\n",
       "      <td>NaN</td>\n",
       "    </tr>\n",
       "    <tr>\n",
       "      <th>40</th>\n",
       "      <td>YOSHIKAWA</td>\n",
       "      <td>東京都</td>\n",
       "      <td>23.2</td>\n",
       "      <td>34.6</td>\n",
       "    </tr>\n",
       "    <tr>\n",
       "      <th>41</th>\n",
       "      <td>JINNOUCHI</td>\n",
       "      <td>東京都</td>\n",
       "      <td>25.0</td>\n",
       "      <td>23.0</td>\n",
       "    </tr>\n",
       "  </tbody>\n",
       "</table>\n",
       "</div>"
      ],
      "text/plain": [
       "              name pref  temp  humid\n",
       "number                              \n",
       "1         HORIUCHI  北海道  21.5   18.8\n",
       "2           TANAKA  秋田県  22.1   36.6\n",
       "3             ENDO  茨城県  24.8   31.5\n",
       "4         SAWAHATA  茨城県  21.8   41.2\n",
       "5           TAJIRI  群馬県  21.2   51.8\n",
       "6         HANAZAKI  東京都  24.3   48.0\n",
       "7            ISHII  埼玉県  21.9   38.9\n",
       "8         NAKAMURA  千葉県  24.2   43.9\n",
       "9            IKEDA  東京都  25.8   26.0\n",
       "10          KAZATO  千葉県  22.9   46.1\n",
       "11        MIYAZAWA  千葉県   NaN    NaN\n",
       "12          OTSUKA  千葉県  26.6   42.0\n",
       "13           OTANI  千葉県  25.2   43.1\n",
       "14            UEKI  千葉県  25.7   59.8\n",
       "15           KAWAI  東京都  26.9   46.6\n",
       "16        WATANABE  東京都  23.6   45.2\n",
       "17         OKAMURA  東京都  19.4   52.9\n",
       "18          MIYAKO  東京都  24.4   41.1\n",
       "19           TAKAI  東京都  26.5   36.2\n",
       "20           IGAWA  東京都  21.8   47.0\n",
       "21          HIRANO  福井県  23.1   45.8\n",
       "22       NISHIMOTO  福井県  26.1   50.3\n",
       "23         KAMEITA  長野県  23.1   41.0\n",
       "24           ASANO  静岡県  22.0   45.0\n",
       "25       YAMASHITA  静岡県  19.8   53.8\n",
       "26          YAMADA  三重県  26.2   32.0\n",
       "27      SHIMASHITA  京都府  23.5   56.1\n",
       "28           AZUMA  兵庫県  28.1   41.0\n",
       "29        NAGAHARA  岡山県  21.6   45.0\n",
       "30           GOKAN  岡山県  22.4   37.3\n",
       "31           FUJII  山口県  22.4   45.0\n",
       "32        MURANAKA  山口県  22.3   46.8\n",
       "33        HASAMADA  福岡県  24.7   50.3\n",
       "34          AOYAGI  宮崎県  22.3   63.1\n",
       "35        KARASAWA  沖縄県  24.7   64.7\n",
       "36            SEKI  東京都  23.7   32.0\n",
       "37           SENDA  東京都  27.5   28.0\n",
       "38       TAKAHASHI  東京都   NaN    NaN\n",
       "39        ISHIKURA  東京都   NaN    NaN\n",
       "40       YOSHIKAWA  東京都  23.2   34.6\n",
       "41       JINNOUCHI  東京都  25.0   23.0"
      ]
     },
     "execution_count": 2,
     "metadata": {},
     "output_type": "execute_result"
    }
   ],
   "source": [
    "# csv fileを読み込む (df=DataFrame, pandasの機能でcsvファイルを読み込む)\n",
    "df = pd.read_csv('./results_v1.csv', index_col='number')\n",
    "df"
   ]
  },
  {
   "cell_type": "markdown",
   "metadata": {},
   "source": [
    "[b-3] 全員のデータが一気に読み込めていることが分かります。特にエラーも出ていません。ところが表の中に多くの'NaN'という文字が書かれています。このNaNというのは，NaN(Not a number)という意味で，プログラムの中の計算で0(ゼロ)である数字を割ってしまい，答えが無限大になってしまうような計算をしたときなどにエラーとして表示されます。今回のケースでは，もともとのcsvファイルに空白があった場合，このNaNが埋められているようです。\n",
    "\n",
    "このままだと計算できません。ここではNaNが存在する行を削除する以下のdropnaというメソッドを使ってみましょう。\n",
    "削除後のデータをdf2に落とし込みます。その後，早速df2を表示してみると，"
   ]
  },
  {
   "cell_type": "code",
   "execution_count": 3,
   "metadata": {},
   "outputs": [
    {
     "data": {
      "text/html": [
       "<div>\n",
       "<style scoped>\n",
       "    .dataframe tbody tr th:only-of-type {\n",
       "        vertical-align: middle;\n",
       "    }\n",
       "\n",
       "    .dataframe tbody tr th {\n",
       "        vertical-align: top;\n",
       "    }\n",
       "\n",
       "    .dataframe thead th {\n",
       "        text-align: right;\n",
       "    }\n",
       "</style>\n",
       "<table border=\"1\" class=\"dataframe\">\n",
       "  <thead>\n",
       "    <tr style=\"text-align: right;\">\n",
       "      <th></th>\n",
       "      <th>name</th>\n",
       "      <th>pref</th>\n",
       "      <th>temp</th>\n",
       "      <th>humid</th>\n",
       "    </tr>\n",
       "    <tr>\n",
       "      <th>number</th>\n",
       "      <th></th>\n",
       "      <th></th>\n",
       "      <th></th>\n",
       "      <th></th>\n",
       "    </tr>\n",
       "  </thead>\n",
       "  <tbody>\n",
       "    <tr>\n",
       "      <th>1</th>\n",
       "      <td>HORIUCHI</td>\n",
       "      <td>北海道</td>\n",
       "      <td>21.5</td>\n",
       "      <td>18.8</td>\n",
       "    </tr>\n",
       "    <tr>\n",
       "      <th>2</th>\n",
       "      <td>TANAKA</td>\n",
       "      <td>秋田県</td>\n",
       "      <td>22.1</td>\n",
       "      <td>36.6</td>\n",
       "    </tr>\n",
       "    <tr>\n",
       "      <th>3</th>\n",
       "      <td>ENDO</td>\n",
       "      <td>茨城県</td>\n",
       "      <td>24.8</td>\n",
       "      <td>31.5</td>\n",
       "    </tr>\n",
       "    <tr>\n",
       "      <th>4</th>\n",
       "      <td>SAWAHATA</td>\n",
       "      <td>茨城県</td>\n",
       "      <td>21.8</td>\n",
       "      <td>41.2</td>\n",
       "    </tr>\n",
       "    <tr>\n",
       "      <th>5</th>\n",
       "      <td>TAJIRI</td>\n",
       "      <td>群馬県</td>\n",
       "      <td>21.2</td>\n",
       "      <td>51.8</td>\n",
       "    </tr>\n",
       "    <tr>\n",
       "      <th>6</th>\n",
       "      <td>HANAZAKI</td>\n",
       "      <td>東京都</td>\n",
       "      <td>24.3</td>\n",
       "      <td>48.0</td>\n",
       "    </tr>\n",
       "    <tr>\n",
       "      <th>7</th>\n",
       "      <td>ISHII</td>\n",
       "      <td>埼玉県</td>\n",
       "      <td>21.9</td>\n",
       "      <td>38.9</td>\n",
       "    </tr>\n",
       "    <tr>\n",
       "      <th>8</th>\n",
       "      <td>NAKAMURA</td>\n",
       "      <td>千葉県</td>\n",
       "      <td>24.2</td>\n",
       "      <td>43.9</td>\n",
       "    </tr>\n",
       "    <tr>\n",
       "      <th>9</th>\n",
       "      <td>IKEDA</td>\n",
       "      <td>東京都</td>\n",
       "      <td>25.8</td>\n",
       "      <td>26.0</td>\n",
       "    </tr>\n",
       "    <tr>\n",
       "      <th>10</th>\n",
       "      <td>KAZATO</td>\n",
       "      <td>千葉県</td>\n",
       "      <td>22.9</td>\n",
       "      <td>46.1</td>\n",
       "    </tr>\n",
       "    <tr>\n",
       "      <th>12</th>\n",
       "      <td>OTSUKA</td>\n",
       "      <td>千葉県</td>\n",
       "      <td>26.6</td>\n",
       "      <td>42.0</td>\n",
       "    </tr>\n",
       "    <tr>\n",
       "      <th>13</th>\n",
       "      <td>OTANI</td>\n",
       "      <td>千葉県</td>\n",
       "      <td>25.2</td>\n",
       "      <td>43.1</td>\n",
       "    </tr>\n",
       "    <tr>\n",
       "      <th>14</th>\n",
       "      <td>UEKI</td>\n",
       "      <td>千葉県</td>\n",
       "      <td>25.7</td>\n",
       "      <td>59.8</td>\n",
       "    </tr>\n",
       "    <tr>\n",
       "      <th>15</th>\n",
       "      <td>KAWAI</td>\n",
       "      <td>東京都</td>\n",
       "      <td>26.9</td>\n",
       "      <td>46.6</td>\n",
       "    </tr>\n",
       "    <tr>\n",
       "      <th>16</th>\n",
       "      <td>WATANABE</td>\n",
       "      <td>東京都</td>\n",
       "      <td>23.6</td>\n",
       "      <td>45.2</td>\n",
       "    </tr>\n",
       "    <tr>\n",
       "      <th>17</th>\n",
       "      <td>OKAMURA</td>\n",
       "      <td>東京都</td>\n",
       "      <td>19.4</td>\n",
       "      <td>52.9</td>\n",
       "    </tr>\n",
       "    <tr>\n",
       "      <th>18</th>\n",
       "      <td>MIYAKO</td>\n",
       "      <td>東京都</td>\n",
       "      <td>24.4</td>\n",
       "      <td>41.1</td>\n",
       "    </tr>\n",
       "    <tr>\n",
       "      <th>19</th>\n",
       "      <td>TAKAI</td>\n",
       "      <td>東京都</td>\n",
       "      <td>26.5</td>\n",
       "      <td>36.2</td>\n",
       "    </tr>\n",
       "    <tr>\n",
       "      <th>20</th>\n",
       "      <td>IGAWA</td>\n",
       "      <td>東京都</td>\n",
       "      <td>21.8</td>\n",
       "      <td>47.0</td>\n",
       "    </tr>\n",
       "    <tr>\n",
       "      <th>21</th>\n",
       "      <td>HIRANO</td>\n",
       "      <td>福井県</td>\n",
       "      <td>23.1</td>\n",
       "      <td>45.8</td>\n",
       "    </tr>\n",
       "    <tr>\n",
       "      <th>22</th>\n",
       "      <td>NISHIMOTO</td>\n",
       "      <td>福井県</td>\n",
       "      <td>26.1</td>\n",
       "      <td>50.3</td>\n",
       "    </tr>\n",
       "    <tr>\n",
       "      <th>23</th>\n",
       "      <td>KAMEITA</td>\n",
       "      <td>長野県</td>\n",
       "      <td>23.1</td>\n",
       "      <td>41.0</td>\n",
       "    </tr>\n",
       "    <tr>\n",
       "      <th>24</th>\n",
       "      <td>ASANO</td>\n",
       "      <td>静岡県</td>\n",
       "      <td>22.0</td>\n",
       "      <td>45.0</td>\n",
       "    </tr>\n",
       "    <tr>\n",
       "      <th>25</th>\n",
       "      <td>YAMASHITA</td>\n",
       "      <td>静岡県</td>\n",
       "      <td>19.8</td>\n",
       "      <td>53.8</td>\n",
       "    </tr>\n",
       "    <tr>\n",
       "      <th>26</th>\n",
       "      <td>YAMADA</td>\n",
       "      <td>三重県</td>\n",
       "      <td>26.2</td>\n",
       "      <td>32.0</td>\n",
       "    </tr>\n",
       "    <tr>\n",
       "      <th>27</th>\n",
       "      <td>SHIMASHITA</td>\n",
       "      <td>京都府</td>\n",
       "      <td>23.5</td>\n",
       "      <td>56.1</td>\n",
       "    </tr>\n",
       "    <tr>\n",
       "      <th>28</th>\n",
       "      <td>AZUMA</td>\n",
       "      <td>兵庫県</td>\n",
       "      <td>28.1</td>\n",
       "      <td>41.0</td>\n",
       "    </tr>\n",
       "    <tr>\n",
       "      <th>29</th>\n",
       "      <td>NAGAHARA</td>\n",
       "      <td>岡山県</td>\n",
       "      <td>21.6</td>\n",
       "      <td>45.0</td>\n",
       "    </tr>\n",
       "    <tr>\n",
       "      <th>30</th>\n",
       "      <td>GOKAN</td>\n",
       "      <td>岡山県</td>\n",
       "      <td>22.4</td>\n",
       "      <td>37.3</td>\n",
       "    </tr>\n",
       "    <tr>\n",
       "      <th>31</th>\n",
       "      <td>FUJII</td>\n",
       "      <td>山口県</td>\n",
       "      <td>22.4</td>\n",
       "      <td>45.0</td>\n",
       "    </tr>\n",
       "    <tr>\n",
       "      <th>32</th>\n",
       "      <td>MURANAKA</td>\n",
       "      <td>山口県</td>\n",
       "      <td>22.3</td>\n",
       "      <td>46.8</td>\n",
       "    </tr>\n",
       "    <tr>\n",
       "      <th>33</th>\n",
       "      <td>HASAMADA</td>\n",
       "      <td>福岡県</td>\n",
       "      <td>24.7</td>\n",
       "      <td>50.3</td>\n",
       "    </tr>\n",
       "    <tr>\n",
       "      <th>34</th>\n",
       "      <td>AOYAGI</td>\n",
       "      <td>宮崎県</td>\n",
       "      <td>22.3</td>\n",
       "      <td>63.1</td>\n",
       "    </tr>\n",
       "    <tr>\n",
       "      <th>35</th>\n",
       "      <td>KARASAWA</td>\n",
       "      <td>沖縄県</td>\n",
       "      <td>24.7</td>\n",
       "      <td>64.7</td>\n",
       "    </tr>\n",
       "    <tr>\n",
       "      <th>36</th>\n",
       "      <td>SEKI</td>\n",
       "      <td>東京都</td>\n",
       "      <td>23.7</td>\n",
       "      <td>32.0</td>\n",
       "    </tr>\n",
       "    <tr>\n",
       "      <th>37</th>\n",
       "      <td>SENDA</td>\n",
       "      <td>東京都</td>\n",
       "      <td>27.5</td>\n",
       "      <td>28.0</td>\n",
       "    </tr>\n",
       "    <tr>\n",
       "      <th>40</th>\n",
       "      <td>YOSHIKAWA</td>\n",
       "      <td>東京都</td>\n",
       "      <td>23.2</td>\n",
       "      <td>34.6</td>\n",
       "    </tr>\n",
       "    <tr>\n",
       "      <th>41</th>\n",
       "      <td>JINNOUCHI</td>\n",
       "      <td>東京都</td>\n",
       "      <td>25.0</td>\n",
       "      <td>23.0</td>\n",
       "    </tr>\n",
       "  </tbody>\n",
       "</table>\n",
       "</div>"
      ],
      "text/plain": [
       "              name pref  temp  humid\n",
       "number                              \n",
       "1         HORIUCHI  北海道  21.5   18.8\n",
       "2           TANAKA  秋田県  22.1   36.6\n",
       "3             ENDO  茨城県  24.8   31.5\n",
       "4         SAWAHATA  茨城県  21.8   41.2\n",
       "5           TAJIRI  群馬県  21.2   51.8\n",
       "6         HANAZAKI  東京都  24.3   48.0\n",
       "7            ISHII  埼玉県  21.9   38.9\n",
       "8         NAKAMURA  千葉県  24.2   43.9\n",
       "9            IKEDA  東京都  25.8   26.0\n",
       "10          KAZATO  千葉県  22.9   46.1\n",
       "12          OTSUKA  千葉県  26.6   42.0\n",
       "13           OTANI  千葉県  25.2   43.1\n",
       "14            UEKI  千葉県  25.7   59.8\n",
       "15           KAWAI  東京都  26.9   46.6\n",
       "16        WATANABE  東京都  23.6   45.2\n",
       "17         OKAMURA  東京都  19.4   52.9\n",
       "18          MIYAKO  東京都  24.4   41.1\n",
       "19           TAKAI  東京都  26.5   36.2\n",
       "20           IGAWA  東京都  21.8   47.0\n",
       "21          HIRANO  福井県  23.1   45.8\n",
       "22       NISHIMOTO  福井県  26.1   50.3\n",
       "23         KAMEITA  長野県  23.1   41.0\n",
       "24           ASANO  静岡県  22.0   45.0\n",
       "25       YAMASHITA  静岡県  19.8   53.8\n",
       "26          YAMADA  三重県  26.2   32.0\n",
       "27      SHIMASHITA  京都府  23.5   56.1\n",
       "28           AZUMA  兵庫県  28.1   41.0\n",
       "29        NAGAHARA  岡山県  21.6   45.0\n",
       "30           GOKAN  岡山県  22.4   37.3\n",
       "31           FUJII  山口県  22.4   45.0\n",
       "32        MURANAKA  山口県  22.3   46.8\n",
       "33        HASAMADA  福岡県  24.7   50.3\n",
       "34          AOYAGI  宮崎県  22.3   63.1\n",
       "35        KARASAWA  沖縄県  24.7   64.7\n",
       "36            SEKI  東京都  23.7   32.0\n",
       "37           SENDA  東京都  27.5   28.0\n",
       "40       YOSHIKAWA  東京都  23.2   34.6\n",
       "41       JINNOUCHI  東京都  25.0   23.0"
      ]
     },
     "execution_count": 3,
     "metadata": {},
     "output_type": "execute_result"
    }
   ],
   "source": [
    "df2 = df.dropna(how='any')\n",
    "df2"
   ]
  },
  {
   "cell_type": "markdown",
   "metadata": {},
   "source": [
    "[b-4] NaNを含まない行だけが残っていることが分かります。\n",
    "\n",
    "次にこちらをnumpyの配列 my_array に落とし込んでみます。"
   ]
  },
  {
   "cell_type": "code",
   "execution_count": 4,
   "metadata": {},
   "outputs": [
    {
     "data": {
      "text/plain": [
       "array([['HORIUCHI', '北海道', 21.5, 18.8],\n",
       "       ['TANAKA', '秋田県', 22.1, 36.6],\n",
       "       ['ENDO', '茨城県', 24.8, 31.5],\n",
       "       ['SAWAHATA', '茨城県', 21.8, 41.2],\n",
       "       ['TAJIRI', '群馬県', 21.2, 51.8],\n",
       "       ['HANAZAKI', '東京都', 24.3, 48.0],\n",
       "       ['ISHII', '埼玉県', 21.9, 38.9],\n",
       "       ['NAKAMURA', '千葉県', 24.2, 43.9],\n",
       "       ['IKEDA', '東京都', 25.8, 26.0],\n",
       "       ['KAZATO', '千葉県', 22.9, 46.1],\n",
       "       ['OTSUKA', '千葉県', 26.6, 42.0],\n",
       "       ['OTANI', '千葉県', 25.2, 43.1],\n",
       "       ['UEKI', '千葉県', 25.7, 59.8],\n",
       "       ['KAWAI', '東京都', 26.9, 46.6],\n",
       "       ['WATANABE', '東京都', 23.6, 45.2],\n",
       "       ['OKAMURA', '東京都', 19.4, 52.9],\n",
       "       ['MIYAKO', '東京都', 24.4, 41.1],\n",
       "       ['TAKAI', '東京都', 26.5, 36.2],\n",
       "       ['IGAWA', '東京都', 21.8, 47.0],\n",
       "       ['HIRANO', '福井県', 23.1, 45.8],\n",
       "       ['NISHIMOTO', '福井県', 26.1, 50.3],\n",
       "       ['KAMEITA', '長野県', 23.1, 41.0],\n",
       "       ['ASANO', '静岡県', 22.0, 45.0],\n",
       "       ['YAMASHITA', '静岡県', 19.8, 53.8],\n",
       "       ['YAMADA', '三重県', 26.2, 32.0],\n",
       "       ['SHIMASHITA', '京都府', 23.5, 56.1],\n",
       "       ['AZUMA', '兵庫県', 28.1, 41.0],\n",
       "       ['NAGAHARA', '岡山県', 21.6, 45.0],\n",
       "       ['GOKAN', '岡山県', 22.4, 37.3],\n",
       "       ['FUJII', '山口県', 22.4, 45.0],\n",
       "       ['MURANAKA', '山口県', 22.3, 46.8],\n",
       "       ['HASAMADA', '福岡県', 24.7, 50.3],\n",
       "       ['AOYAGI', '宮崎県', 22.3, 63.1],\n",
       "       ['KARASAWA', '沖縄県', 24.7, 64.7],\n",
       "       ['SEKI', '東京都', 23.7, 32.0],\n",
       "       ['SENDA', '東京都', 27.5, 28.0],\n",
       "       ['YOSHIKAWA', '東京都', 23.2, 34.6],\n",
       "       ['JINNOUCHI', '東京都', 25.0, 23.0]], dtype=object)"
      ]
     },
     "execution_count": 4,
     "metadata": {},
     "output_type": "execute_result"
    }
   ],
   "source": [
    "my_array = np.array(df2)\n",
    "my_array"
   ]
  },
  {
   "cell_type": "markdown",
   "metadata": {},
   "source": [
    "[b-5] さて，本日やりたいことの一つが，「東と西にデータを分けてみてその違いがあるのかないのか検定してみたい」というものでした。データをまずは東と西に分ける必要があります。\n",
    "\n",
    "そこで都道府県名によって'east'なのか 'west' なのかを判断しないといけません。まずはある都道府県名が\n",
    "与えられたときに，それがeastなのかwestなのかを判断できるようにしたいと思います。\n",
    "\n",
    "まずは参加者の都道府県名のリストを出してみます。空白じゃない参加者の人数も確認してみましょう。"
   ]
  },
  {
   "cell_type": "code",
   "execution_count": 5,
   "metadata": {},
   "outputs": [
    {
     "name": "stdout",
     "output_type": "stream",
     "text": [
      "人数は 38 人です\n",
      "参加者の都道府県名は ['北海道' '秋田県' '茨城県' '茨城県' '群馬県' '東京都' '埼玉県' '千葉県' '東京都' '千葉県' '千葉県' '千葉県'\n",
      " '千葉県' '東京都' '東京都' '東京都' '東京都' '東京都' '東京都' '福井県' '福井県' '長野県' '静岡県' '静岡県'\n",
      " '三重県' '京都府' '兵庫県' '岡山県' '岡山県' '山口県' '山口県' '福岡県' '宮崎県' '沖縄県' '東京都' '東京都'\n",
      " '東京都' '東京都'] です\n"
     ]
    }
   ],
   "source": [
    "my_pref = np.array(df2['pref'])\n",
    "print(\"人数は %d 人です\" % my_pref.size)   # %d では整数を代入できます\n",
    "print(\"参加者の都道府県名は %s です\" % my_pref)  # %s では string(文) を代入できます"
   ]
  },
  {
   "cell_type": "markdown",
   "metadata": {},
   "source": [
    "[b-6] 全国津々浦々であることが分かりますね。さて，各都道府県名をもとにE(=east)かW(=west)に判別するのには\n",
    "Pythonのdictionary（辞書）機能を使いたいと思います。"
   ]
  },
  {
   "cell_type": "code",
   "execution_count": 6,
   "metadata": {},
   "outputs": [],
   "source": [
    "mydict = {'北海道':'E','青森県':'E','岩手県':'E','宮城県':'E','秋田県':'E','山形県':'E',\n",
    "          '福島県':'E','茨城県':'E','栃木県':'E','群馬県':'E','埼玉県':'E','千葉県':'E',\n",
    "          '東京都':'E','神奈川県':'E','新潟県':'E','富山県':'W','石川県':'W','福井県':'W',\n",
    "          '山梨県':'E','長野県':'E','岐阜県':'W','静岡県':'W','愛知県':'W','三重県':'W',\n",
    "          '滋賀県':'W','京都府':'W','大阪府':'W','兵庫県':'W','奈良県':'W','和歌山県':'W',\n",
    "          '鳥取県':'W','島根県':'W','岡山県':'W','広島県':'W','山口県':'W','徳島県':'W',\n",
    "          '香川県':'W','愛媛県':'W','高知県':'W','福岡県':'W','佐賀県':'W','長崎県':'W',\n",
    "          '熊本県':'W','大分県':'W','宮崎県':'W','鹿児島県':'W','沖縄県':'W'}"
   ]
  },
  {
   "cell_type": "markdown",
   "metadata": {},
   "source": [
    "[b-7] これが定義されていると，例えば mydict.get('岐阜県')とすると，'W'が返ってきます。\n",
    "この東か西かの定義ですが，NTT東日本とNTT西日本がそれぞれ担当している都道府県で分けました。"
   ]
  },
  {
   "cell_type": "code",
   "execution_count": 7,
   "metadata": {},
   "outputs": [
    {
     "data": {
      "text/plain": [
       "'W'"
      ]
     },
     "execution_count": 7,
     "metadata": {},
     "output_type": "execute_result"
    }
   ],
   "source": [
    "mydict.get('岐阜県')"
   ]
  },
  {
   "cell_type": "markdown",
   "metadata": {},
   "source": [
    "[b-8] では，この辞書機能を使って先程の my_pref のリストを'W','E'のリストに変換しましょう。"
   ]
  },
  {
   "cell_type": "code",
   "execution_count": 8,
   "metadata": {},
   "outputs": [
    {
     "name": "stdout",
     "output_type": "stream",
     "text": [
      " my_pref_ew の中身は ['E', 'E', 'E', 'E', 'E', 'E', 'E', 'E', 'E', 'E', 'E', 'E', 'E', 'E', 'E', 'E', 'E', 'E', 'E', 'W', 'W', 'E', 'W', 'W', 'W', 'W', 'W', 'W', 'W', 'W', 'W', 'W', 'W', 'W', 'E', 'E', 'E', 'E'] です\n"
     ]
    }
   ],
   "source": [
    "my_pref_ew = [] # E,Wを詰めるリスト\n",
    "for key in my_pref: # my_prefの都道府県リストの各要素 keyに対して  \n",
    "    if key in mydict:           # mydict内で定義されていれば\n",
    "        val = mydict.get(key)   # val = E or W　\n",
    "        #print(val)\n",
    "        my_pref_ew.append(val)\n",
    "    else:                       # mydict内で定義されていなければ　　　\n",
    "        my_pref_ew.append(\"XX\")\n",
    "        #print(\"x\")\n",
    "print(\" my_pref_ew の中身は %s です\" % my_pref_ew)"
   ]
  },
  {
   "cell_type": "markdown",
   "metadata": {},
   "source": [
    "[b-9] ではこの新たに作ったリストをmy_arrayに付け足しましょう。ここでは insert メソッドを使います。\n",
    "都道府県名の後に挿入したいので，2を指定します（0から数えて，0,1,2なので3番目です），最後のaxisは次元を表しています。この配列は２次元配列（行列）です。今回は’列’を挿入したいのでaxis=1とします。（'行'を代入したいときはaxis=0です）。"
   ]
  },
  {
   "cell_type": "code",
   "execution_count": 9,
   "metadata": {},
   "outputs": [
    {
     "data": {
      "text/plain": [
       "array([['HORIUCHI', '北海道', 'E', 21.5, 18.8],\n",
       "       ['TANAKA', '秋田県', 'E', 22.1, 36.6],\n",
       "       ['ENDO', '茨城県', 'E', 24.8, 31.5],\n",
       "       ['SAWAHATA', '茨城県', 'E', 21.8, 41.2],\n",
       "       ['TAJIRI', '群馬県', 'E', 21.2, 51.8],\n",
       "       ['HANAZAKI', '東京都', 'E', 24.3, 48.0],\n",
       "       ['ISHII', '埼玉県', 'E', 21.9, 38.9],\n",
       "       ['NAKAMURA', '千葉県', 'E', 24.2, 43.9],\n",
       "       ['IKEDA', '東京都', 'E', 25.8, 26.0],\n",
       "       ['KAZATO', '千葉県', 'E', 22.9, 46.1],\n",
       "       ['OTSUKA', '千葉県', 'E', 26.6, 42.0],\n",
       "       ['OTANI', '千葉県', 'E', 25.2, 43.1],\n",
       "       ['UEKI', '千葉県', 'E', 25.7, 59.8],\n",
       "       ['KAWAI', '東京都', 'E', 26.9, 46.6],\n",
       "       ['WATANABE', '東京都', 'E', 23.6, 45.2],\n",
       "       ['OKAMURA', '東京都', 'E', 19.4, 52.9],\n",
       "       ['MIYAKO', '東京都', 'E', 24.4, 41.1],\n",
       "       ['TAKAI', '東京都', 'E', 26.5, 36.2],\n",
       "       ['IGAWA', '東京都', 'E', 21.8, 47.0],\n",
       "       ['HIRANO', '福井県', 'W', 23.1, 45.8],\n",
       "       ['NISHIMOTO', '福井県', 'W', 26.1, 50.3],\n",
       "       ['KAMEITA', '長野県', 'E', 23.1, 41.0],\n",
       "       ['ASANO', '静岡県', 'W', 22.0, 45.0],\n",
       "       ['YAMASHITA', '静岡県', 'W', 19.8, 53.8],\n",
       "       ['YAMADA', '三重県', 'W', 26.2, 32.0],\n",
       "       ['SHIMASHITA', '京都府', 'W', 23.5, 56.1],\n",
       "       ['AZUMA', '兵庫県', 'W', 28.1, 41.0],\n",
       "       ['NAGAHARA', '岡山県', 'W', 21.6, 45.0],\n",
       "       ['GOKAN', '岡山県', 'W', 22.4, 37.3],\n",
       "       ['FUJII', '山口県', 'W', 22.4, 45.0],\n",
       "       ['MURANAKA', '山口県', 'W', 22.3, 46.8],\n",
       "       ['HASAMADA', '福岡県', 'W', 24.7, 50.3],\n",
       "       ['AOYAGI', '宮崎県', 'W', 22.3, 63.1],\n",
       "       ['KARASAWA', '沖縄県', 'W', 24.7, 64.7],\n",
       "       ['SEKI', '東京都', 'E', 23.7, 32.0],\n",
       "       ['SENDA', '東京都', 'E', 27.5, 28.0],\n",
       "       ['YOSHIKAWA', '東京都', 'E', 23.2, 34.6],\n",
       "       ['JINNOUCHI', '東京都', 'E', 25.0, 23.0]], dtype=object)"
      ]
     },
     "execution_count": 9,
     "metadata": {},
     "output_type": "execute_result"
    }
   ],
   "source": [
    "my_array_ew = np.insert(my_array,2,my_pref_ew,axis=1)\n",
    "my_array_ew"
   ]
  },
  {
   "cell_type": "markdown",
   "metadata": {},
   "source": [
    "うまくいったようです。都道府県名とE,Wが対応しているか確認してみましょう。\n",
    "\n",
    "# 東西データの確認\n",
    "\n",
    "[b-10] では，早速ですが，まずは東（=E）を抜き出してみましょう。下のコートでは１行目でmy_array_ewの中である条件を満たすものだけ抜き出されています。条件は( my_array_ewの2列（=3番めの列）が'E'ならば )です。\n",
    "2行目では新たに作ったarray_eastの3列目（温度）を，\n",
    "3行目では4列目（湿度）だけを抜き出して，新たな配列を作っています。"
   ]
  },
  {
   "cell_type": "markdown",
   "metadata": {},
   "source": [
    "## 東のデータの内容\n",
    "[b-11] 東のデータを見てみます。"
   ]
  },
  {
   "cell_type": "code",
   "execution_count": 10,
   "metadata": {},
   "outputs": [
    {
     "name": "stdout",
     "output_type": "stream",
     "text": [
      "東のデータ数は 24\n",
      "\n",
      "東の温度は:  [21.5 22.1 24.8 21.8 21.2 24.3 21.9 24.2 25.8 22.9 26.6 25.2 25.7 26.9\n",
      " 23.6 19.4 24.4 26.5 21.8 23.1 23.7 27.5 23.2 25.0]\n",
      "東の温度の平均値は:  23.9 度\n",
      "東の温度の標準偏差は:   2.0 度\n",
      "東の最低温度: 19.4 度, 最高温度: 27.5 度\n",
      "\n",
      "東の湿度は:  [18.8 36.6 31.5 41.2 51.8 48.0 38.9 43.9 26.0 46.1 42.0 43.1 59.8 46.6\n",
      " 45.2 52.9 41.1 36.2 47.0 41.0 32.0 28.0 34.6 23.0]\n",
      "東の湿度の平均値は:  39.8 パーセント\n",
      "東の湿度の標準偏差は:   9.6 パーセント\n",
      "東の最低湿度: 18.8 パーセント, 最高湿度: 59.8 パーセント\n"
     ]
    }
   ],
   "source": [
    "array_east = my_array_ew[my_array_ew[:,2]=='E']\n",
    "temp_east = array_east[:,3]\n",
    "humid_east = array_east[:,4]\n",
    "print(\"東のデータ数は\", temp_east.size)\n",
    "print(\"\\n東の温度は: \", temp_east)\n",
    "print(\"東の温度の平均値は: %5.1F 度\" % temp_east.mean())\n",
    "print(\"東の温度の標準偏差は: %5.1F 度\" % temp_east.std())\n",
    "print(\"東の最低温度: %4.1F 度, 最高温度: %4.1F 度\" % (temp_east.min(),temp_east.max()))\n",
    "print(\"\\n東の湿度は: \", humid_east)\n",
    "print(\"東の湿度の平均値は: %5.1F パーセント\" % humid_east.mean())\n",
    "print(\"東の湿度の標準偏差は: %5.1F パーセント\" % humid_east.std())\n",
    "print(\"東の最低湿度: %4.1F パーセント, 最高湿度: %4.1F パーセント\" % (humid_east.min(),humid_east.max()))"
   ]
  },
  {
   "cell_type": "markdown",
   "metadata": {},
   "source": [
    "## 西のデータの内容\n",
    "\n",
    "[b-12] 西についても同様な処理をします。東，east -> 西，westに書き換えただけです。\n"
   ]
  },
  {
   "cell_type": "code",
   "execution_count": 11,
   "metadata": {},
   "outputs": [
    {
     "name": "stdout",
     "output_type": "stream",
     "text": [
      "西のデータ数は 14\n",
      "\n",
      "西の温度は:  [23.1 26.1 22.0 19.8 26.2 23.5 28.1 21.6 22.4 22.4 22.3 24.7 22.3 24.7]\n",
      "西の温度の平均値は:  23.5 度\n",
      "西の温度の標準偏差は:   2.1 度\n",
      "西の最低温度: 19.8 度, 最高温度: 28.1 度\n",
      "\n",
      "西の湿度は:  [45.8 50.3 45.0 53.8 32.0 56.1 41.0 45.0 37.3 45.0 46.8 50.3 63.1 64.7]\n",
      "西の湿度の平均値は:  48.3 パーセント\n",
      "西の湿度の標準偏差は:   8.7 パーセント\n",
      "西の最低湿度: 32.0 パーセント, 最高湿度: 64.7 パーセント\n"
     ]
    }
   ],
   "source": [
    "array_west = my_array_ew[my_array_ew[:,2]=='W']\n",
    "temp_west = array_west[:,3]\n",
    "humid_west = array_west[:,4]\n",
    "print(\"西のデータ数は\", temp_west.size)\n",
    "print(\"\\n西の温度は: \", temp_west)\n",
    "print(\"西の温度の平均値は: %5.1F 度\" % temp_west.mean())\n",
    "print(\"西の温度の標準偏差は: %5.1F 度\" % temp_west.std())\n",
    "print(\"西の最低温度: %4.1F 度, 最高温度: %4.1F 度\" % (temp_west.min(),temp_west.max()))\n",
    "print(\"\\n西の湿度は: \", humid_west)\n",
    "print(\"西の湿度の平均値は: %5.1F パーセント\" % humid_west.mean())\n",
    "print(\"西の湿度の標準偏差は: %5.1F パーセント\" % humid_west.std())\n",
    "print(\"西の最低湿度: %4.1F パーセント, 最高湿度: %4.1F パーセント\" % (humid_west.min(),humid_west.max()))"
   ]
  },
  {
   "cell_type": "markdown",
   "metadata": {},
   "source": [
    "平均値を見ると，余り差がなさそうです。でもこれだけではよく分かりません。やはりグラフで見ないと\n",
    "直観的には分かりませんね。では見てみましょう。\n",
    "\n",
    "## 東西のデータをグラフで確認\n",
    "### 温度のグラフ\n",
    "\n",
    "[b-13] まずは温度について見てみましょう。"
   ]
  },
  {
   "cell_type": "code",
   "execution_count": 12,
   "metadata": {},
   "outputs": [
    {
     "name": "stdout",
     "output_type": "stream",
     "text": [
      "[10.0 12.0 14.0 16.0 18.0 20.0 22.0 24.0 26.0 28.0 30.0 32.0 34.0 36.0\n",
      " 38.0 40.0]\n",
      "[11.0 13.0 15.0 17.0 19.0 21.0 23.0 25.0 27.0 29.0 31.0 33.0 35.0 37.0\n",
      " 39.0]\n"
     ]
    },
    {
     "data": {
      "text/plain": [
       "<matplotlib.legend.Legend at 0x7fdcce7589a0>"
      ]
     },
     "execution_count": 12,
     "metadata": {},
     "output_type": "execute_result"
    },
    {
     "data": {
      "image/png": "[encoded data removed]",
      "text/plain": [
       "<Figure size 720x432 with 1 Axes>"
      ]
     },
     "metadata": {
      "needs_background": "light"
     },
     "output_type": "display_data"
    }
   ],
   "source": [
    "fig = plt.figure(figsize=(10,6))  # グラフをかく前のいつものおまじない\n",
    "ax = fig.add_subplot(111)\n",
    "\n",
    "# 10度-40度を15等分したヒストグラム\n",
    "# np.histogramの返し値の1つ目は，頻度の数列，2つ目は ヒストグラムbinの両端のxの値\n",
    "# 頻度数列よりも, binsの方が１つ多い\n",
    "hist_temp_east, bins = np.histogram(temp_east, bins=15,range=(10.0,40.0))\n",
    "hist_temp_west, bins = np.histogram(temp_west, bins=15,range=(10.0,40.0))\n",
    "\n",
    "# これがpythonの秀逸なところ. for loopを回さないでも1行でやりたいことが書ける\n",
    "# この一行で何をやっているのかは次のセルで説明する。\n",
    "hist_x = (bins[1:]+bins[:-1])/2\n",
    "\n",
    "print(bins)\n",
    "print(hist_x)\n",
    "\n",
    "# 棒グラフで表示する。alphaはグラフの透明度, 半透明にすると重なった部分が透けて見える。\n",
    "plt.bar(hist_x, hist_temp_east, width=1.8, alpha=0.6, label='east')\n",
    "plt.bar(hist_x, hist_temp_west, width=1.8, alpha=0.6, label='west')\n",
    "\n",
    "# 凡例を表示\n",
    "plt.legend()"
   ]
  },
  {
   "cell_type": "markdown",
   "metadata": {},
   "source": [
    "[b-14] 分布はどうでしたでしょうか。"
   ]
  },
  {
   "cell_type": "markdown",
   "metadata": {},
   "source": [
    "【余談】上記のプログラム中1行でコードが書けた話の解説をします。"
   ]
  },
  {
   "cell_type": "code",
   "execution_count": 13,
   "metadata": {},
   "outputs": [
    {
     "name": "stdout",
     "output_type": "stream",
     "text": [
      "[1:]は [1 2 3 4 5] \n",
      "[:-1]は [0 1 2 3 4] \n",
      "なので平均は [0.5 1.5 2.5 3.5 4.5] \n"
     ]
    }
   ],
   "source": [
    "my_test_list =np.array([0,1,2,3,4,5])\n",
    "print(\"[1:]は %s \" % my_test_list[1:])\n",
    "print(\"[:-1]は %s \" % my_test_list[:-1])\n",
    "print(\"なので平均は %s \" % ((my_test_list[1:]+my_test_list[:-1])/2) )"
   ]
  },
  {
   "cell_type": "markdown",
   "metadata": {},
   "source": [
    "## 湿度のグラフも作ってみましょう\n",
    "\n",
    "[b-15] やり方は全く一緒です。temp(温度)->humid(湿度)に書き換えます。また，表示する範囲ですが，0%から100%までめいいっぱい広げてみましょう。"
   ]
  },
  {
   "cell_type": "code",
   "execution_count": 14,
   "metadata": {
    "scrolled": false
   },
   "outputs": [
    {
     "data": {
      "text/plain": [
       "<matplotlib.legend.Legend at 0x7fdccf244c40>"
      ]
     },
     "execution_count": 14,
     "metadata": {},
     "output_type": "execute_result"
    },
    {
     "data": {
      "image/png": "[encoded data removed]",
      "text/plain": [
       "<Figure size 720x432 with 1 Axes>"
      ]
     },
     "metadata": {
      "needs_background": "light"
     },
     "output_type": "display_data"
    }
   ],
   "source": [
    "fig = plt.figure(figsize=(10,6)) # グラフをかく前のいつものおまじない\n",
    "ax = fig.add_subplot(111)\n",
    "\n",
    "# 温度のセルを参照。ほとんど同じ。\n",
    "hist_humid_east, bins = np.histogram(humid_east, bins=20,range=(0.0,100.0))\n",
    "hist_humid_west, bins = np.histogram(humid_west, bins=20,range=(0.0,100.0))\n",
    "hist_x = (bins[1:]+bins[:-1])/2\n",
    "\n",
    "# 温度のセルを参照。ほとんど同じ。\n",
    "plt.bar(hist_x, hist_humid_east, width=4.0, alpha=0.6, label='east')\n",
    "plt.bar(hist_x, hist_humid_west, width=4.0, alpha=0.6, label='west')\n",
    "\n",
    "# 温度のセルを参照。同じ。\n",
    "plt.legend()"
   ]
  },
  {
   "cell_type": "markdown",
   "metadata": {},
   "source": [
    "## 実習１\n",
    "\n",
    "1. 温度のグラフ同様に，湿度のグラフについても考察してみよう。\n",
    "2. 温度，湿度のグラフと先程出した平均値，標準偏差の値を見比べてみる。グラフで読み取れる直観と先程得られた数字が符合しているかを確認しよう。 "
   ]
  },
  {
   "cell_type": "markdown",
   "metadata": {},
   "source": [
    "# 仮説検定\n",
    "\n",
    "[b-16] それでは検定作業に入って行きましょう。検定を始める上で最初に最も大事なのは，「帰無仮説」を正確に立てることです。どういう分布を仮定して（どういう状況を仮定して），何に対して検定を行うのかという点が大事です。\n",
    "\n",
    "\n",
    "## １つ目の検定：東と西のデータの平均値は同じか否か\n",
    "\n",
    "[b-17] 先程グラフで見ていたものを定量的に扱いましょう。平均値が一致するかどうかということで，比較するべきは分布そのものではなく，平均値とその広がり（=標準誤差）が重なっているかどうかです。標準誤差は$\\sigma/\\sqrt{n}$のように，標準偏差($\\sigma$)をそのデータの個数$n$の平方根$\\sqrt{n}$で割ったものになります。N(平均，標準誤差)となる，正規分布を作ってみましょう。\n",
    "\n",
    "まずは先程得られた（代入する前にもう一度計算するが），東・西の，温度・湿度の平均・標準偏差をもとに\n",
    "正規分布による確率分布を求めます。 rv_XXX は確率密度関数を表します。rv_temp_eastは東データの温度の確率密度分布を表します。"
   ]
  },
  {
   "cell_type": "code",
   "execution_count": 15,
   "metadata": {},
   "outputs": [
    {
     "name": "stdout",
     "output_type": "stream",
     "text": [
      "[東の結果]\n",
      "東の温度の平均値は: 23.88 度\n",
      "東の温度の標準誤差は:  0.41 度\n",
      "東の湿度の平均値は: 39.80 パーセント\n",
      "東の湿度の標準誤差は:  1.96 パーセント\n",
      "[西の結果]\n",
      "西の温度の平均値は: 23.51 度\n",
      "西の温度の標準誤差は:  0.57 度\n",
      "西の湿度の平均値は: 48.30 パーセント\n",
      "西の湿度の標準誤差は:  2.33 パーセント\n"
     ]
    }
   ],
   "source": [
    "rv_temp_east = stats.norm(temp_east.mean(),temp_east.std()/np.sqrt(temp_east.size))\n",
    "print(\"[東の結果]\")\n",
    "print(\"東の温度の平均値は: %5.2F 度\" % rv_temp_east.mean())\n",
    "print(\"東の温度の標準誤差は: %5.2F 度\" % rv_temp_east.std())\n",
    "\n",
    "rv_humid_east = stats.norm(humid_east.mean(),humid_east.std()/np.sqrt(humid_east.size))\n",
    "print(\"東の湿度の平均値は: %5.2F パーセント\" % rv_humid_east.mean())\n",
    "print(\"東の湿度の標準誤差は: %5.2F パーセント\" % rv_humid_east.std())\n",
    "\n",
    "print(\"[西の結果]\")\n",
    "rv_temp_west = stats.norm(temp_west.mean(),temp_west.std()/np.sqrt(temp_west.size))\n",
    "print(\"西の温度の平均値は: %5.2F 度\" % rv_temp_west.mean())\n",
    "print(\"西の温度の標準誤差は: %5.2F 度\" % rv_temp_west.std())\n",
    "\n",
    "rv_humid_west = stats.norm(humid_west.mean(),humid_west.std()/np.sqrt(humid_west.size))\n",
    "print(\"西の湿度の平均値は: %5.2F パーセント\" % rv_humid_west.mean())\n",
    "print(\"西の湿度の標準誤差は: %5.2F パーセント\" % rv_humid_west.std())"
   ]
  },
  {
   "cell_type": "markdown",
   "metadata": {},
   "source": [
    "平均値は先程と変わっていないのですが，幅はかなり狭くなっています。数字だけみても分からないので\n",
    "分布を早速見てみましょう。\n",
    "\n",
    "## 温度の平均の分布\n",
    "\n",
    "[b-18] 温度の平均分布を見てみましょう"
   ]
  },
  {
   "cell_type": "code",
   "execution_count": 16,
   "metadata": {},
   "outputs": [
    {
     "data": {
      "text/plain": [
       "<matplotlib.legend.Legend at 0x7fdccf3f0d30>"
      ]
     },
     "execution_count": 16,
     "metadata": {},
     "output_type": "execute_result"
    },
    {
     "data": {
      "image/png": "[encoded data removed]",
      "text/plain": [
       "<Figure size 720x432 with 1 Axes>"
      ]
     },
     "metadata": {
      "needs_background": "light"
     },
     "output_type": "display_data"
    }
   ],
   "source": [
    "fig = plt.figure(figsize=(10,6)) # グラフを書く時のいつものおまじない\n",
    "ax = fig.add_subplot(111)\n",
    "\n",
    "xs = np.linspace(10,30,200)   # 10-30の間を200等分 (温度分布に合わせてここは書き換える必要があるかも知れない)\n",
    "ax.plot(xs, rv_temp_east.pdf(xs), label=\"temperature(East)\")\n",
    "ax.plot(xs, rv_temp_west.pdf(xs), label=\"temperature(West)\")\n",
    "\n",
    "ax.legend()"
   ]
  },
  {
   "cell_type": "markdown",
   "metadata": {},
   "source": [
    "\n",
    "\n",
    "## 湿度の平均の分布\n",
    "[b-19] 次は湿度です。"
   ]
  },
  {
   "cell_type": "code",
   "execution_count": 17,
   "metadata": {},
   "outputs": [
    {
     "data": {
      "text/plain": [
       "<matplotlib.legend.Legend at 0x7fdccf45de20>"
      ]
     },
     "execution_count": 17,
     "metadata": {},
     "output_type": "execute_result"
    },
    {
     "data": {
      "image/png": "[encoded data removed]",
      "text/plain": [
       "<Figure size 720x432 with 1 Axes>"
      ]
     },
     "metadata": {
      "needs_background": "light"
     },
     "output_type": "display_data"
    }
   ],
   "source": [
    "fig = plt.figure(figsize=(10,6))\n",
    "ax = fig.add_subplot(111)\n",
    "\n",
    "xs = np.linspace(20,70,200) # 20-70の間を200等分 (湿度分布に合わせてここは書き換える必要があるかも知れない)\n",
    "ax.plot(xs, rv_humid_east.pdf(xs), label=\"humidity(East)\")\n",
    "ax.plot(xs, rv_humid_west.pdf(xs), label=\"humidity(West)\")\n",
    "\n",
    "ax.legend()"
   ]
  },
  {
   "cell_type": "markdown",
   "metadata": {},
   "source": [
    "分布を比較してどうでしたでしょうか。\n",
    "\n",
    "## さていよいよ t検定です。\n",
    "[b-20] ここでは２つの，独立な分布の間のt値，そしてそのt値に対応するp値を求めます。２つの値が一致するという帰無仮説に対して95%の信頼度(5%の有意水準)で検定を行います。つまりp値が5%よりも小さければ，帰無仮説は棄却されます，逆に5%よりも大きければ，帰無仮説は採択されます。\n",
    "\n",
    "pythonのscipy.statsモジュールには ttest_ind(array1, array2, evaal_var)というメソッドが予め用意されています。array1, array2には２つの配列を指定します。ここではもともとの温度・湿度値の配列を与えます。ここでarray1には東のデータを，array2には西のデータを与えます。同じ温度データでも，東と西の測定は違う人が行っているので，独立な対応のないデータセットであります。この場合ttest_ind()を使います。(\"ind\"はindependence(独立)の意味)。最後の引数，**equal_var は比較する２つの分布の分散が同じ場合はequal_var = True, 異なる場合は Falseとなります**。今回の例では異なることを仮定してFalseという値を入れてあります。\n",
    "\n",
    "【余談】ここでは用いませんが，１つのサンプルを使ってttest_1samp(array, 0)という検定を行うこともできます。例えば，今回の例で言えば，複数の人々がある環境で測定１を行い，環境を少し変えて測定２を行ったとして，その差(array=測定1−測定2)が0と無矛盾かどうかということを検定する際には，ttest_1samp()を使えます。\n",
    "\n",
    "### 東 vs. 西，温度に関して\n",
    "[b-21] 温度に関して検定結果を見てみます。"
   ]
  },
  {
   "cell_type": "code",
   "execution_count": 18,
   "metadata": {},
   "outputs": [
    {
     "name": "stdout",
     "output_type": "stream",
     "text": [
      "温度の分布に関して\n",
      "tの値は 0.503\n",
      "pの値は 0.619\n"
     ]
    }
   ],
   "source": [
    "# 分散が異なる２つのサンプルの対応のないt検定を定義します。\n",
    "t_temp, p_temp = stats.ttest_ind(temp_east, temp_west, equal_var=False)\n",
    "print(\"温度の分布に関して\")\n",
    "print(\"tの値は %5.3f\" % t_temp)\n",
    "print(\"pの値は %5.3f\" % p_temp)"
   ]
  },
  {
   "cell_type": "markdown",
   "metadata": {},
   "source": [
    "２つのデータ（東の温度，西の温度）の平均値が一致するという「帰無仮説」は 5%の有意水準で採択されたでしょうか？\n",
    "\n",
    "### 東 vs. 西，湿度に関して\n",
    "[b-22] 湿度に関して検定結果を見てみます。"
   ]
  },
  {
   "cell_type": "code",
   "execution_count": 19,
   "metadata": {},
   "outputs": [
    {
     "name": "stdout",
     "output_type": "stream",
     "text": [
      "湿度の分布に関して\n",
      "tの値は -2.701\n",
      "pの値は 0.011\n"
     ]
    }
   ],
   "source": [
    "t_humid, p_humid = stats.ttest_ind(humid_east, humid_west, equal_var=False)\n",
    "print(\"湿度の分布に関して\")\n",
    "print(\"tの値は %5.3f\" % t_humid)\n",
    "print(\"pの値は %5.3f\" % p_humid)"
   ]
  },
  {
   "cell_type": "markdown",
   "metadata": {},
   "source": [
    "２つのデータ（東の湿度，西の湿度）の平均値が一致するという「帰無仮説」は 5%の有意水準で採択されたでしょうか？\n",
    "\n",
    "## 各自の測定 vs. 地域別分布\n",
    "\n",
    "[b-23] さていよいよ各自のデータと，地域別の分布との比較になります。\n",
    "\n",
    "今回は**湿度だけ確認してみましょう**。\n",
    "\n",
    "今回，各自のデータは温度，湿度それぞれ１つづつ書いてもらいましたので，サンプル数は１です。\n",
    "しかし実際には測定で25回の連続測定を行いその平均値を求めたのでした。ここでは簡単のため，３回の測定をしたことにして，平均値，平均値+1, 平均値-1の３測定であったということにしましょう。３つの平均を計算すればもちろん，もとの平均値になります。湿度の測定は最小単位が1％でしたので，平均値付近の幅としては+1/-1で申し分ありません。"
   ]
  },
  {
   "cell_type": "code",
   "execution_count": 20,
   "metadata": {},
   "outputs": [
    {
     "data": {
      "text/plain": [
       "[23.0, 24.0, 22.0]"
      ]
     },
     "execution_count": 20,
     "metadata": {},
     "output_type": "execute_result"
    }
   ],
   "source": [
    "my_humidity = 23.0    # 自分の湿度の値に置き換えてみましょう。\n",
    "my_humid_array = [my_humidity, my_humidity+1, my_humidity-1]\n",
    "my_humid_array"
   ]
  },
  {
   "cell_type": "markdown",
   "metadata": {},
   "source": [
    "### 東グループデータとの比較\n",
    "[b-24] 自分のデータと東のデータを比較してみましょう"
   ]
  },
  {
   "cell_type": "code",
   "execution_count": 21,
   "metadata": {},
   "outputs": [
    {
     "name": "stdout",
     "output_type": "stream",
     "text": [
      "自分の湿度測定は東の都道府県に対して\n",
      "tの値は -8.050\n",
      "pの値は 0.000\n"
     ]
    }
   ],
   "source": [
    "t_myhumid_e, p_myhumid_e = stats.ttest_ind(my_humid_array, humid_east, equal_var=False)\n",
    "print(\"自分の湿度測定は東の都道府県に対して\")\n",
    "print(\"tの値は %5.3f\" % t_myhumid_e)\n",
    "print(\"pの値は %5.3f\" % p_myhumid_e)"
   ]
  },
  {
   "cell_type": "markdown",
   "metadata": {},
   "source": [
    "### 西グループデータとの比較\n",
    "[b-25] 自分のデータと西のデータを比較してみましょう"
   ]
  },
  {
   "cell_type": "code",
   "execution_count": 22,
   "metadata": {},
   "outputs": [
    {
     "name": "stdout",
     "output_type": "stream",
     "text": [
      "自分の湿度測定は西の都道府県に対して\n",
      "tの値は -10.158\n",
      "pの値は 0.000\n"
     ]
    }
   ],
   "source": [
    "t_myhumid_w, p_myhumid_w = stats.ttest_ind(my_humid_array, humid_west, equal_var=False)\n",
    "print(\"自分の湿度測定は西の都道府県に対して\")\n",
    "print(\"tの値は %5.3f\" % t_myhumid_w)\n",
    "print(\"pの値は %5.3f\" % p_myhumid_w)"
   ]
  },
  {
   "cell_type": "markdown",
   "metadata": {},
   "source": [
    "## 実習2\n",
    "\n",
    "自分の測定値(平均値)と，各地域の平均値との間のt値，p値が求まっています。帰無仮説が採択されたのか，棄却されたのかそれぞれ考察してみましょう。"
   ]
  },
  {
   "cell_type": "markdown",
   "metadata": {},
   "source": [
    "# $\\chi^2$検定\n",
    "\n",
    "[b-26] 「カイにじょう」検定と読みます。正式にはギリシャ文字で$\\chi^2$検定と書きます。以下，面倒なのでchi2検定と書きます。\n",
    "chi2検定には2種類あります。\n",
    "1. 適合度のchi2検定 (chi2-test of goodness of fit)\n",
    "2. 独立性のchi2検定（chi2-test for indenependence）\n",
    "ここでは，1の適合度のchi2検定を扱います。\n",
    "\n",
    "今回得られた全国の温度データは正規分布の形をしているでしょうか？ それを\n",
    "確かめたいと思います。まずは東西で区別せずに，温度，湿度のリストを作ります。"
   ]
  },
  {
   "cell_type": "code",
   "execution_count": 23,
   "metadata": {},
   "outputs": [
    {
     "name": "stdout",
     "output_type": "stream",
     "text": [
      "all temperature:  [21.5 22.1 24.8 21.8 21.2 24.3 21.9 24.2 25.8 22.9 26.6 25.2 25.7 26.9\n",
      " 23.6 19.4 24.4 26.5 21.8 23.1 26.1 23.1 22.0 19.8 26.2 23.5 28.1 21.6\n",
      " 22.4 22.4 22.3 24.7 22.3 24.7 23.7 27.5 23.2 25.0]\n",
      "all humidity:  [18.8 36.6 31.5 41.2 51.8 48.0 38.9 43.9 26.0 46.1 42.0 43.1 59.8 46.6\n",
      " 45.2 52.9 41.1 36.2 47.0 45.8 50.3 41.0 45.0 53.8 32.0 56.1 41.0 45.0\n",
      " 37.3 45.0 46.8 50.3 63.1 64.7 32.0 28.0 34.6 23.0]\n"
     ]
    }
   ],
   "source": [
    "temp_all  = my_array_ew[:,3]\n",
    "humid_all = my_array_ew[:,4]\n",
    "print(\"all temperature: \", temp_all) #  温度のリストをプリントしてみます\n",
    "print(\"all humidity: \", humid_all)   #　同様に湿度のリストもプリントします"
   ]
  },
  {
   "cell_type": "markdown",
   "metadata": {},
   "source": [
    "[b-27] では，温度のデータに集中します。温度のデータからヒストグラムを作ります。あるビンにあるエントリーの\n",
    "高さが$n$のときには，ポワソン分布の性質から，そのエラーは$\\sqrt{n}$となります。"
   ]
  },
  {
   "cell_type": "code",
   "execution_count": 24,
   "metadata": {},
   "outputs": [
    {
     "name": "stdout",
     "output_type": "stream",
     "text": [
      "hist_x:  [18.714285714285715 20.142857142857142 21.57142857142857 23.0\n",
      " 24.42857142857143 25.857142857142854 27.285714285714285]\n",
      "hist_y:  [ 1  1  8 11  7  6  3]\n",
      "hist_yerr:  [1.         1.         2.82842712 3.31662479 2.64575131 2.44948974\n",
      " 1.73205081]\n",
      "hist_y sum: 37\n",
      "fitting_calc sum: 36.89765861464475\n"
     ]
    },
    {
     "data": {
      "text/plain": [
       "0.002773655272387206"
      ]
     },
     "execution_count": 24,
     "metadata": {},
     "output_type": "execute_result"
    },
    {
     "data": {
      "image/png": "[encoded data removed]",
      "text/plain": [
       "<Figure size 432x288 with 1 Axes>"
      ]
     },
     "metadata": {
      "needs_background": "light"
     },
     "output_type": "display_data"
    }
   ],
   "source": [
    "from scipy.optimize import curve_fit\n",
    "\n",
    "# ＜＝ の印があるところは受講者が必要に応じて書き換える\n",
    "\n",
    "# 全温度情報を用いて，ヒストグラムを作る\n",
    "# [b-13]のグラフを参考にするとよい ここでは18-28度を 7分割する　\n",
    "hist_y,bins = np.histogram(temp_all,bins=7,range=(18.0,28.0)) # ＜＝\n",
    "hist_x = (bins[1:]+bins[:-1])/2\n",
    "hist_yerr = np.sqrt(hist_y)\n",
    "\n",
    "# ここで新たに作った配列の中身を確認しましょう。\n",
    "print(\"hist_x: \", hist_x)\n",
    "print(\"hist_y: \", hist_y)\n",
    "print(\"hist_yerr: \", hist_yerr)\n",
    "\n",
    "# エラー棒がついたヒストグラムの表示をします。\n",
    "# fmt = マーカーの表示(\"o\"=丸，\".\"=点，\"s\"=四角)\n",
    "plt.errorbar(hist_x, hist_y, yerr=hist_yerr, fmt='o')\n",
    "           \n",
    "# -- 関数式の定義 -----------------------------------------------   \n",
    "# 正規分布の定義式です。\n",
    "def func(x, a, mu, sigma):\n",
    "    return a*np.exp(-(x.astype(np.float64)-mu)**2/(2*sigma**2))\n",
    "# --------------------------------------------------------------\n",
    "\n",
    "# 以下で関数によるfitを行います。fitというのは，関数のパラメータを変化させて，その関数が一番よく\n",
    "# 頻度分布と一致するパラメータを探す作業です。curve_fitというメソッドを使うと，poptとpcovという\n",
    "# ２つの結果を返します。ここで使うのはpopt(最適パラメータ)の方です。\n",
    "\n",
    "param_ini = [10,20,10]  # パラメータへ初期値を入力 (高さ，中心値，幅の順番)　＜＝　　\n",
    "popt, pcov = curve_fit(func, hist_x, hist_y, p0=param_ini) # 頻度分布に関数fitをかけます。\n",
    "\n",
    "\n",
    "fit_x = np.linspace(16.0,30.0,100) # fitに用いる関数の範囲（x1,x2）と分割数（細かさ） ＜＝　\n",
    "fitting_draw = func(fit_x, popt[0],popt[1],popt[2])   # なめらかな関数を描くための関数を用意(100個の数字列)\n",
    "fitting_calc = func(hist_x, popt[0],popt[1],popt[2])  # 計算用にデータ点と同じx値のリストhist_x()を用意\n",
    "\n",
    "# print('fitting_calc:',fitting_calc)\n",
    "\n",
    "plt.plot(fit_x,fitting_draw,'k') # なめらかな曲線を描画\n",
    "\n",
    "print('hist_y sum:', hist_y.sum())\n",
    "print('fitting_calc sum:', fitting_calc.sum())\n",
    "(hist_y.sum()-fitting_calc.sum())/fitting_calc.sum()"
   ]
  },
  {
   "cell_type": "markdown",
   "metadata": {},
   "source": [
    "### $\\chi^2$の計算\n",
    "\n",
    "[b-28] 図を見てうまくfitができているか確認しましょう。Fitの曲線とデータ点との間の\n",
    "chi2を計算してみましょう。データ点のxの値に沿って，データ点のyの値(hist_y), 曲線の方のyの値（fitting_calc）\n",
    "があるので，それをstats.chisquareに渡してあげると，chi2の値と，p値を計算してくれます。"
   ]
  },
  {
   "cell_type": "code",
   "execution_count": 25,
   "metadata": {},
   "outputs": [
    {
     "name": "stdout",
     "output_type": "stream",
     "text": [
      "fit: 36.90, hist: 37.00 \n",
      "chisq:  5.53 \n"
     ]
    }
   ],
   "source": [
    "sum_fit=fitting_calc.sum()\n",
    "sum_hist=hist_y.sum()\n",
    "hist_yy = sum_fit/sum_hist * hist_y\n",
    "# print(\"fit: %5.2f, hist: %5.2f\" % sum_fit, sum_hist)\n",
    "print(\"fit: %5.2f, hist: %5.2f \" % (sum_fit,sum_hist))\n",
    "\n",
    "chisq, pvalue=stats.chisquare(fitting_calc, hist_yy, ddof=3)\n",
    "print(\"chisq: %5.2f \" % chisq)"
   ]
  },
  {
   "cell_type": "markdown",
   "metadata": {},
   "source": [
    "[b-29] これは大きいのでしょうか，小さいのでしょうか。適合度の検定はどういう結果になるのでしょうか。\n",
    "\n",
    "そこで優位度5%（両側検定を考えてそれぞれの端に2.5%）の検定をしましょう。データ数＝自由度\n",
    "なのですが，ここでは一つだけ注意が必要です。fitした際に，3パラメータの関数でfitしているので，\n",
    "自由度が３つ失われています。なので自由度=(データ数-3)のchi2分布の両端2.5%となる場合の\n",
    "xの範囲（信頼区間）を求めたいと思います。stats.chi2.intervalで信頼度(=1-有意度)を与えると，両端の\n",
    "xの値を返してくれます。"
   ]
  },
  {
   "cell_type": "code",
   "execution_count": 26,
   "metadata": {},
   "outputs": [
    {
     "name": "stdout",
     "output_type": "stream",
     "text": [
      "自由度 4 の chi2分布の p=0.025 に対応する値は  0.48 \n",
      "　　　　　　　　　　　　  p=0.975 に対応する値は 11.14 \n"
     ]
    }
   ],
   "source": [
    "# 2.5% と 97.5%\n",
    "df = len(hist_x)\n",
    "chi2_025, chi2_975 = stats.chi2.interval(alpha=0.95, df=df-3)\n",
    "print(\"自由度 %d の chi2分布の p=0.025 に対応する値は %5.2F \" % (df-3, chi2_025))\n",
    "print(\"　　　　　　　　　　　　  p=0.975 に対応する値は %5.2F \" % (chi2_975))\n",
    "\n"
   ]
  },
  {
   "cell_type": "markdown",
   "metadata": {},
   "source": [
    "## 実習３\n",
    "\n",
    "1. こちらのデータと正規分布が適合しているという帰無仮説は有意度5%の両側chi2検定で棄却されたのでしょうか，採択されたのでしょうか\n",
    "2. 片側5%検定にするにはどうすればよいでしょうか？適合度の検定の結果はどうなりますか？"
   ]
  },
  {
   "cell_type": "code",
   "execution_count": null,
   "metadata": {},
   "outputs": [],
   "source": []
  },
  {
   "cell_type": "code",
   "execution_count": null,
   "metadata": {},
   "outputs": [],
   "source": []
  },
  {
   "cell_type": "code",
   "execution_count": null,
   "metadata": {},
   "outputs": [],
   "source": []
  }
 ],
 "metadata": {
  "kernelspec": {
   "display_name": "Python 3",
   "language": "python",
   "name": "python3"
  },
  "language_info": {
   "codemirror_mode": {
    "name": "ipython",
    "version": 3
   },
   "file_extension": ".py",
   "mimetype": "text/x-python",
   "name": "python",
   "nbconvert_exporter": "python",
   "pygments_lexer": "ipython3",
   "version": "3.8.8"
  }
 },
 "nbformat": 4,
 "nbformat_minor": 4
}
